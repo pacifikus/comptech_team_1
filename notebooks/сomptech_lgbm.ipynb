{
  "nbformat": 4,
  "nbformat_minor": 0,
  "metadata": {
    "colab": {
      "name": "сomptech_data_preparation.ipynb",
      "provenance": [],
      "collapsed_sections": [
        "xJNABjDxoIZO",
        "xiySPuEFn4W2",
        "ySrcgkGUN8z7",
        "xF-zVmmHoNc9",
        "6EX3P8U-kCrp",
        "nF79-ZbzcppI",
        "iUlsnjQSK_aa",
        "tnlq9HYqkLww",
        "-IWeAjz5n1E2",
        "3ycV8JLc1qUp"
      ],
      "toc_visible": true
    },
    "kernelspec": {
      "name": "python3",
      "display_name": "Python 3"
    },
    "language_info": {
      "name": "python"
    }
  },
  "cells": [
    {
      "cell_type": "code",
      "execution_count": 876,
      "metadata": {
        "colab": {
          "base_uri": "https://localhost:8080/"
        },
        "id": "vaBPJy6shBpa",
        "outputId": "19cebe4d-2dfd-445a-e202-acf0d83eb34c"
      },
      "outputs": [
        {
          "output_type": "stream",
          "name": "stdout",
          "text": [
            "Drive already mounted at /content/gdrive; to attempt to forcibly remount, call drive.mount(\"/content/gdrive\", force_remount=True).\n"
          ]
        }
      ],
      "source": [
        "from google.colab import drive\n",
        "drive.mount('/content/gdrive')"
      ]
    },
    {
      "cell_type": "code",
      "source": [
        "%cd gdrive/MyDrive/comptech"
      ],
      "metadata": {
        "colab": {
          "base_uri": "https://localhost:8080/"
        },
        "id": "fFgZpa2WhCNh",
        "outputId": "936a2560-f18a-4a9d-ab7b-3f3fed3c8ebb"
      },
      "execution_count": 877,
      "outputs": [
        {
          "output_type": "stream",
          "name": "stdout",
          "text": [
            "[Errno 2] No such file or directory: 'gdrive/MyDrive/comptech'\n",
            "/content/gdrive/MyDrive/comptech\n"
          ]
        }
      ]
    },
    {
      "cell_type": "code",
      "source": [
        "import pandas as pd\n",
        "import numpy as np\n",
        "\n",
        "import seaborn as sns\n",
        "import matplotlib.pyplot as plt\n",
        "\n",
        "from datetime import timedelta\n",
        "from tqdm import tqdm\n",
        "import warnings\n",
        "import gc\n",
        "\n",
        "import holidays\n",
        "\n",
        "import lightgbm as lgb\n",
        "\n",
        "from sklearn.base import BaseEstimator\n",
        "from sklearn.metrics import mean_absolute_percentage_error"
      ],
      "metadata": {
        "id": "PEXAxsXEhSKW"
      },
      "execution_count": 878,
      "outputs": []
    },
    {
      "cell_type": "code",
      "source": [
        "tqdm.pandas()\n",
        "warnings.simplefilter('ignore')"
      ],
      "metadata": {
        "id": "RAzCKw2sewWo"
      },
      "execution_count": 879,
      "outputs": []
    },
    {
      "cell_type": "code",
      "source": [
        "%pylab inline\n",
        "plt.style.use('fivethirtyeight')\n",
        "sns.set(rc={'figure.figsize':(16, 6)})"
      ],
      "metadata": {
        "id": "327HVP95sTqR",
        "colab": {
          "base_uri": "https://localhost:8080/"
        },
        "outputId": "b2500cf1-7f74-473b-aa24-ab7e6d4a8174"
      },
      "execution_count": 880,
      "outputs": [
        {
          "output_type": "stream",
          "name": "stdout",
          "text": [
            "Populating the interactive namespace from numpy and matplotlib\n"
          ]
        }
      ]
    },
    {
      "cell_type": "code",
      "source": [
        "ORDERS_PATH = 'orders.csv'\n",
        "DELAYS_PATH = 'partners_delays.csv'\n",
        "SEED = 2021\n",
        "DATE_TEST_SPLIT = pd.to_datetime('2021-11-16')\n",
        "PREV_COLS_CNT = 30\n",
        "NEXT_COLS_CNT = 7\n",
        "EPS = 10e-7"
      ],
      "metadata": {
        "id": "8MDqcWhQhCRj"
      },
      "execution_count": 881,
      "outputs": []
    },
    {
      "cell_type": "markdown",
      "source": [
        "### Загрузка данных"
      ],
      "metadata": {
        "id": "0vf_TQLen8oW"
      }
    },
    {
      "cell_type": "code",
      "source": [
        "orders = pd.read_csv(ORDERS_PATH, parse_dates=['date'])\n",
        "delays = pd.read_csv(DELAYS_PATH, parse_dates=['dttm'])"
      ],
      "metadata": {
        "id": "2tB7U67QhCVT"
      },
      "execution_count": 882,
      "outputs": []
    },
    {
      "cell_type": "code",
      "source": [
        "orders.head()"
      ],
      "metadata": {
        "colab": {
          "base_uri": "https://localhost:8080/",
          "height": 206
        },
        "id": "2jqJ30qFhCZc",
        "outputId": "dc4c4c9e-1c5b-4dfb-f917-1e56d3ced918"
      },
      "execution_count": 883,
      "outputs": [
        {
          "output_type": "execute_result",
          "data": {
            "text/html": [
              "\n",
              "  <div id=\"df-0b719199-129a-4be6-a0b1-ee741a004c3b\">\n",
              "    <div class=\"colab-df-container\">\n",
              "      <div>\n",
              "<style scoped>\n",
              "    .dataframe tbody tr th:only-of-type {\n",
              "        vertical-align: middle;\n",
              "    }\n",
              "\n",
              "    .dataframe tbody tr th {\n",
              "        vertical-align: top;\n",
              "    }\n",
              "\n",
              "    .dataframe thead th {\n",
              "        text-align: right;\n",
              "    }\n",
              "</style>\n",
              "<table border=\"1\" class=\"dataframe\">\n",
              "  <thead>\n",
              "    <tr style=\"text-align: right;\">\n",
              "      <th></th>\n",
              "      <th>delivery_area_id</th>\n",
              "      <th>date</th>\n",
              "      <th>orders_cnt</th>\n",
              "    </tr>\n",
              "  </thead>\n",
              "  <tbody>\n",
              "    <tr>\n",
              "      <th>0</th>\n",
              "      <td>0</td>\n",
              "      <td>2021-04-01 10:00:00</td>\n",
              "      <td>9</td>\n",
              "    </tr>\n",
              "    <tr>\n",
              "      <th>1</th>\n",
              "      <td>0</td>\n",
              "      <td>2021-04-01 11:00:00</td>\n",
              "      <td>1</td>\n",
              "    </tr>\n",
              "    <tr>\n",
              "      <th>2</th>\n",
              "      <td>0</td>\n",
              "      <td>2021-04-01 13:00:00</td>\n",
              "      <td>1</td>\n",
              "    </tr>\n",
              "    <tr>\n",
              "      <th>3</th>\n",
              "      <td>0</td>\n",
              "      <td>2021-04-01 14:00:00</td>\n",
              "      <td>1</td>\n",
              "    </tr>\n",
              "    <tr>\n",
              "      <th>4</th>\n",
              "      <td>0</td>\n",
              "      <td>2021-04-01 15:00:00</td>\n",
              "      <td>2</td>\n",
              "    </tr>\n",
              "  </tbody>\n",
              "</table>\n",
              "</div>\n",
              "      <button class=\"colab-df-convert\" onclick=\"convertToInteractive('df-0b719199-129a-4be6-a0b1-ee741a004c3b')\"\n",
              "              title=\"Convert this dataframe to an interactive table.\"\n",
              "              style=\"display:none;\">\n",
              "        \n",
              "  <svg xmlns=\"http://www.w3.org/2000/svg\" height=\"24px\"viewBox=\"0 0 24 24\"\n",
              "       width=\"24px\">\n",
              "    <path d=\"M0 0h24v24H0V0z\" fill=\"none\"/>\n",
              "    <path d=\"M18.56 5.44l.94 2.06.94-2.06 2.06-.94-2.06-.94-.94-2.06-.94 2.06-2.06.94zm-11 1L8.5 8.5l.94-2.06 2.06-.94-2.06-.94L8.5 2.5l-.94 2.06-2.06.94zm10 10l.94 2.06.94-2.06 2.06-.94-2.06-.94-.94-2.06-.94 2.06-2.06.94z\"/><path d=\"M17.41 7.96l-1.37-1.37c-.4-.4-.92-.59-1.43-.59-.52 0-1.04.2-1.43.59L10.3 9.45l-7.72 7.72c-.78.78-.78 2.05 0 2.83L4 21.41c.39.39.9.59 1.41.59.51 0 1.02-.2 1.41-.59l7.78-7.78 2.81-2.81c.8-.78.8-2.07 0-2.86zM5.41 20L4 18.59l7.72-7.72 1.47 1.35L5.41 20z\"/>\n",
              "  </svg>\n",
              "      </button>\n",
              "      \n",
              "  <style>\n",
              "    .colab-df-container {\n",
              "      display:flex;\n",
              "      flex-wrap:wrap;\n",
              "      gap: 12px;\n",
              "    }\n",
              "\n",
              "    .colab-df-convert {\n",
              "      background-color: #E8F0FE;\n",
              "      border: none;\n",
              "      border-radius: 50%;\n",
              "      cursor: pointer;\n",
              "      display: none;\n",
              "      fill: #1967D2;\n",
              "      height: 32px;\n",
              "      padding: 0 0 0 0;\n",
              "      width: 32px;\n",
              "    }\n",
              "\n",
              "    .colab-df-convert:hover {\n",
              "      background-color: #E2EBFA;\n",
              "      box-shadow: 0px 1px 2px rgba(60, 64, 67, 0.3), 0px 1px 3px 1px rgba(60, 64, 67, 0.15);\n",
              "      fill: #174EA6;\n",
              "    }\n",
              "\n",
              "    [theme=dark] .colab-df-convert {\n",
              "      background-color: #3B4455;\n",
              "      fill: #D2E3FC;\n",
              "    }\n",
              "\n",
              "    [theme=dark] .colab-df-convert:hover {\n",
              "      background-color: #434B5C;\n",
              "      box-shadow: 0px 1px 3px 1px rgba(0, 0, 0, 0.15);\n",
              "      filter: drop-shadow(0px 1px 2px rgba(0, 0, 0, 0.3));\n",
              "      fill: #FFFFFF;\n",
              "    }\n",
              "  </style>\n",
              "\n",
              "      <script>\n",
              "        const buttonEl =\n",
              "          document.querySelector('#df-0b719199-129a-4be6-a0b1-ee741a004c3b button.colab-df-convert');\n",
              "        buttonEl.style.display =\n",
              "          google.colab.kernel.accessAllowed ? 'block' : 'none';\n",
              "\n",
              "        async function convertToInteractive(key) {\n",
              "          const element = document.querySelector('#df-0b719199-129a-4be6-a0b1-ee741a004c3b');\n",
              "          const dataTable =\n",
              "            await google.colab.kernel.invokeFunction('convertToInteractive',\n",
              "                                                     [key], {});\n",
              "          if (!dataTable) return;\n",
              "\n",
              "          const docLinkHtml = 'Like what you see? Visit the ' +\n",
              "            '<a target=\"_blank\" href=https://colab.research.google.com/notebooks/data_table.ipynb>data table notebook</a>'\n",
              "            + ' to learn more about interactive tables.';\n",
              "          element.innerHTML = '';\n",
              "          dataTable['output_type'] = 'display_data';\n",
              "          await google.colab.output.renderOutput(dataTable, element);\n",
              "          const docLink = document.createElement('div');\n",
              "          docLink.innerHTML = docLinkHtml;\n",
              "          element.appendChild(docLink);\n",
              "        }\n",
              "      </script>\n",
              "    </div>\n",
              "  </div>\n",
              "  "
            ],
            "text/plain": [
              "   delivery_area_id                date  orders_cnt\n",
              "0                 0 2021-04-01 10:00:00           9\n",
              "1                 0 2021-04-01 11:00:00           1\n",
              "2                 0 2021-04-01 13:00:00           1\n",
              "3                 0 2021-04-01 14:00:00           1\n",
              "4                 0 2021-04-01 15:00:00           2"
            ]
          },
          "metadata": {},
          "execution_count": 883
        }
      ]
    },
    {
      "cell_type": "code",
      "source": [
        "delays.head()"
      ],
      "metadata": {
        "colab": {
          "base_uri": "https://localhost:8080/",
          "height": 206
        },
        "id": "kyFZ9kFBhCdE",
        "outputId": "79a44429-e28f-4781-da0e-a0554c5ff3f5"
      },
      "execution_count": 884,
      "outputs": [
        {
          "output_type": "execute_result",
          "data": {
            "text/html": [
              "\n",
              "  <div id=\"df-46e8bcec-3f8c-460e-9b86-d504c781dbbe\">\n",
              "    <div class=\"colab-df-container\">\n",
              "      <div>\n",
              "<style scoped>\n",
              "    .dataframe tbody tr th:only-of-type {\n",
              "        vertical-align: middle;\n",
              "    }\n",
              "\n",
              "    .dataframe tbody tr th {\n",
              "        vertical-align: top;\n",
              "    }\n",
              "\n",
              "    .dataframe thead th {\n",
              "        text-align: right;\n",
              "    }\n",
              "</style>\n",
              "<table border=\"1\" class=\"dataframe\">\n",
              "  <thead>\n",
              "    <tr style=\"text-align: right;\">\n",
              "      <th></th>\n",
              "      <th>delivery_area_id</th>\n",
              "      <th>dttm</th>\n",
              "      <th>partners_cnt</th>\n",
              "      <th>delay_rate</th>\n",
              "    </tr>\n",
              "  </thead>\n",
              "  <tbody>\n",
              "    <tr>\n",
              "      <th>0</th>\n",
              "      <td>0</td>\n",
              "      <td>2021-04-01 09:00:00</td>\n",
              "      <td>3.0</td>\n",
              "      <td>0.000000</td>\n",
              "    </tr>\n",
              "    <tr>\n",
              "      <th>1</th>\n",
              "      <td>0</td>\n",
              "      <td>2021-04-01 10:00:00</td>\n",
              "      <td>4.0</td>\n",
              "      <td>0.111111</td>\n",
              "    </tr>\n",
              "    <tr>\n",
              "      <th>2</th>\n",
              "      <td>0</td>\n",
              "      <td>2021-04-01 11:00:00</td>\n",
              "      <td>4.0</td>\n",
              "      <td>0.000000</td>\n",
              "    </tr>\n",
              "    <tr>\n",
              "      <th>3</th>\n",
              "      <td>0</td>\n",
              "      <td>2021-04-01 12:00:00</td>\n",
              "      <td>4.0</td>\n",
              "      <td>0.000000</td>\n",
              "    </tr>\n",
              "    <tr>\n",
              "      <th>4</th>\n",
              "      <td>0</td>\n",
              "      <td>2021-04-01 13:00:00</td>\n",
              "      <td>1.0</td>\n",
              "      <td>0.000000</td>\n",
              "    </tr>\n",
              "  </tbody>\n",
              "</table>\n",
              "</div>\n",
              "      <button class=\"colab-df-convert\" onclick=\"convertToInteractive('df-46e8bcec-3f8c-460e-9b86-d504c781dbbe')\"\n",
              "              title=\"Convert this dataframe to an interactive table.\"\n",
              "              style=\"display:none;\">\n",
              "        \n",
              "  <svg xmlns=\"http://www.w3.org/2000/svg\" height=\"24px\"viewBox=\"0 0 24 24\"\n",
              "       width=\"24px\">\n",
              "    <path d=\"M0 0h24v24H0V0z\" fill=\"none\"/>\n",
              "    <path d=\"M18.56 5.44l.94 2.06.94-2.06 2.06-.94-2.06-.94-.94-2.06-.94 2.06-2.06.94zm-11 1L8.5 8.5l.94-2.06 2.06-.94-2.06-.94L8.5 2.5l-.94 2.06-2.06.94zm10 10l.94 2.06.94-2.06 2.06-.94-2.06-.94-.94-2.06-.94 2.06-2.06.94z\"/><path d=\"M17.41 7.96l-1.37-1.37c-.4-.4-.92-.59-1.43-.59-.52 0-1.04.2-1.43.59L10.3 9.45l-7.72 7.72c-.78.78-.78 2.05 0 2.83L4 21.41c.39.39.9.59 1.41.59.51 0 1.02-.2 1.41-.59l7.78-7.78 2.81-2.81c.8-.78.8-2.07 0-2.86zM5.41 20L4 18.59l7.72-7.72 1.47 1.35L5.41 20z\"/>\n",
              "  </svg>\n",
              "      </button>\n",
              "      \n",
              "  <style>\n",
              "    .colab-df-container {\n",
              "      display:flex;\n",
              "      flex-wrap:wrap;\n",
              "      gap: 12px;\n",
              "    }\n",
              "\n",
              "    .colab-df-convert {\n",
              "      background-color: #E8F0FE;\n",
              "      border: none;\n",
              "      border-radius: 50%;\n",
              "      cursor: pointer;\n",
              "      display: none;\n",
              "      fill: #1967D2;\n",
              "      height: 32px;\n",
              "      padding: 0 0 0 0;\n",
              "      width: 32px;\n",
              "    }\n",
              "\n",
              "    .colab-df-convert:hover {\n",
              "      background-color: #E2EBFA;\n",
              "      box-shadow: 0px 1px 2px rgba(60, 64, 67, 0.3), 0px 1px 3px 1px rgba(60, 64, 67, 0.15);\n",
              "      fill: #174EA6;\n",
              "    }\n",
              "\n",
              "    [theme=dark] .colab-df-convert {\n",
              "      background-color: #3B4455;\n",
              "      fill: #D2E3FC;\n",
              "    }\n",
              "\n",
              "    [theme=dark] .colab-df-convert:hover {\n",
              "      background-color: #434B5C;\n",
              "      box-shadow: 0px 1px 3px 1px rgba(0, 0, 0, 0.15);\n",
              "      filter: drop-shadow(0px 1px 2px rgba(0, 0, 0, 0.3));\n",
              "      fill: #FFFFFF;\n",
              "    }\n",
              "  </style>\n",
              "\n",
              "      <script>\n",
              "        const buttonEl =\n",
              "          document.querySelector('#df-46e8bcec-3f8c-460e-9b86-d504c781dbbe button.colab-df-convert');\n",
              "        buttonEl.style.display =\n",
              "          google.colab.kernel.accessAllowed ? 'block' : 'none';\n",
              "\n",
              "        async function convertToInteractive(key) {\n",
              "          const element = document.querySelector('#df-46e8bcec-3f8c-460e-9b86-d504c781dbbe');\n",
              "          const dataTable =\n",
              "            await google.colab.kernel.invokeFunction('convertToInteractive',\n",
              "                                                     [key], {});\n",
              "          if (!dataTable) return;\n",
              "\n",
              "          const docLinkHtml = 'Like what you see? Visit the ' +\n",
              "            '<a target=\"_blank\" href=https://colab.research.google.com/notebooks/data_table.ipynb>data table notebook</a>'\n",
              "            + ' to learn more about interactive tables.';\n",
              "          element.innerHTML = '';\n",
              "          dataTable['output_type'] = 'display_data';\n",
              "          await google.colab.output.renderOutput(dataTable, element);\n",
              "          const docLink = document.createElement('div');\n",
              "          docLink.innerHTML = docLinkHtml;\n",
              "          element.appendChild(docLink);\n",
              "        }\n",
              "      </script>\n",
              "    </div>\n",
              "  </div>\n",
              "  "
            ],
            "text/plain": [
              "   delivery_area_id                dttm  partners_cnt  delay_rate\n",
              "0                 0 2021-04-01 09:00:00           3.0    0.000000\n",
              "1                 0 2021-04-01 10:00:00           4.0    0.111111\n",
              "2                 0 2021-04-01 11:00:00           4.0    0.000000\n",
              "3                 0 2021-04-01 12:00:00           4.0    0.000000\n",
              "4                 0 2021-04-01 13:00:00           1.0    0.000000"
            ]
          },
          "metadata": {},
          "execution_count": 884
        }
      ]
    },
    {
      "cell_type": "markdown",
      "source": [
        "#### Праздничные и выходные дни"
      ],
      "metadata": {
        "id": "TFU6gJLjgHOq"
      }
    },
    {
      "cell_type": "code",
      "source": [
        "dayoffs = [\n",
        "  '2021.01.01','2021.01.02','2021.01.03','2021.01.04','2021.01.05','2021.01.06','2021.01.07','2021.01.08','2021.01.09','2021.01.10','2021.01.16','2021.01.17','2021.01.23',\n",
        "  '2021.01.24','2021.01.30','2021.01.31','2021.02.06','2021.02.07','2021.02.13','2021.02.14','2021.02.21','2021.02.22','2021.02.23','2021.02.27','2021.02.28','2021.03.06',\n",
        "  '2021.03.07','2021.03.08','2021.03.13','2021.03.14','2021.03.20','2021.03.21','2021.03.27','2021.03.28','2021.04.03','2021.04.04','2021.04.10','2021.04.11','2021.04.17',\n",
        "  '2021.04.18','2021.04.24','2021.04.25','2021.05.01','2021.05.02','2021.05.03','2021.05.04','2021.05.05','2021.05.06','2021.05.07','2021.05.08','2021.05.09','2021.05.10',\n",
        "  '2021.05.15','2021.05.16','2021.05.22','2021.05.23','2021.05.29','2021.05.30','2021.06.05','2021.06.06','2021.06.12','2021.06.13','2021.06.14','2021.06.19','2021.06.20',\n",
        "  '2021.06.26','2021.06.27','2021.07.03','2021.07.04','2021.07.10','2021.07.11','2021.07.17','2021.07.18','2021.07.24','2021.07.25','2021.07.31','2021.08.01','2021.08.07',\n",
        "  '2021.08.08','2021.08.14','2021.08.15','2021.08.21','2021.08.22','2021.08.28','2021.08.29','2021.09.04','2021.09.05','2021.09.11','2021.09.12','2021.09.18','2021.09.19',\n",
        "  '2021.09.25','2021.09.26','2021.10.02','2021.10.03','2021.10.09','2021.10.10','2021.10.16','2021.10.17','2021.10.23','2021.10.24','2021.10.30','2021.10.31','2021.11.01',\n",
        "  '2021.11.02','2021.11.03','2021.11.04','2021.11.05','2021.11.06','2021.11.07','2021.11.13','2021.11.14','2021.11.20','2021.11.21','2021.11.27','2021.11.28','2021.12.04',\n",
        "  '2021.12.05','2021.12.11','2021.12.12','2021.12.18','2021.12.19','2021.12.25','2021.12.26','2021.12.31'\n",
        "]\n",
        "dayoffs = [pd.to_datetime(day) for day in dayoffs]"
      ],
      "metadata": {
        "id": "w3ssxEgxgGtW"
      },
      "execution_count": 885,
      "outputs": []
    },
    {
      "cell_type": "code",
      "source": [
        "holidays_dict = holidays.RU(years=(2021))\n",
        "df_holidays = pd.DataFrame.from_dict(holidays_dict, orient='index').reset_index()\n",
        "df_holidays.columns = ['ds', 'holiday']\n",
        "df_holidays['ds'] = pd.to_datetime(df_holidays['ds'])\n",
        "df_holidays.head()"
      ],
      "metadata": {
        "colab": {
          "base_uri": "https://localhost:8080/",
          "height": 206
        },
        "id": "uWQ4TZ-PoXsR",
        "outputId": "6c0f6292-8882-4e94-b240-35db97012968"
      },
      "execution_count": 886,
      "outputs": [
        {
          "output_type": "execute_result",
          "data": {
            "text/html": [
              "\n",
              "  <div id=\"df-ecd91a3b-389a-4011-a2cc-8c9b4eab1232\">\n",
              "    <div class=\"colab-df-container\">\n",
              "      <div>\n",
              "<style scoped>\n",
              "    .dataframe tbody tr th:only-of-type {\n",
              "        vertical-align: middle;\n",
              "    }\n",
              "\n",
              "    .dataframe tbody tr th {\n",
              "        vertical-align: top;\n",
              "    }\n",
              "\n",
              "    .dataframe thead th {\n",
              "        text-align: right;\n",
              "    }\n",
              "</style>\n",
              "<table border=\"1\" class=\"dataframe\">\n",
              "  <thead>\n",
              "    <tr style=\"text-align: right;\">\n",
              "      <th></th>\n",
              "      <th>ds</th>\n",
              "      <th>holiday</th>\n",
              "    </tr>\n",
              "  </thead>\n",
              "  <tbody>\n",
              "    <tr>\n",
              "      <th>0</th>\n",
              "      <td>2021-01-01</td>\n",
              "      <td>Новый год</td>\n",
              "    </tr>\n",
              "    <tr>\n",
              "      <th>1</th>\n",
              "      <td>2021-01-02</td>\n",
              "      <td>Новый год</td>\n",
              "    </tr>\n",
              "    <tr>\n",
              "      <th>2</th>\n",
              "      <td>2021-01-03</td>\n",
              "      <td>Новый год</td>\n",
              "    </tr>\n",
              "    <tr>\n",
              "      <th>3</th>\n",
              "      <td>2021-01-04</td>\n",
              "      <td>Новый год</td>\n",
              "    </tr>\n",
              "    <tr>\n",
              "      <th>4</th>\n",
              "      <td>2021-01-05</td>\n",
              "      <td>Новый год</td>\n",
              "    </tr>\n",
              "  </tbody>\n",
              "</table>\n",
              "</div>\n",
              "      <button class=\"colab-df-convert\" onclick=\"convertToInteractive('df-ecd91a3b-389a-4011-a2cc-8c9b4eab1232')\"\n",
              "              title=\"Convert this dataframe to an interactive table.\"\n",
              "              style=\"display:none;\">\n",
              "        \n",
              "  <svg xmlns=\"http://www.w3.org/2000/svg\" height=\"24px\"viewBox=\"0 0 24 24\"\n",
              "       width=\"24px\">\n",
              "    <path d=\"M0 0h24v24H0V0z\" fill=\"none\"/>\n",
              "    <path d=\"M18.56 5.44l.94 2.06.94-2.06 2.06-.94-2.06-.94-.94-2.06-.94 2.06-2.06.94zm-11 1L8.5 8.5l.94-2.06 2.06-.94-2.06-.94L8.5 2.5l-.94 2.06-2.06.94zm10 10l.94 2.06.94-2.06 2.06-.94-2.06-.94-.94-2.06-.94 2.06-2.06.94z\"/><path d=\"M17.41 7.96l-1.37-1.37c-.4-.4-.92-.59-1.43-.59-.52 0-1.04.2-1.43.59L10.3 9.45l-7.72 7.72c-.78.78-.78 2.05 0 2.83L4 21.41c.39.39.9.59 1.41.59.51 0 1.02-.2 1.41-.59l7.78-7.78 2.81-2.81c.8-.78.8-2.07 0-2.86zM5.41 20L4 18.59l7.72-7.72 1.47 1.35L5.41 20z\"/>\n",
              "  </svg>\n",
              "      </button>\n",
              "      \n",
              "  <style>\n",
              "    .colab-df-container {\n",
              "      display:flex;\n",
              "      flex-wrap:wrap;\n",
              "      gap: 12px;\n",
              "    }\n",
              "\n",
              "    .colab-df-convert {\n",
              "      background-color: #E8F0FE;\n",
              "      border: none;\n",
              "      border-radius: 50%;\n",
              "      cursor: pointer;\n",
              "      display: none;\n",
              "      fill: #1967D2;\n",
              "      height: 32px;\n",
              "      padding: 0 0 0 0;\n",
              "      width: 32px;\n",
              "    }\n",
              "\n",
              "    .colab-df-convert:hover {\n",
              "      background-color: #E2EBFA;\n",
              "      box-shadow: 0px 1px 2px rgba(60, 64, 67, 0.3), 0px 1px 3px 1px rgba(60, 64, 67, 0.15);\n",
              "      fill: #174EA6;\n",
              "    }\n",
              "\n",
              "    [theme=dark] .colab-df-convert {\n",
              "      background-color: #3B4455;\n",
              "      fill: #D2E3FC;\n",
              "    }\n",
              "\n",
              "    [theme=dark] .colab-df-convert:hover {\n",
              "      background-color: #434B5C;\n",
              "      box-shadow: 0px 1px 3px 1px rgba(0, 0, 0, 0.15);\n",
              "      filter: drop-shadow(0px 1px 2px rgba(0, 0, 0, 0.3));\n",
              "      fill: #FFFFFF;\n",
              "    }\n",
              "  </style>\n",
              "\n",
              "      <script>\n",
              "        const buttonEl =\n",
              "          document.querySelector('#df-ecd91a3b-389a-4011-a2cc-8c9b4eab1232 button.colab-df-convert');\n",
              "        buttonEl.style.display =\n",
              "          google.colab.kernel.accessAllowed ? 'block' : 'none';\n",
              "\n",
              "        async function convertToInteractive(key) {\n",
              "          const element = document.querySelector('#df-ecd91a3b-389a-4011-a2cc-8c9b4eab1232');\n",
              "          const dataTable =\n",
              "            await google.colab.kernel.invokeFunction('convertToInteractive',\n",
              "                                                     [key], {});\n",
              "          if (!dataTable) return;\n",
              "\n",
              "          const docLinkHtml = 'Like what you see? Visit the ' +\n",
              "            '<a target=\"_blank\" href=https://colab.research.google.com/notebooks/data_table.ipynb>data table notebook</a>'\n",
              "            + ' to learn more about interactive tables.';\n",
              "          element.innerHTML = '';\n",
              "          dataTable['output_type'] = 'display_data';\n",
              "          await google.colab.output.renderOutput(dataTable, element);\n",
              "          const docLink = document.createElement('div');\n",
              "          docLink.innerHTML = docLinkHtml;\n",
              "          element.appendChild(docLink);\n",
              "        }\n",
              "      </script>\n",
              "    </div>\n",
              "  </div>\n",
              "  "
            ],
            "text/plain": [
              "          ds    holiday\n",
              "0 2021-01-01  Новый год\n",
              "1 2021-01-02  Новый год\n",
              "2 2021-01-03  Новый год\n",
              "3 2021-01-04  Новый год\n",
              "4 2021-01-05  Новый год"
            ]
          },
          "metadata": {},
          "execution_count": 886
        }
      ]
    },
    {
      "cell_type": "markdown",
      "source": [
        "#### Описательные статистики"
      ],
      "metadata": {
        "id": "xJNABjDxoIZO"
      }
    },
    {
      "cell_type": "code",
      "source": [
        "delays.describe()"
      ],
      "metadata": {
        "colab": {
          "base_uri": "https://localhost:8080/",
          "height": 0
        },
        "id": "hBt7B49SkvvN",
        "outputId": "ce24d6f7-440a-4a81-a58f-e40077a142ee"
      },
      "execution_count": 887,
      "outputs": [
        {
          "output_type": "execute_result",
          "data": {
            "text/html": [
              "\n",
              "  <div id=\"df-ba12dcd7-7f89-4b39-b502-90255b1a0753\">\n",
              "    <div class=\"colab-df-container\">\n",
              "      <div>\n",
              "<style scoped>\n",
              "    .dataframe tbody tr th:only-of-type {\n",
              "        vertical-align: middle;\n",
              "    }\n",
              "\n",
              "    .dataframe tbody tr th {\n",
              "        vertical-align: top;\n",
              "    }\n",
              "\n",
              "    .dataframe thead th {\n",
              "        text-align: right;\n",
              "    }\n",
              "</style>\n",
              "<table border=\"1\" class=\"dataframe\">\n",
              "  <thead>\n",
              "    <tr style=\"text-align: right;\">\n",
              "      <th></th>\n",
              "      <th>delivery_area_id</th>\n",
              "      <th>partners_cnt</th>\n",
              "      <th>delay_rate</th>\n",
              "    </tr>\n",
              "  </thead>\n",
              "  <tbody>\n",
              "    <tr>\n",
              "      <th>count</th>\n",
              "      <td>1.247471e+06</td>\n",
              "      <td>1.247471e+06</td>\n",
              "      <td>1.247471e+06</td>\n",
              "    </tr>\n",
              "    <tr>\n",
              "      <th>mean</th>\n",
              "      <td>2.698000e+02</td>\n",
              "      <td>2.026328e+00</td>\n",
              "      <td>2.831878e-02</td>\n",
              "    </tr>\n",
              "    <tr>\n",
              "      <th>std</th>\n",
              "      <td>1.765557e+02</td>\n",
              "      <td>1.671793e+00</td>\n",
              "      <td>1.009584e-01</td>\n",
              "    </tr>\n",
              "    <tr>\n",
              "      <th>min</th>\n",
              "      <td>0.000000e+00</td>\n",
              "      <td>1.000000e+00</td>\n",
              "      <td>0.000000e+00</td>\n",
              "    </tr>\n",
              "    <tr>\n",
              "      <th>25%</th>\n",
              "      <td>1.050000e+02</td>\n",
              "      <td>1.000000e+00</td>\n",
              "      <td>0.000000e+00</td>\n",
              "    </tr>\n",
              "    <tr>\n",
              "      <th>50%</th>\n",
              "      <td>2.650000e+02</td>\n",
              "      <td>1.000000e+00</td>\n",
              "      <td>0.000000e+00</td>\n",
              "    </tr>\n",
              "    <tr>\n",
              "      <th>75%</th>\n",
              "      <td>4.210000e+02</td>\n",
              "      <td>2.000000e+00</td>\n",
              "      <td>0.000000e+00</td>\n",
              "    </tr>\n",
              "    <tr>\n",
              "      <th>max</th>\n",
              "      <td>5.920000e+02</td>\n",
              "      <td>6.000000e+01</td>\n",
              "      <td>1.000000e+00</td>\n",
              "    </tr>\n",
              "  </tbody>\n",
              "</table>\n",
              "</div>\n",
              "      <button class=\"colab-df-convert\" onclick=\"convertToInteractive('df-ba12dcd7-7f89-4b39-b502-90255b1a0753')\"\n",
              "              title=\"Convert this dataframe to an interactive table.\"\n",
              "              style=\"display:none;\">\n",
              "        \n",
              "  <svg xmlns=\"http://www.w3.org/2000/svg\" height=\"24px\"viewBox=\"0 0 24 24\"\n",
              "       width=\"24px\">\n",
              "    <path d=\"M0 0h24v24H0V0z\" fill=\"none\"/>\n",
              "    <path d=\"M18.56 5.44l.94 2.06.94-2.06 2.06-.94-2.06-.94-.94-2.06-.94 2.06-2.06.94zm-11 1L8.5 8.5l.94-2.06 2.06-.94-2.06-.94L8.5 2.5l-.94 2.06-2.06.94zm10 10l.94 2.06.94-2.06 2.06-.94-2.06-.94-.94-2.06-.94 2.06-2.06.94z\"/><path d=\"M17.41 7.96l-1.37-1.37c-.4-.4-.92-.59-1.43-.59-.52 0-1.04.2-1.43.59L10.3 9.45l-7.72 7.72c-.78.78-.78 2.05 0 2.83L4 21.41c.39.39.9.59 1.41.59.51 0 1.02-.2 1.41-.59l7.78-7.78 2.81-2.81c.8-.78.8-2.07 0-2.86zM5.41 20L4 18.59l7.72-7.72 1.47 1.35L5.41 20z\"/>\n",
              "  </svg>\n",
              "      </button>\n",
              "      \n",
              "  <style>\n",
              "    .colab-df-container {\n",
              "      display:flex;\n",
              "      flex-wrap:wrap;\n",
              "      gap: 12px;\n",
              "    }\n",
              "\n",
              "    .colab-df-convert {\n",
              "      background-color: #E8F0FE;\n",
              "      border: none;\n",
              "      border-radius: 50%;\n",
              "      cursor: pointer;\n",
              "      display: none;\n",
              "      fill: #1967D2;\n",
              "      height: 32px;\n",
              "      padding: 0 0 0 0;\n",
              "      width: 32px;\n",
              "    }\n",
              "\n",
              "    .colab-df-convert:hover {\n",
              "      background-color: #E2EBFA;\n",
              "      box-shadow: 0px 1px 2px rgba(60, 64, 67, 0.3), 0px 1px 3px 1px rgba(60, 64, 67, 0.15);\n",
              "      fill: #174EA6;\n",
              "    }\n",
              "\n",
              "    [theme=dark] .colab-df-convert {\n",
              "      background-color: #3B4455;\n",
              "      fill: #D2E3FC;\n",
              "    }\n",
              "\n",
              "    [theme=dark] .colab-df-convert:hover {\n",
              "      background-color: #434B5C;\n",
              "      box-shadow: 0px 1px 3px 1px rgba(0, 0, 0, 0.15);\n",
              "      filter: drop-shadow(0px 1px 2px rgba(0, 0, 0, 0.3));\n",
              "      fill: #FFFFFF;\n",
              "    }\n",
              "  </style>\n",
              "\n",
              "      <script>\n",
              "        const buttonEl =\n",
              "          document.querySelector('#df-ba12dcd7-7f89-4b39-b502-90255b1a0753 button.colab-df-convert');\n",
              "        buttonEl.style.display =\n",
              "          google.colab.kernel.accessAllowed ? 'block' : 'none';\n",
              "\n",
              "        async function convertToInteractive(key) {\n",
              "          const element = document.querySelector('#df-ba12dcd7-7f89-4b39-b502-90255b1a0753');\n",
              "          const dataTable =\n",
              "            await google.colab.kernel.invokeFunction('convertToInteractive',\n",
              "                                                     [key], {});\n",
              "          if (!dataTable) return;\n",
              "\n",
              "          const docLinkHtml = 'Like what you see? Visit the ' +\n",
              "            '<a target=\"_blank\" href=https://colab.research.google.com/notebooks/data_table.ipynb>data table notebook</a>'\n",
              "            + ' to learn more about interactive tables.';\n",
              "          element.innerHTML = '';\n",
              "          dataTable['output_type'] = 'display_data';\n",
              "          await google.colab.output.renderOutput(dataTable, element);\n",
              "          const docLink = document.createElement('div');\n",
              "          docLink.innerHTML = docLinkHtml;\n",
              "          element.appendChild(docLink);\n",
              "        }\n",
              "      </script>\n",
              "    </div>\n",
              "  </div>\n",
              "  "
            ],
            "text/plain": [
              "       delivery_area_id  partners_cnt    delay_rate\n",
              "count      1.247471e+06  1.247471e+06  1.247471e+06\n",
              "mean       2.698000e+02  2.026328e+00  2.831878e-02\n",
              "std        1.765557e+02  1.671793e+00  1.009584e-01\n",
              "min        0.000000e+00  1.000000e+00  0.000000e+00\n",
              "25%        1.050000e+02  1.000000e+00  0.000000e+00\n",
              "50%        2.650000e+02  1.000000e+00  0.000000e+00\n",
              "75%        4.210000e+02  2.000000e+00  0.000000e+00\n",
              "max        5.920000e+02  6.000000e+01  1.000000e+00"
            ]
          },
          "metadata": {},
          "execution_count": 887
        }
      ]
    },
    {
      "cell_type": "code",
      "source": [
        "orders.describe()"
      ],
      "metadata": {
        "id": "H4fiLJMhkvrx",
        "colab": {
          "base_uri": "https://localhost:8080/",
          "height": 0
        },
        "outputId": "d6c56b04-4526-4eb5-aeac-865d52deb06d"
      },
      "execution_count": 888,
      "outputs": [
        {
          "output_type": "execute_result",
          "data": {
            "text/html": [
              "\n",
              "  <div id=\"df-877d742c-b3e9-4825-8480-458707a7423f\">\n",
              "    <div class=\"colab-df-container\">\n",
              "      <div>\n",
              "<style scoped>\n",
              "    .dataframe tbody tr th:only-of-type {\n",
              "        vertical-align: middle;\n",
              "    }\n",
              "\n",
              "    .dataframe tbody tr th {\n",
              "        vertical-align: top;\n",
              "    }\n",
              "\n",
              "    .dataframe thead th {\n",
              "        text-align: right;\n",
              "    }\n",
              "</style>\n",
              "<table border=\"1\" class=\"dataframe\">\n",
              "  <thead>\n",
              "    <tr style=\"text-align: right;\">\n",
              "      <th></th>\n",
              "      <th>delivery_area_id</th>\n",
              "      <th>orders_cnt</th>\n",
              "    </tr>\n",
              "  </thead>\n",
              "  <tbody>\n",
              "    <tr>\n",
              "      <th>count</th>\n",
              "      <td>884856.000000</td>\n",
              "      <td>884856.000000</td>\n",
              "    </tr>\n",
              "    <tr>\n",
              "      <th>mean</th>\n",
              "      <td>259.623341</td>\n",
              "      <td>3.790038</td>\n",
              "    </tr>\n",
              "    <tr>\n",
              "      <th>std</th>\n",
              "      <td>178.580787</td>\n",
              "      <td>3.808991</td>\n",
              "    </tr>\n",
              "    <tr>\n",
              "      <th>min</th>\n",
              "      <td>0.000000</td>\n",
              "      <td>1.000000</td>\n",
              "    </tr>\n",
              "    <tr>\n",
              "      <th>25%</th>\n",
              "      <td>88.000000</td>\n",
              "      <td>1.000000</td>\n",
              "    </tr>\n",
              "    <tr>\n",
              "      <th>50%</th>\n",
              "      <td>253.000000</td>\n",
              "      <td>3.000000</td>\n",
              "    </tr>\n",
              "    <tr>\n",
              "      <th>75%</th>\n",
              "      <td>416.000000</td>\n",
              "      <td>5.000000</td>\n",
              "    </tr>\n",
              "    <tr>\n",
              "      <th>max</th>\n",
              "      <td>592.000000</td>\n",
              "      <td>120.000000</td>\n",
              "    </tr>\n",
              "  </tbody>\n",
              "</table>\n",
              "</div>\n",
              "      <button class=\"colab-df-convert\" onclick=\"convertToInteractive('df-877d742c-b3e9-4825-8480-458707a7423f')\"\n",
              "              title=\"Convert this dataframe to an interactive table.\"\n",
              "              style=\"display:none;\">\n",
              "        \n",
              "  <svg xmlns=\"http://www.w3.org/2000/svg\" height=\"24px\"viewBox=\"0 0 24 24\"\n",
              "       width=\"24px\">\n",
              "    <path d=\"M0 0h24v24H0V0z\" fill=\"none\"/>\n",
              "    <path d=\"M18.56 5.44l.94 2.06.94-2.06 2.06-.94-2.06-.94-.94-2.06-.94 2.06-2.06.94zm-11 1L8.5 8.5l.94-2.06 2.06-.94-2.06-.94L8.5 2.5l-.94 2.06-2.06.94zm10 10l.94 2.06.94-2.06 2.06-.94-2.06-.94-.94-2.06-.94 2.06-2.06.94z\"/><path d=\"M17.41 7.96l-1.37-1.37c-.4-.4-.92-.59-1.43-.59-.52 0-1.04.2-1.43.59L10.3 9.45l-7.72 7.72c-.78.78-.78 2.05 0 2.83L4 21.41c.39.39.9.59 1.41.59.51 0 1.02-.2 1.41-.59l7.78-7.78 2.81-2.81c.8-.78.8-2.07 0-2.86zM5.41 20L4 18.59l7.72-7.72 1.47 1.35L5.41 20z\"/>\n",
              "  </svg>\n",
              "      </button>\n",
              "      \n",
              "  <style>\n",
              "    .colab-df-container {\n",
              "      display:flex;\n",
              "      flex-wrap:wrap;\n",
              "      gap: 12px;\n",
              "    }\n",
              "\n",
              "    .colab-df-convert {\n",
              "      background-color: #E8F0FE;\n",
              "      border: none;\n",
              "      border-radius: 50%;\n",
              "      cursor: pointer;\n",
              "      display: none;\n",
              "      fill: #1967D2;\n",
              "      height: 32px;\n",
              "      padding: 0 0 0 0;\n",
              "      width: 32px;\n",
              "    }\n",
              "\n",
              "    .colab-df-convert:hover {\n",
              "      background-color: #E2EBFA;\n",
              "      box-shadow: 0px 1px 2px rgba(60, 64, 67, 0.3), 0px 1px 3px 1px rgba(60, 64, 67, 0.15);\n",
              "      fill: #174EA6;\n",
              "    }\n",
              "\n",
              "    [theme=dark] .colab-df-convert {\n",
              "      background-color: #3B4455;\n",
              "      fill: #D2E3FC;\n",
              "    }\n",
              "\n",
              "    [theme=dark] .colab-df-convert:hover {\n",
              "      background-color: #434B5C;\n",
              "      box-shadow: 0px 1px 3px 1px rgba(0, 0, 0, 0.15);\n",
              "      filter: drop-shadow(0px 1px 2px rgba(0, 0, 0, 0.3));\n",
              "      fill: #FFFFFF;\n",
              "    }\n",
              "  </style>\n",
              "\n",
              "      <script>\n",
              "        const buttonEl =\n",
              "          document.querySelector('#df-877d742c-b3e9-4825-8480-458707a7423f button.colab-df-convert');\n",
              "        buttonEl.style.display =\n",
              "          google.colab.kernel.accessAllowed ? 'block' : 'none';\n",
              "\n",
              "        async function convertToInteractive(key) {\n",
              "          const element = document.querySelector('#df-877d742c-b3e9-4825-8480-458707a7423f');\n",
              "          const dataTable =\n",
              "            await google.colab.kernel.invokeFunction('convertToInteractive',\n",
              "                                                     [key], {});\n",
              "          if (!dataTable) return;\n",
              "\n",
              "          const docLinkHtml = 'Like what you see? Visit the ' +\n",
              "            '<a target=\"_blank\" href=https://colab.research.google.com/notebooks/data_table.ipynb>data table notebook</a>'\n",
              "            + ' to learn more about interactive tables.';\n",
              "          element.innerHTML = '';\n",
              "          dataTable['output_type'] = 'display_data';\n",
              "          await google.colab.output.renderOutput(dataTable, element);\n",
              "          const docLink = document.createElement('div');\n",
              "          docLink.innerHTML = docLinkHtml;\n",
              "          element.appendChild(docLink);\n",
              "        }\n",
              "      </script>\n",
              "    </div>\n",
              "  </div>\n",
              "  "
            ],
            "text/plain": [
              "       delivery_area_id     orders_cnt\n",
              "count     884856.000000  884856.000000\n",
              "mean         259.623341       3.790038\n",
              "std          178.580787       3.808991\n",
              "min            0.000000       1.000000\n",
              "25%           88.000000       1.000000\n",
              "50%          253.000000       3.000000\n",
              "75%          416.000000       5.000000\n",
              "max          592.000000     120.000000"
            ]
          },
          "metadata": {},
          "execution_count": 888
        }
      ]
    },
    {
      "cell_type": "markdown",
      "source": [
        "#### Разбиение даты на составляющие"
      ],
      "metadata": {
        "id": "xiySPuEFn4W2"
      }
    },
    {
      "cell_type": "code",
      "source": [
        "def split_date_time(data):\n",
        "  data['dttm'] = pd.to_datetime(data['dttm'])\n",
        "  data['year'] = data['dttm'].dt.year\n",
        "  data['month'] = data['dttm'].dt.month\n",
        "  data['week'] = data['dttm'].dt.week\n",
        "  data['dayofweek'] = data['dttm'].dt.dayofweek\n",
        "  #data['time'] = data['dttm'].dt.time\n",
        "  #data['hour'] = data['dttm'].dt.hour\n",
        "  #data['hour_cos'] = np.cos(2 * math.pi * data['hour'] / 24)\n",
        "  #data['hour_sin'] = np.sin(2 * math.pi * data['hour'] / 24)\n",
        "  return data"
      ],
      "metadata": {
        "id": "sdP3COBYik2x"
      },
      "execution_count": 889,
      "outputs": []
    },
    {
      "cell_type": "markdown",
      "source": [
        "#### Группировка по дате"
      ],
      "metadata": {
        "id": "3F2b4IQ_mM6f"
      }
    },
    {
      "cell_type": "code",
      "source": [
        "orders['date'] = orders['date'].dt.date\n",
        "orders = orders.groupby(['delivery_area_id', 'date']).count()['orders_cnt'].reset_index()"
      ],
      "metadata": {
        "id": "Dn_9CPirmME_"
      },
      "execution_count": 890,
      "outputs": []
    },
    {
      "cell_type": "code",
      "source": [
        "orders['dttm'] = orders['date']\n",
        "delays = split_date_time(delays)\n",
        "orders = split_date_time(orders)"
      ],
      "metadata": {
        "id": "Mw-qyrehnVOm"
      },
      "execution_count": 891,
      "outputs": []
    },
    {
      "cell_type": "markdown",
      "source": [
        "#### Добавление 0 для отсутствующих значений"
      ],
      "metadata": {
        "id": "ySrcgkGUN8z7"
      }
    },
    {
      "cell_type": "code",
      "source": [
        "if 0:\n",
        "  dates = pd.date_range(orders.date.min(), orders.date.max() + timedelta(days=1), freq='H').tolist()\n",
        "  dates = [date for date in dates if date.hour > 9 and date.hour < 20]"
      ],
      "metadata": {
        "id": "ClA8Yu-yO1bi"
      },
      "execution_count": 892,
      "outputs": []
    },
    {
      "cell_type": "code",
      "source": [
        "if 0:\n",
        "  dict_list = []\n",
        "  for delivery_area in tqdm(orders['delivery_area_id'].unique(), position=0, leave=True):\n",
        "    for date in dates:\n",
        "        dict_list.append({\n",
        "          'delivery_area_id': delivery_area,\n",
        "          'date': date,\n",
        "          'orders_cnt': 0\n",
        "        })\n",
        "\n",
        "  zeros_df = pd.DataFrame(dict_list)\n",
        "  print(zeros_df.shape)\n",
        "  zeros_df.head()"
      ],
      "metadata": {
        "id": "np_81Z98TjUw"
      },
      "execution_count": 893,
      "outputs": []
    },
    {
      "cell_type": "code",
      "source": [
        "if 0:\n",
        "  intersection = pd.merge(zeros_df.reset_index(), orders, how='inner', on=['date', 'delivery_area_id'])['index']\n",
        "  distinction = zeros_df.drop(zeros_df.iloc[intersection.values].index)\n",
        "  assert distinction.shape[0] == zeros_df.shape[0] - intersection.shape[0]"
      ],
      "metadata": {
        "id": "zBtDUPN9VDNZ"
      },
      "execution_count": 894,
      "outputs": []
    },
    {
      "cell_type": "code",
      "source": [
        "if 0:\n",
        "  orders = pd.concat([orders, distinction], ignore_index=True)\n",
        "  orders = orders.sort_values(by=['delivery_area_id', 'date'])\n",
        "  orders"
      ],
      "metadata": {
        "id": "N7W2kYZKXnDf"
      },
      "execution_count": 895,
      "outputs": []
    },
    {
      "cell_type": "markdown",
      "source": [
        "### Визуализации"
      ],
      "metadata": {
        "id": "xF-zVmmHoNc9"
      }
    },
    {
      "cell_type": "markdown",
      "source": [
        "#### Среднее опоздание по дням"
      ],
      "metadata": {
        "id": "8_U_Cfk2j1ol"
      }
    },
    {
      "cell_type": "code",
      "source": [
        "delays.groupby('dttm').mean()['delay_rate'].plot(figsize=(12, 7), grid=True)"
      ],
      "metadata": {
        "colab": {
          "base_uri": "https://localhost:8080/",
          "height": 0
        },
        "id": "L6WsySL_jH6W",
        "outputId": "b94156cd-00f0-42c5-dc11-3e247cc2aa55"
      },
      "execution_count": 896,
      "outputs": [
        {
          "output_type": "execute_result",
          "data": {
            "text/plain": [
              "<matplotlib.axes._subplots.AxesSubplot at 0x7f88e9d437d0>"
            ]
          },
          "metadata": {},
          "execution_count": 896
        },
        {
          "output_type": "display_data",
          "data": {
            "image/png": "[encoded data removed]",
            "text/plain": [
              "<Figure size 864x504 with 1 Axes>"
            ]
          },
          "metadata": {}
        }
      ]
    },
    {
      "cell_type": "markdown",
      "source": [
        "#### Среднее опоздание по времени дня"
      ],
      "metadata": {
        "id": "C1lJWjvKkISE"
      }
    },
    {
      "cell_type": "code",
      "source": [
        "#delays.groupby('hour').mean()['delay_rate'].plot(figsize=(12, 7), grid=True)"
      ],
      "metadata": {
        "id": "a8qHS30DkBPA"
      },
      "execution_count": 897,
      "outputs": []
    },
    {
      "cell_type": "markdown",
      "source": [
        "#### Количество заказов по дням"
      ],
      "metadata": {
        "id": "76n-eZuDkXMl"
      }
    },
    {
      "cell_type": "code",
      "source": [
        "orders.groupby('date').mean()['orders_cnt'].plot(figsize=(12, 7), grid=True)"
      ],
      "metadata": {
        "colab": {
          "base_uri": "https://localhost:8080/",
          "height": 0
        },
        "id": "WSpIYbW6iHqq",
        "outputId": "1181a59b-73bf-4e41-a67a-38f20e2dfa3e"
      },
      "execution_count": 898,
      "outputs": [
        {
          "output_type": "execute_result",
          "data": {
            "text/plain": [
              "<matplotlib.axes._subplots.AxesSubplot at 0x7f88ba7fcc90>"
            ]
          },
          "metadata": {},
          "execution_count": 898
        },
        {
          "output_type": "display_data",
          "data": {
            "image/png": "[encoded data removed]",
            "text/plain": [
              "<Figure size 864x504 with 1 Axes>"
            ]
          },
          "metadata": {}
        }
      ]
    },
    {
      "cell_type": "markdown",
      "source": [
        "#### Количество заказов по времени дня"
      ],
      "metadata": {
        "id": "KIQIYO_5kZLM"
      }
    },
    {
      "cell_type": "code",
      "source": [
        "#orders.groupby('hour').mean()['orders_cnt'].plot(figsize=(12, 7), grid=True)"
      ],
      "metadata": {
        "id": "ULAT6bCXn8lV"
      },
      "execution_count": 899,
      "outputs": []
    },
    {
      "cell_type": "markdown",
      "source": [
        "#### orders_cnt для разных delivery_area_id"
      ],
      "metadata": {
        "id": "6EX3P8U-kCrp"
      }
    },
    {
      "cell_type": "code",
      "source": [
        "for delivery_area in [4, 592, 17]:\n",
        "  plt.plot(\n",
        "      orders[orders['delivery_area_id'] == delivery_area]['date'][:50],\n",
        "      orders[orders['delivery_area_id'] == delivery_area]['orders_cnt'][:50],\n",
        "      label=f'delivery_area_id == {delivery_area}'\n",
        "  )\n",
        "plt.legend()"
      ],
      "metadata": {
        "colab": {
          "base_uri": "https://localhost:8080/",
          "height": 0
        },
        "id": "HbNVyig7fIHK",
        "outputId": "9e2fa0d0-42e2-41eb-c75d-f2b79098b631"
      },
      "execution_count": 900,
      "outputs": [
        {
          "output_type": "execute_result",
          "data": {
            "text/plain": [
              "<matplotlib.legend.Legend at 0x7f8889985fd0>"
            ]
          },
          "metadata": {},
          "execution_count": 900
        },
        {
          "output_type": "display_data",
          "data": {
            "image/png": "[encoded data removed]",
            "text/plain": [
              "<Figure size 1152x432 with 1 Axes>"
            ]
          },
          "metadata": {}
        }
      ]
    },
    {
      "cell_type": "markdown",
      "source": [
        "### Utils"
      ],
      "metadata": {
        "id": "nF79-ZbzcppI"
      }
    },
    {
      "cell_type": "code",
      "source": [
        "def get_test_data(X):\n",
        "  X_train = X[X['date'] <= DATE_TEST_SPLIT]\n",
        "  X_test = X[X['date'] > DATE_TEST_SPLIT]\n",
        "  return X_train, X_test"
      ],
      "metadata": {
        "id": "HNXoVc4bZKeI"
      },
      "execution_count": 901,
      "outputs": []
    },
    {
      "cell_type": "code",
      "source": [
        "def timeseries_train_test_split(X, y=None, test_size=0.3):\n",
        "  X = X.sort_values(by='date')\n",
        "  test_index = int(len(X) * (1 - test_size))\n",
        "  X_train = X.iloc[:test_index]\n",
        "  X_test = X.iloc[test_index:]\n",
        "  if y is not None:\n",
        "    y_train = y.iloc[:test_index]\n",
        "    y_test = y.iloc[test_index:]\n",
        "    return X_train, X_test, y_train, y_test\n",
        "  return X_train, X_test"
      ],
      "metadata": {
        "id": "4SEMhFPPcpF6"
      },
      "execution_count": 902,
      "outputs": []
    },
    {
      "cell_type": "code",
      "source": [
        "def save_all_dfs(X_train, X_val, X_test, name_suffix):\n",
        "  X_train.to_csv(f'X_train_{name_suffix}.csv', index=False)\n",
        "  X_val.to_csv(f'X_val_{name_suffix}.csv', index=False)\n",
        "  X_test.to_csv(f'X_test_{name_suffix}.csv', index=False)\n",
        "  print('Данные сохранены')"
      ],
      "metadata": {
        "id": "z-gsGykU6dV4"
      },
      "execution_count": 903,
      "outputs": []
    },
    {
      "cell_type": "markdown",
      "source": [
        "### Подготовка данных"
      ],
      "metadata": {
        "id": "0v2-PmwmH-X_"
      }
    },
    {
      "cell_type": "markdown",
      "source": [
        "#### Генерация признаков вида i дней назад/вперед"
      ],
      "metadata": {
        "id": "tnlq9HYqkLww"
      }
    },
    {
      "cell_type": "code",
      "source": [
        "def get_prev_next_features(data):\n",
        "  data = data.sort_values(by=['delivery_area_id', 'date'])\n",
        "\n",
        "  for i in range(1, PREV_COLS_CNT + 1):\n",
        "    data['prev_' + str(i)] = data.groupby(['delivery_area_id', 'date'], as_index=False).mean().shift(i).rolling(1).sum()['orders_cnt']\n",
        "\n",
        "  data[\"future_1\"] = data['orders_cnt'].copy()\n",
        "  for i in range(2, NEXT_COLS_CNT + 1):\n",
        "    data[\"future_\" + str(i)] = data.groupby(['delivery_area_id', 'date'], as_index=False).mean().shift(-i+1).rolling(1).mean()['orders_cnt']\n",
        "\n",
        "  return data"
      ],
      "metadata": {
        "id": "6GtFtEvsb9A5"
      },
      "execution_count": 904,
      "outputs": []
    },
    {
      "cell_type": "code",
      "source": [
        "orders = get_prev_next_features(orders)"
      ],
      "metadata": {
        "id": "df5npSOOFF9o"
      },
      "execution_count": 905,
      "outputs": []
    },
    {
      "cell_type": "markdown",
      "source": [
        "#### Train/val/test split"
      ],
      "metadata": {
        "id": "bwn5DlPS0ohK"
      }
    },
    {
      "cell_type": "code",
      "source": [
        "X_train, X_test = get_test_data(orders)\n",
        "X_train, X_val = timeseries_train_test_split(X_train, test_size=0.2)\n",
        "\n",
        "print(f'Train shape: {X_train.shape}')\n",
        "print(f'Valid shape: {X_val.shape}')\n",
        "print(f'Test shape: {X_test.shape}')"
      ],
      "metadata": {
        "colab": {
          "base_uri": "https://localhost:8080/"
        },
        "id": "HpKJ4koc0n24",
        "outputId": "942c3394-5c9c-4ca3-f367-8e7bce9ef037"
      },
      "execution_count": 906,
      "outputs": [
        {
          "output_type": "stream",
          "name": "stdout",
          "text": [
            "Train shape: (71230, 45)\n",
            "Valid shape: (17808, 45)\n",
            "Test shape: (8168, 45)\n"
          ]
        }
      ]
    },
    {
      "cell_type": "code",
      "source": [
        "del orders\n",
        "gc.collect()"
      ],
      "metadata": {
        "colab": {
          "base_uri": "https://localhost:8080/"
        },
        "id": "d-3RgACM0vGo",
        "outputId": "6b8b2ccf-7e3c-4721-8f9a-b16eef9dbe93"
      },
      "execution_count": 907,
      "outputs": [
        {
          "output_type": "execute_result",
          "data": {
            "text/plain": [
              "156"
            ]
          },
          "metadata": {},
          "execution_count": 907
        }
      ]
    },
    {
      "cell_type": "markdown",
      "source": [
        "#### Праздники и нерабочие дни"
      ],
      "metadata": {
        "id": "-IWeAjz5n1E2"
      }
    },
    {
      "cell_type": "code",
      "source": [
        "def get_holidays_features(data):\n",
        "  data['is_holiday'] = data.progress_apply(lambda x: x['date'] in df_holidays['ds'].values, axis=1)\n",
        "  data['is_dayoff'] = data.progress_apply(lambda x: x['date'] in dayoffs, axis=1)\n",
        "  data['is_weekend'] = data.progress_apply(lambda x: x['dayofweek'] in [5, 6], axis=1)\n",
        "  return data"
      ],
      "metadata": {
        "id": "X6jOeP3fn4U8"
      },
      "execution_count": 908,
      "outputs": []
    },
    {
      "cell_type": "code",
      "source": [
        "X_train = get_holidays_features(X_train)\n",
        "X_val = get_holidays_features(X_val)\n",
        "X_test = get_holidays_features(X_test)\n",
        "\n",
        "X_train.head()"
      ],
      "metadata": {
        "colab": {
          "base_uri": "https://localhost:8080/",
          "height": 0
        },
        "id": "fccFEH0OnjkL",
        "outputId": "91044cda-5e67-4ce4-c811-fa52543fe7be"
      },
      "execution_count": 909,
      "outputs": [
        {
          "output_type": "stream",
          "name": "stderr",
          "text": [
            "100%|██████████| 71230/71230 [00:03<00:00, 18141.53it/s]\n",
            "100%|██████████| 71230/71230 [00:02<00:00, 27909.13it/s]\n",
            "100%|██████████| 71230/71230 [00:01<00:00, 40563.85it/s]\n",
            "100%|██████████| 17808/17808 [00:01<00:00, 15281.44it/s]\n",
            "100%|██████████| 17808/17808 [00:00<00:00, 20082.53it/s]\n",
            "100%|██████████| 17808/17808 [00:00<00:00, 68374.81it/s]\n",
            "100%|██████████| 8168/8168 [00:00<00:00, 28866.40it/s]\n",
            "100%|██████████| 8168/8168 [00:00<00:00, 44508.43it/s]\n",
            "100%|██████████| 8168/8168 [00:00<00:00, 62370.54it/s]\n"
          ]
        },
        {
          "output_type": "execute_result",
          "data": {
            "text/html": [
              "\n",
              "  <div id=\"df-aa83266b-90dc-4d8d-a47d-5bb1318eb890\">\n",
              "    <div class=\"colab-df-container\">\n",
              "      <div>\n",
              "<style scoped>\n",
              "    .dataframe tbody tr th:only-of-type {\n",
              "        vertical-align: middle;\n",
              "    }\n",
              "\n",
              "    .dataframe tbody tr th {\n",
              "        vertical-align: top;\n",
              "    }\n",
              "\n",
              "    .dataframe thead th {\n",
              "        text-align: right;\n",
              "    }\n",
              "</style>\n",
              "<table border=\"1\" class=\"dataframe\">\n",
              "  <thead>\n",
              "    <tr style=\"text-align: right;\">\n",
              "      <th></th>\n",
              "      <th>delivery_area_id</th>\n",
              "      <th>date</th>\n",
              "      <th>orders_cnt</th>\n",
              "      <th>dttm</th>\n",
              "      <th>year</th>\n",
              "      <th>month</th>\n",
              "      <th>week</th>\n",
              "      <th>dayofweek</th>\n",
              "      <th>prev_1</th>\n",
              "      <th>prev_2</th>\n",
              "      <th>prev_3</th>\n",
              "      <th>prev_4</th>\n",
              "      <th>prev_5</th>\n",
              "      <th>prev_6</th>\n",
              "      <th>prev_7</th>\n",
              "      <th>prev_8</th>\n",
              "      <th>prev_9</th>\n",
              "      <th>prev_10</th>\n",
              "      <th>prev_11</th>\n",
              "      <th>prev_12</th>\n",
              "      <th>prev_13</th>\n",
              "      <th>prev_14</th>\n",
              "      <th>prev_15</th>\n",
              "      <th>prev_16</th>\n",
              "      <th>prev_17</th>\n",
              "      <th>prev_18</th>\n",
              "      <th>prev_19</th>\n",
              "      <th>prev_20</th>\n",
              "      <th>prev_21</th>\n",
              "      <th>prev_22</th>\n",
              "      <th>prev_23</th>\n",
              "      <th>prev_24</th>\n",
              "      <th>prev_25</th>\n",
              "      <th>prev_26</th>\n",
              "      <th>prev_27</th>\n",
              "      <th>prev_28</th>\n",
              "      <th>prev_29</th>\n",
              "      <th>prev_30</th>\n",
              "      <th>future_1</th>\n",
              "      <th>future_2</th>\n",
              "      <th>future_3</th>\n",
              "      <th>future_4</th>\n",
              "      <th>future_5</th>\n",
              "      <th>future_6</th>\n",
              "      <th>future_7</th>\n",
              "      <th>is_holiday</th>\n",
              "      <th>is_dayoff</th>\n",
              "      <th>is_weekend</th>\n",
              "    </tr>\n",
              "  </thead>\n",
              "  <tbody>\n",
              "    <tr>\n",
              "      <th>0</th>\n",
              "      <td>0</td>\n",
              "      <td>2021-04-01</td>\n",
              "      <td>10</td>\n",
              "      <td>2021-04-01</td>\n",
              "      <td>2021</td>\n",
              "      <td>4</td>\n",
              "      <td>13</td>\n",
              "      <td>3</td>\n",
              "      <td>NaN</td>\n",
              "      <td>NaN</td>\n",
              "      <td>NaN</td>\n",
              "      <td>NaN</td>\n",
              "      <td>NaN</td>\n",
              "      <td>NaN</td>\n",
              "      <td>NaN</td>\n",
              "      <td>NaN</td>\n",
              "      <td>NaN</td>\n",
              "      <td>NaN</td>\n",
              "      <td>NaN</td>\n",
              "      <td>NaN</td>\n",
              "      <td>NaN</td>\n",
              "      <td>NaN</td>\n",
              "      <td>NaN</td>\n",
              "      <td>NaN</td>\n",
              "      <td>NaN</td>\n",
              "      <td>NaN</td>\n",
              "      <td>NaN</td>\n",
              "      <td>NaN</td>\n",
              "      <td>NaN</td>\n",
              "      <td>NaN</td>\n",
              "      <td>NaN</td>\n",
              "      <td>NaN</td>\n",
              "      <td>NaN</td>\n",
              "      <td>NaN</td>\n",
              "      <td>NaN</td>\n",
              "      <td>NaN</td>\n",
              "      <td>NaN</td>\n",
              "      <td>NaN</td>\n",
              "      <td>10</td>\n",
              "      <td>10.0</td>\n",
              "      <td>11.0</td>\n",
              "      <td>9.0</td>\n",
              "      <td>12.0</td>\n",
              "      <td>11.0</td>\n",
              "      <td>12.0</td>\n",
              "      <td>False</td>\n",
              "      <td>False</td>\n",
              "      <td>False</td>\n",
              "    </tr>\n",
              "    <tr>\n",
              "      <th>5383</th>\n",
              "      <td>23</td>\n",
              "      <td>2021-04-01</td>\n",
              "      <td>9</td>\n",
              "      <td>2021-04-01</td>\n",
              "      <td>2021</td>\n",
              "      <td>4</td>\n",
              "      <td>13</td>\n",
              "      <td>3</td>\n",
              "      <td>12.0</td>\n",
              "      <td>12.0</td>\n",
              "      <td>12.0</td>\n",
              "      <td>11.0</td>\n",
              "      <td>12.0</td>\n",
              "      <td>12.0</td>\n",
              "      <td>11.0</td>\n",
              "      <td>12.0</td>\n",
              "      <td>12.0</td>\n",
              "      <td>12.0</td>\n",
              "      <td>12.0</td>\n",
              "      <td>12.0</td>\n",
              "      <td>12.0</td>\n",
              "      <td>11.0</td>\n",
              "      <td>12.0</td>\n",
              "      <td>12.0</td>\n",
              "      <td>12.0</td>\n",
              "      <td>12.0</td>\n",
              "      <td>12.0</td>\n",
              "      <td>12.0</td>\n",
              "      <td>12.0</td>\n",
              "      <td>12.0</td>\n",
              "      <td>12.0</td>\n",
              "      <td>12.0</td>\n",
              "      <td>11.0</td>\n",
              "      <td>12.0</td>\n",
              "      <td>12.0</td>\n",
              "      <td>12.0</td>\n",
              "      <td>12.0</td>\n",
              "      <td>12.0</td>\n",
              "      <td>9</td>\n",
              "      <td>11.0</td>\n",
              "      <td>9.0</td>\n",
              "      <td>8.0</td>\n",
              "      <td>9.0</td>\n",
              "      <td>12.0</td>\n",
              "      <td>11.0</td>\n",
              "      <td>False</td>\n",
              "      <td>False</td>\n",
              "      <td>False</td>\n",
              "    </tr>\n",
              "    <tr>\n",
              "      <th>747</th>\n",
              "      <td>4</td>\n",
              "      <td>2021-04-01</td>\n",
              "      <td>12</td>\n",
              "      <td>2021-04-01</td>\n",
              "      <td>2021</td>\n",
              "      <td>4</td>\n",
              "      <td>13</td>\n",
              "      <td>3</td>\n",
              "      <td>12.0</td>\n",
              "      <td>12.0</td>\n",
              "      <td>12.0</td>\n",
              "      <td>12.0</td>\n",
              "      <td>12.0</td>\n",
              "      <td>12.0</td>\n",
              "      <td>12.0</td>\n",
              "      <td>12.0</td>\n",
              "      <td>12.0</td>\n",
              "      <td>12.0</td>\n",
              "      <td>12.0</td>\n",
              "      <td>12.0</td>\n",
              "      <td>12.0</td>\n",
              "      <td>12.0</td>\n",
              "      <td>12.0</td>\n",
              "      <td>12.0</td>\n",
              "      <td>11.0</td>\n",
              "      <td>12.0</td>\n",
              "      <td>12.0</td>\n",
              "      <td>12.0</td>\n",
              "      <td>12.0</td>\n",
              "      <td>12.0</td>\n",
              "      <td>11.0</td>\n",
              "      <td>12.0</td>\n",
              "      <td>13.0</td>\n",
              "      <td>12.0</td>\n",
              "      <td>12.0</td>\n",
              "      <td>12.0</td>\n",
              "      <td>12.0</td>\n",
              "      <td>11.0</td>\n",
              "      <td>12</td>\n",
              "      <td>9.0</td>\n",
              "      <td>9.0</td>\n",
              "      <td>11.0</td>\n",
              "      <td>11.0</td>\n",
              "      <td>10.0</td>\n",
              "      <td>11.0</td>\n",
              "      <td>False</td>\n",
              "      <td>False</td>\n",
              "      <td>False</td>\n",
              "    </tr>\n",
              "    <tr>\n",
              "      <th>12413</th>\n",
              "      <td>52</td>\n",
              "      <td>2021-04-01</td>\n",
              "      <td>2</td>\n",
              "      <td>2021-04-01</td>\n",
              "      <td>2021</td>\n",
              "      <td>4</td>\n",
              "      <td>13</td>\n",
              "      <td>3</td>\n",
              "      <td>12.0</td>\n",
              "      <td>12.0</td>\n",
              "      <td>12.0</td>\n",
              "      <td>12.0</td>\n",
              "      <td>12.0</td>\n",
              "      <td>12.0</td>\n",
              "      <td>12.0</td>\n",
              "      <td>12.0</td>\n",
              "      <td>12.0</td>\n",
              "      <td>12.0</td>\n",
              "      <td>12.0</td>\n",
              "      <td>12.0</td>\n",
              "      <td>12.0</td>\n",
              "      <td>12.0</td>\n",
              "      <td>12.0</td>\n",
              "      <td>12.0</td>\n",
              "      <td>12.0</td>\n",
              "      <td>12.0</td>\n",
              "      <td>12.0</td>\n",
              "      <td>12.0</td>\n",
              "      <td>12.0</td>\n",
              "      <td>12.0</td>\n",
              "      <td>12.0</td>\n",
              "      <td>12.0</td>\n",
              "      <td>12.0</td>\n",
              "      <td>12.0</td>\n",
              "      <td>12.0</td>\n",
              "      <td>12.0</td>\n",
              "      <td>12.0</td>\n",
              "      <td>12.0</td>\n",
              "      <td>2</td>\n",
              "      <td>2.0</td>\n",
              "      <td>4.0</td>\n",
              "      <td>5.0</td>\n",
              "      <td>2.0</td>\n",
              "      <td>1.0</td>\n",
              "      <td>4.0</td>\n",
              "      <td>False</td>\n",
              "      <td>False</td>\n",
              "      <td>False</td>\n",
              "    </tr>\n",
              "    <tr>\n",
              "      <th>5627</th>\n",
              "      <td>24</td>\n",
              "      <td>2021-04-01</td>\n",
              "      <td>11</td>\n",
              "      <td>2021-04-01</td>\n",
              "      <td>2021</td>\n",
              "      <td>4</td>\n",
              "      <td>13</td>\n",
              "      <td>3</td>\n",
              "      <td>13.0</td>\n",
              "      <td>14.0</td>\n",
              "      <td>13.0</td>\n",
              "      <td>14.0</td>\n",
              "      <td>14.0</td>\n",
              "      <td>13.0</td>\n",
              "      <td>14.0</td>\n",
              "      <td>14.0</td>\n",
              "      <td>13.0</td>\n",
              "      <td>13.0</td>\n",
              "      <td>14.0</td>\n",
              "      <td>13.0</td>\n",
              "      <td>14.0</td>\n",
              "      <td>13.0</td>\n",
              "      <td>14.0</td>\n",
              "      <td>14.0</td>\n",
              "      <td>14.0</td>\n",
              "      <td>13.0</td>\n",
              "      <td>13.0</td>\n",
              "      <td>13.0</td>\n",
              "      <td>12.0</td>\n",
              "      <td>14.0</td>\n",
              "      <td>13.0</td>\n",
              "      <td>12.0</td>\n",
              "      <td>14.0</td>\n",
              "      <td>13.0</td>\n",
              "      <td>13.0</td>\n",
              "      <td>13.0</td>\n",
              "      <td>14.0</td>\n",
              "      <td>12.0</td>\n",
              "      <td>11</td>\n",
              "      <td>9.0</td>\n",
              "      <td>12.0</td>\n",
              "      <td>10.0</td>\n",
              "      <td>12.0</td>\n",
              "      <td>12.0</td>\n",
              "      <td>12.0</td>\n",
              "      <td>False</td>\n",
              "      <td>False</td>\n",
              "      <td>False</td>\n",
              "    </tr>\n",
              "  </tbody>\n",
              "</table>\n",
              "</div>\n",
              "      <button class=\"colab-df-convert\" onclick=\"convertToInteractive('df-aa83266b-90dc-4d8d-a47d-5bb1318eb890')\"\n",
              "              title=\"Convert this dataframe to an interactive table.\"\n",
              "              style=\"display:none;\">\n",
              "        \n",
              "  <svg xmlns=\"http://www.w3.org/2000/svg\" height=\"24px\"viewBox=\"0 0 24 24\"\n",
              "       width=\"24px\">\n",
              "    <path d=\"M0 0h24v24H0V0z\" fill=\"none\"/>\n",
              "    <path d=\"M18.56 5.44l.94 2.06.94-2.06 2.06-.94-2.06-.94-.94-2.06-.94 2.06-2.06.94zm-11 1L8.5 8.5l.94-2.06 2.06-.94-2.06-.94L8.5 2.5l-.94 2.06-2.06.94zm10 10l.94 2.06.94-2.06 2.06-.94-2.06-.94-.94-2.06-.94 2.06-2.06.94z\"/><path d=\"M17.41 7.96l-1.37-1.37c-.4-.4-.92-.59-1.43-.59-.52 0-1.04.2-1.43.59L10.3 9.45l-7.72 7.72c-.78.78-.78 2.05 0 2.83L4 21.41c.39.39.9.59 1.41.59.51 0 1.02-.2 1.41-.59l7.78-7.78 2.81-2.81c.8-.78.8-2.07 0-2.86zM5.41 20L4 18.59l7.72-7.72 1.47 1.35L5.41 20z\"/>\n",
              "  </svg>\n",
              "      </button>\n",
              "      \n",
              "  <style>\n",
              "    .colab-df-container {\n",
              "      display:flex;\n",
              "      flex-wrap:wrap;\n",
              "      gap: 12px;\n",
              "    }\n",
              "\n",
              "    .colab-df-convert {\n",
              "      background-color: #E8F0FE;\n",
              "      border: none;\n",
              "      border-radius: 50%;\n",
              "      cursor: pointer;\n",
              "      display: none;\n",
              "      fill: #1967D2;\n",
              "      height: 32px;\n",
              "      padding: 0 0 0 0;\n",
              "      width: 32px;\n",
              "    }\n",
              "\n",
              "    .colab-df-convert:hover {\n",
              "      background-color: #E2EBFA;\n",
              "      box-shadow: 0px 1px 2px rgba(60, 64, 67, 0.3), 0px 1px 3px 1px rgba(60, 64, 67, 0.15);\n",
              "      fill: #174EA6;\n",
              "    }\n",
              "\n",
              "    [theme=dark] .colab-df-convert {\n",
              "      background-color: #3B4455;\n",
              "      fill: #D2E3FC;\n",
              "    }\n",
              "\n",
              "    [theme=dark] .colab-df-convert:hover {\n",
              "      background-color: #434B5C;\n",
              "      box-shadow: 0px 1px 3px 1px rgba(0, 0, 0, 0.15);\n",
              "      filter: drop-shadow(0px 1px 2px rgba(0, 0, 0, 0.3));\n",
              "      fill: #FFFFFF;\n",
              "    }\n",
              "  </style>\n",
              "\n",
              "      <script>\n",
              "        const buttonEl =\n",
              "          document.querySelector('#df-aa83266b-90dc-4d8d-a47d-5bb1318eb890 button.colab-df-convert');\n",
              "        buttonEl.style.display =\n",
              "          google.colab.kernel.accessAllowed ? 'block' : 'none';\n",
              "\n",
              "        async function convertToInteractive(key) {\n",
              "          const element = document.querySelector('#df-aa83266b-90dc-4d8d-a47d-5bb1318eb890');\n",
              "          const dataTable =\n",
              "            await google.colab.kernel.invokeFunction('convertToInteractive',\n",
              "                                                     [key], {});\n",
              "          if (!dataTable) return;\n",
              "\n",
              "          const docLinkHtml = 'Like what you see? Visit the ' +\n",
              "            '<a target=\"_blank\" href=https://colab.research.google.com/notebooks/data_table.ipynb>data table notebook</a>'\n",
              "            + ' to learn more about interactive tables.';\n",
              "          element.innerHTML = '';\n",
              "          dataTable['output_type'] = 'display_data';\n",
              "          await google.colab.output.renderOutput(dataTable, element);\n",
              "          const docLink = document.createElement('div');\n",
              "          docLink.innerHTML = docLinkHtml;\n",
              "          element.appendChild(docLink);\n",
              "        }\n",
              "      </script>\n",
              "    </div>\n",
              "  </div>\n",
              "  "
            ],
            "text/plain": [
              "       delivery_area_id        date  ...  is_dayoff is_weekend\n",
              "0                     0  2021-04-01  ...      False      False\n",
              "5383                 23  2021-04-01  ...      False      False\n",
              "747                   4  2021-04-01  ...      False      False\n",
              "12413                52  2021-04-01  ...      False      False\n",
              "5627                 24  2021-04-01  ...      False      False\n",
              "\n",
              "[5 rows x 48 columns]"
            ]
          },
          "metadata": {},
          "execution_count": 909
        }
      ]
    },
    {
      "cell_type": "markdown",
      "source": [
        "#### Сколько дней до ближайших праздников"
      ],
      "metadata": {
        "id": "eYfy5Cfw534U"
      }
    },
    {
      "cell_type": "code",
      "source": [
        ""
      ],
      "metadata": {
        "id": "-bt-ryrJ53fZ"
      },
      "execution_count": 909,
      "outputs": []
    },
    {
      "cell_type": "markdown",
      "source": [
        "#### Сколько дней от последнего праздника"
      ],
      "metadata": {
        "id": "ghcaJ4Ix58FO"
      }
    },
    {
      "cell_type": "code",
      "source": [
        ""
      ],
      "metadata": {
        "id": "aY71ZXFa57yv"
      },
      "execution_count": 909,
      "outputs": []
    },
    {
      "cell_type": "markdown",
      "source": [
        "#### Нормировка на медиану"
      ],
      "metadata": {
        "id": "3ycV8JLc1qUp"
      }
    },
    {
      "cell_type": "code",
      "source": [
        "prev_cols = [\"prev_\" + str(i) for i in range(1, PREV_COLS_CNT + 1)][:7]  \n",
        "X_train['1_week_median'] = X_train[prev_cols].median(1)\n",
        "X_val['1_week_median'] = X_val[prev_cols].median(1)\n",
        "X_test['1_week_median'] = X_test[prev_cols].median(1)"
      ],
      "metadata": {
        "id": "ozvWzL2-14dI"
      },
      "execution_count": 910,
      "outputs": []
    },
    {
      "cell_type": "code",
      "source": [
        "def norm_by_1_week_median(data):\n",
        "  cols_to_norm = [\"prev_\" + str(i) for i in range(1, PREV_COLS_CNT + 1)] + [\"future_\" + str(i) for i in range(1, NEXT_COLS_CNT + 1)]\n",
        "  for col in cols_to_norm:\n",
        "    data[col] = data[col] / (data['1_week_median'] + EPS)\n",
        "  return data"
      ],
      "metadata": {
        "id": "Eaod5b-B1p-y"
      },
      "execution_count": 911,
      "outputs": []
    },
    {
      "cell_type": "code",
      "source": [
        "X_train = norm_by_1_week_median(X_train)\n",
        "X_val = norm_by_1_week_median(X_val)\n",
        "X_test = norm_by_1_week_median(X_test)"
      ],
      "metadata": {
        "id": "Vk3iGx1L2wz0"
      },
      "execution_count": 912,
      "outputs": []
    },
    {
      "cell_type": "code",
      "source": [
        "save_all_dfs(X_train, X_val, X_test, name_suffix='base_normalized')"
      ],
      "metadata": {
        "colab": {
          "base_uri": "https://localhost:8080/"
        },
        "id": "NeoQ6dAB6wGC",
        "outputId": "b7fc3390-a960-445d-f6ed-9f5ec4c4338f"
      },
      "execution_count": 913,
      "outputs": [
        {
          "output_type": "stream",
          "name": "stdout",
          "text": [
            "Данные сохранены\n"
          ]
        }
      ]
    },
    {
      "cell_type": "markdown",
      "source": [
        "#### Статистики"
      ],
      "metadata": {
        "id": "c2ypI9OIpr1S"
      }
    },
    {
      "cell_type": "code",
      "source": [
        "def get_aggregations(data, period, cols_range_left, cols_range_right):\n",
        "  prev_cols = [\"prev_\" + str(i) for i in range(1, PREV_COLS_CNT + 1)][cols_range_left:cols_range_right]  \n",
        "\n",
        "  data[f'{period}_median'] = data[prev_cols].median(1)\n",
        "  data[f'{period}_mean'] = data[prev_cols].mean(1)\n",
        "  data[f'{period}_std'] = data[prev_cols].std(1)\n",
        "  data[f'{period}_min'] = data[prev_cols].min(1)\n",
        "  data[f'{period}_max'] = data[prev_cols].max(1)    \n",
        "  data[f'{period}_sum'] = data[prev_cols].sum(1)\n",
        "  return data"
      ],
      "metadata": {
        "id": "YK5IXylpnjps"
      },
      "execution_count": 914,
      "outputs": []
    },
    {
      "cell_type": "code",
      "source": [
        "# TODO: генерация фичей для разных периодов"
      ],
      "metadata": {
        "id": "ixGHcfn3pvQZ"
      },
      "execution_count": 915,
      "outputs": []
    },
    {
      "cell_type": "markdown",
      "source": [
        "#### Кластеризация рядов"
      ],
      "metadata": {
        "id": "QyK0cUPF6NGV"
      }
    },
    {
      "cell_type": "code",
      "source": [
        ""
      ],
      "metadata": {
        "id": "LxeBekkK6Mus"
      },
      "execution_count": 915,
      "outputs": []
    },
    {
      "cell_type": "markdown",
      "source": [
        "### LightGBM"
      ],
      "metadata": {
        "id": "a9b55qALp4pa"
      }
    },
    {
      "cell_type": "markdown",
      "source": [
        "#### Инициализация"
      ],
      "metadata": {
        "id": "smMjIeAJp8lj"
      }
    },
    {
      "cell_type": "code",
      "source": [
        "params = {\n",
        "    'metric' : 'mape',\n",
        "    'objective': 'mape',\n",
        "    'learning_rate': 0.1,\n",
        "    'seed': SEED,\n",
        "    'max_depth': 10,\n",
        "    'verbose' : -1,\n",
        "    #'num_leaves': 31, # max number of leaves in one tree\n",
        "    #'min_child_samples': 20, # minimal number of data in one leaf\n",
        "    #'reg_alpha': 0.0,\n",
        "    #'reg_lambda': 0.0,\n",
        "    #'feature_fraction': 1.0,\n",
        "    #'bagging_fraction': 0.85, # this will randomly select part of data without resampling\n",
        "    #'bagging_freq': 0 # frequency for bagging \n",
        "}"
      ],
      "metadata": {
        "id": "gngIvWrspvUN"
      },
      "execution_count": 916,
      "outputs": []
    },
    {
      "cell_type": "code",
      "source": [
        "class LGBMWeekModel(BaseEstimator):\n",
        "    def __init__(self, params):\n",
        "      self.params = params\n",
        "      self.models = []\n",
        "    \n",
        "    def fit(self, data):\n",
        "      for i in tqdm(range(7)):\n",
        "        train_data = data.dropna(subset=[f'future_{i + 1}'])\n",
        "        train_data = train_data.drop(train_data[train_data[f'future_{i + 1}'] == 0].index)\n",
        "        train_data = lgb.Dataset(\n",
        "            train_data.drop([f'future_{i}' for i in range(1, NEXT_COLS_CNT + 1)], axis=1),\n",
        "            label=train_data[f'future_{i + 1}']\n",
        "        )\n",
        "\n",
        "        model = lgb.train(\n",
        "          params=self.params,\n",
        "          train_set=train_data,\n",
        "          valid_sets=[train_data],\n",
        "          num_boost_round=100, \n",
        "          verbose_eval=1000\n",
        "        )\n",
        "        self.models.append(model)\n",
        "      return self\n",
        "    \n",
        "    def predict(self, data):\n",
        "      preds_df = pd.DataFrame()\n",
        "      for i in range(7):\n",
        "        preds_df['pred_' + str(i)] = self.models[i].predict(data)\n",
        "      return preds_df"
      ],
      "metadata": {
        "id": "8AP-1jQupvXt"
      },
      "execution_count": 917,
      "outputs": []
    },
    {
      "cell_type": "code",
      "source": [
        "model = LGBMWeekModel(params)\n",
        "model.fit(X_train.drop(['date', 'dttm'], axis=1))"
      ],
      "metadata": {
        "colab": {
          "base_uri": "https://localhost:8080/"
        },
        "id": "NTkc_C0tuKB7",
        "outputId": "4f4c8e37-bd6f-4ed7-da5c-e1fa17c7d5d7"
      },
      "execution_count": 918,
      "outputs": [
        {
          "output_type": "stream",
          "name": "stderr",
          "text": [
            "100%|██████████| 7/7 [00:52<00:00,  7.45s/it]\n"
          ]
        },
        {
          "output_type": "execute_result",
          "data": {
            "text/plain": [
              "LGBMWeekModel(params={'learning_rate': 0.1, 'max_depth': 10, 'metric': 'mape',\n",
              "                      'objective': 'mape', 'seed': 2021, 'verbose': -1})"
            ]
          },
          "metadata": {},
          "execution_count": 918
        }
      ]
    },
    {
      "cell_type": "code",
      "source": [
        "res = model.predict(X_val.drop(['date', 'dttm'], axis=1))"
      ],
      "metadata": {
        "id": "XmyB22fHu_le"
      },
      "execution_count": 919,
      "outputs": []
    },
    {
      "cell_type": "code",
      "source": [
        "for i in range(7):\n",
        "  print(mean_absolute_percentage_error(X_val[f'future_{i + 1}'], res['pred_' + str(i)]))"
      ],
      "metadata": {
        "colab": {
          "base_uri": "https://localhost:8080/"
        },
        "id": "M0ybWxNUva3Q",
        "outputId": "f865fe83-5930-4a4a-f893-4e19247b5ba2"
      },
      "execution_count": 922,
      "outputs": [
        {
          "output_type": "stream",
          "name": "stdout",
          "text": [
            "0.46831206352925875\n",
            "0.1188839144645502\n",
            "0.11574761405708561\n",
            "0.12815340572635223\n",
            "0.14001018617652145\n",
            "0.1260768932260629\n",
            "0.12992441533238733\n"
          ]
        }
      ]
    },
    {
      "cell_type": "code",
      "source": [
        "X_test = X_test.dropna()"
      ],
      "metadata": {
        "id": "fupz1foM2Hz-"
      },
      "execution_count": 927,
      "outputs": []
    },
    {
      "cell_type": "code",
      "source": [
        "res = model.predict(X_test.drop(['date', 'dttm'], axis=1))\n",
        "for i in range(7):\n",
        "  print(mean_absolute_percentage_error(X_test[f'future_{i + 1}'], res['pred_' + str(i)]))"
      ],
      "metadata": {
        "colab": {
          "base_uri": "https://localhost:8080/"
        },
        "id": "buRXbS_118hK",
        "outputId": "d68ff1e3-683c-4328-813b-8da0cf5b12c1"
      },
      "execution_count": 928,
      "outputs": [
        {
          "output_type": "stream",
          "name": "stdout",
          "text": [
            "0.39488393740783495\n",
            "0.3981269014595889\n",
            "0.6332545505315701\n",
            "0.8818389247802408\n",
            "1.1392944286642857\n",
            "1.321204226969923\n",
            "1.5319474412410583\n"
          ]
        }
      ]
    },
    {
      "cell_type": "markdown",
      "source": [
        "#### Подбор гиперпараметров"
      ],
      "metadata": {
        "id": "ZT4dNNO5p-gi"
      }
    },
    {
      "cell_type": "code",
      "source": [
        ""
      ],
      "metadata": {
        "id": "H8zEq_dppvbC"
      },
      "execution_count": 921,
      "outputs": []
    },
    {
      "cell_type": "code",
      "source": [
        ""
      ],
      "metadata": {
        "id": "q-lQ-yE8qBNQ"
      },
      "execution_count": 921,
      "outputs": []
    },
    {
      "cell_type": "code",
      "source": [
        ""
      ],
      "metadata": {
        "id": "fBAO2fwhqBPv"
      },
      "execution_count": 921,
      "outputs": []
    },
    {
      "cell_type": "markdown",
      "source": [
        "#### Валидация"
      ],
      "metadata": {
        "id": "bH9qMMhdqBgK"
      }
    },
    {
      "cell_type": "code",
      "source": [
        ""
      ],
      "metadata": {
        "id": "njigh_btpveG"
      },
      "execution_count": 921,
      "outputs": []
    },
    {
      "cell_type": "code",
      "source": [
        ""
      ],
      "metadata": {
        "id": "kjYFTF2YqDTj"
      },
      "execution_count": 921,
      "outputs": []
    },
    {
      "cell_type": "code",
      "source": [
        ""
      ],
      "metadata": {
        "id": "ml8ioEzMqDWj"
      },
      "execution_count": 921,
      "outputs": []
    },
    {
      "cell_type": "markdown",
      "source": [
        "#### Предсказание для теста"
      ],
      "metadata": {
        "id": "UXhheaEHqDqy"
      }
    },
    {
      "cell_type": "code",
      "source": [
        ""
      ],
      "metadata": {
        "id": "IuYd3aASqDZs"
      },
      "execution_count": 921,
      "outputs": []
    },
    {
      "cell_type": "code",
      "source": [
        ""
      ],
      "metadata": {
        "id": "vrKca_D0qDcZ"
      },
      "execution_count": 921,
      "outputs": []
    },
    {
      "cell_type": "markdown",
      "source": [
        "### Выводы"
      ],
      "metadata": {
        "id": "GJOXIB6S42Kw"
      }
    },
    {
      "cell_type": "code",
      "source": [
        ""
      ],
      "metadata": {
        "id": "8JLomAdO417e"
      },
      "execution_count": 921,
      "outputs": []
    }
  ]
}