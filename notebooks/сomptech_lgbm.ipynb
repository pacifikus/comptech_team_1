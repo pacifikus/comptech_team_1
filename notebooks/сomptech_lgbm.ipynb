{
  "cells": [
    {
      "cell_type": "code",
      "execution_count": 1,
      "metadata": {
        "colab": {
          "base_uri": "https://localhost:8080/"
        },
        "id": "vaBPJy6shBpa",
        "outputId": "14614a46-ec4f-4e0d-b5af-c61e8d431439"
      },
      "outputs": [
        {
          "output_type": "stream",
          "name": "stdout",
          "text": [
            "Drive already mounted at /content/gdrive; to attempt to forcibly remount, call drive.mount(\"/content/gdrive\", force_remount=True).\n"
          ]
        }
      ],
      "source": [
        "from google.colab import drive\n",
        "drive.mount('/content/gdrive')"
      ]
    },
    {
      "cell_type": "code",
      "execution_count": 2,
      "metadata": {
        "colab": {
          "base_uri": "https://localhost:8080/"
        },
        "id": "fFgZpa2WhCNh",
        "outputId": "ded708d6-4f11-4120-e292-6b269c2b951b"
      },
      "outputs": [
        {
          "output_type": "stream",
          "name": "stdout",
          "text": [
            "/content/gdrive/MyDrive/comptech\n"
          ]
        }
      ],
      "source": [
        "%cd gdrive/MyDrive/comptech"
      ]
    },
    {
      "cell_type": "code",
      "execution_count": 91,
      "metadata": {
        "id": "PEXAxsXEhSKW"
      },
      "outputs": [],
      "source": [
        "import pandas as pd\n",
        "import numpy as np\n",
        "\n",
        "import seaborn as sns\n",
        "import matplotlib.pyplot as plt\n",
        "\n",
        "from datetime import timedelta\n",
        "from tqdm import tqdm\n",
        "import warnings\n",
        "import gc\n",
        "\n",
        "import holidays\n",
        "\n",
        "import lightgbm as lgb\n",
        "\n",
        "from sklearn.base import BaseEstimator\n",
        "from sklearn.metrics import mean_absolute_percentage_error\n",
        "from sklearn.model_selection import KFold, RandomizedSearchCV\n",
        "\n",
        "import dill"
      ]
    },
    {
      "cell_type": "code",
      "execution_count": 4,
      "metadata": {
        "id": "RAzCKw2sewWo"
      },
      "outputs": [],
      "source": [
        "tqdm.pandas()\n",
        "warnings.simplefilter('ignore')"
      ]
    },
    {
      "cell_type": "code",
      "execution_count": 5,
      "metadata": {
        "colab": {
          "base_uri": "https://localhost:8080/"
        },
        "id": "327HVP95sTqR",
        "outputId": "ba874dd0-9b27-49fa-f202-c6d25b92fc75"
      },
      "outputs": [
        {
          "output_type": "stream",
          "name": "stdout",
          "text": [
            "Populating the interactive namespace from numpy and matplotlib\n"
          ]
        }
      ],
      "source": [
        "%pylab inline\n",
        "plt.style.use('fivethirtyeight')\n",
        "sns.set(rc={'figure.figsize':(16, 6)})"
      ]
    },
    {
      "cell_type": "code",
      "execution_count": 6,
      "metadata": {
        "id": "8MDqcWhQhCRj"
      },
      "outputs": [],
      "source": [
        "ORDERS_PATH = 'orders.csv'\n",
        "DELAYS_PATH = 'partners_delays.csv'\n",
        "SEED = 2021\n",
        "DATE_TEST_SPLIT = pd.to_datetime('2021-11-16')\n",
        "PREV_COLS_CNT = 30\n",
        "NEXT_COLS_CNT = 7\n",
        "EPS = 10e-7"
      ]
    },
    {
      "cell_type": "markdown",
      "metadata": {
        "id": "0vf_TQLen8oW"
      },
      "source": [
        "### Загрузка данных"
      ]
    },
    {
      "cell_type": "code",
      "execution_count": 7,
      "metadata": {
        "id": "2tB7U67QhCVT"
      },
      "outputs": [],
      "source": [
        "orders = pd.read_csv(ORDERS_PATH, parse_dates=['date'])\n",
        "delays = pd.read_csv(DELAYS_PATH, parse_dates=['dttm'])"
      ]
    },
    {
      "cell_type": "code",
      "execution_count": 8,
      "metadata": {
        "colab": {
          "base_uri": "https://localhost:8080/",
          "height": 0
        },
        "id": "2jqJ30qFhCZc",
        "outputId": "fb805155-d6ef-4a26-9489-d81f368ff490"
      },
      "outputs": [
        {
          "output_type": "execute_result",
          "data": {
            "text/html": [
              "\n",
              "  <div id=\"df-f2bb74a5-3f9f-4ba3-a979-1c3e7297f049\">\n",
              "    <div class=\"colab-df-container\">\n",
              "      <div>\n",
              "<style scoped>\n",
              "    .dataframe tbody tr th:only-of-type {\n",
              "        vertical-align: middle;\n",
              "    }\n",
              "\n",
              "    .dataframe tbody tr th {\n",
              "        vertical-align: top;\n",
              "    }\n",
              "\n",
              "    .dataframe thead th {\n",
              "        text-align: right;\n",
              "    }\n",
              "</style>\n",
              "<table border=\"1\" class=\"dataframe\">\n",
              "  <thead>\n",
              "    <tr style=\"text-align: right;\">\n",
              "      <th></th>\n",
              "      <th>delivery_area_id</th>\n",
              "      <th>date</th>\n",
              "      <th>orders_cnt</th>\n",
              "    </tr>\n",
              "  </thead>\n",
              "  <tbody>\n",
              "    <tr>\n",
              "      <th>0</th>\n",
              "      <td>0</td>\n",
              "      <td>2021-04-01 10:00:00</td>\n",
              "      <td>9</td>\n",
              "    </tr>\n",
              "    <tr>\n",
              "      <th>1</th>\n",
              "      <td>0</td>\n",
              "      <td>2021-04-01 11:00:00</td>\n",
              "      <td>1</td>\n",
              "    </tr>\n",
              "    <tr>\n",
              "      <th>2</th>\n",
              "      <td>0</td>\n",
              "      <td>2021-04-01 13:00:00</td>\n",
              "      <td>1</td>\n",
              "    </tr>\n",
              "    <tr>\n",
              "      <th>3</th>\n",
              "      <td>0</td>\n",
              "      <td>2021-04-01 14:00:00</td>\n",
              "      <td>1</td>\n",
              "    </tr>\n",
              "    <tr>\n",
              "      <th>4</th>\n",
              "      <td>0</td>\n",
              "      <td>2021-04-01 15:00:00</td>\n",
              "      <td>2</td>\n",
              "    </tr>\n",
              "  </tbody>\n",
              "</table>\n",
              "</div>\n",
              "      <button class=\"colab-df-convert\" onclick=\"convertToInteractive('df-f2bb74a5-3f9f-4ba3-a979-1c3e7297f049')\"\n",
              "              title=\"Convert this dataframe to an interactive table.\"\n",
              "              style=\"display:none;\">\n",
              "        \n",
              "  <svg xmlns=\"http://www.w3.org/2000/svg\" height=\"24px\"viewBox=\"0 0 24 24\"\n",
              "       width=\"24px\">\n",
              "    <path d=\"M0 0h24v24H0V0z\" fill=\"none\"/>\n",
              "    <path d=\"M18.56 5.44l.94 2.06.94-2.06 2.06-.94-2.06-.94-.94-2.06-.94 2.06-2.06.94zm-11 1L8.5 8.5l.94-2.06 2.06-.94-2.06-.94L8.5 2.5l-.94 2.06-2.06.94zm10 10l.94 2.06.94-2.06 2.06-.94-2.06-.94-.94-2.06-.94 2.06-2.06.94z\"/><path d=\"M17.41 7.96l-1.37-1.37c-.4-.4-.92-.59-1.43-.59-.52 0-1.04.2-1.43.59L10.3 9.45l-7.72 7.72c-.78.78-.78 2.05 0 2.83L4 21.41c.39.39.9.59 1.41.59.51 0 1.02-.2 1.41-.59l7.78-7.78 2.81-2.81c.8-.78.8-2.07 0-2.86zM5.41 20L4 18.59l7.72-7.72 1.47 1.35L5.41 20z\"/>\n",
              "  </svg>\n",
              "      </button>\n",
              "      \n",
              "  <style>\n",
              "    .colab-df-container {\n",
              "      display:flex;\n",
              "      flex-wrap:wrap;\n",
              "      gap: 12px;\n",
              "    }\n",
              "\n",
              "    .colab-df-convert {\n",
              "      background-color: #E8F0FE;\n",
              "      border: none;\n",
              "      border-radius: 50%;\n",
              "      cursor: pointer;\n",
              "      display: none;\n",
              "      fill: #1967D2;\n",
              "      height: 32px;\n",
              "      padding: 0 0 0 0;\n",
              "      width: 32px;\n",
              "    }\n",
              "\n",
              "    .colab-df-convert:hover {\n",
              "      background-color: #E2EBFA;\n",
              "      box-shadow: 0px 1px 2px rgba(60, 64, 67, 0.3), 0px 1px 3px 1px rgba(60, 64, 67, 0.15);\n",
              "      fill: #174EA6;\n",
              "    }\n",
              "\n",
              "    [theme=dark] .colab-df-convert {\n",
              "      background-color: #3B4455;\n",
              "      fill: #D2E3FC;\n",
              "    }\n",
              "\n",
              "    [theme=dark] .colab-df-convert:hover {\n",
              "      background-color: #434B5C;\n",
              "      box-shadow: 0px 1px 3px 1px rgba(0, 0, 0, 0.15);\n",
              "      filter: drop-shadow(0px 1px 2px rgba(0, 0, 0, 0.3));\n",
              "      fill: #FFFFFF;\n",
              "    }\n",
              "  </style>\n",
              "\n",
              "      <script>\n",
              "        const buttonEl =\n",
              "          document.querySelector('#df-f2bb74a5-3f9f-4ba3-a979-1c3e7297f049 button.colab-df-convert');\n",
              "        buttonEl.style.display =\n",
              "          google.colab.kernel.accessAllowed ? 'block' : 'none';\n",
              "\n",
              "        async function convertToInteractive(key) {\n",
              "          const element = document.querySelector('#df-f2bb74a5-3f9f-4ba3-a979-1c3e7297f049');\n",
              "          const dataTable =\n",
              "            await google.colab.kernel.invokeFunction('convertToInteractive',\n",
              "                                                     [key], {});\n",
              "          if (!dataTable) return;\n",
              "\n",
              "          const docLinkHtml = 'Like what you see? Visit the ' +\n",
              "            '<a target=\"_blank\" href=https://colab.research.google.com/notebooks/data_table.ipynb>data table notebook</a>'\n",
              "            + ' to learn more about interactive tables.';\n",
              "          element.innerHTML = '';\n",
              "          dataTable['output_type'] = 'display_data';\n",
              "          await google.colab.output.renderOutput(dataTable, element);\n",
              "          const docLink = document.createElement('div');\n",
              "          docLink.innerHTML = docLinkHtml;\n",
              "          element.appendChild(docLink);\n",
              "        }\n",
              "      </script>\n",
              "    </div>\n",
              "  </div>\n",
              "  "
            ],
            "text/plain": [
              "   delivery_area_id                date  orders_cnt\n",
              "0                 0 2021-04-01 10:00:00           9\n",
              "1                 0 2021-04-01 11:00:00           1\n",
              "2                 0 2021-04-01 13:00:00           1\n",
              "3                 0 2021-04-01 14:00:00           1\n",
              "4                 0 2021-04-01 15:00:00           2"
            ]
          },
          "metadata": {},
          "execution_count": 8
        }
      ],
      "source": [
        "orders.head()"
      ]
    },
    {
      "cell_type": "code",
      "execution_count": 9,
      "metadata": {
        "colab": {
          "base_uri": "https://localhost:8080/",
          "height": 0
        },
        "id": "kyFZ9kFBhCdE",
        "outputId": "66585c92-2462-48a6-ab38-5a2788df65ce"
      },
      "outputs": [
        {
          "output_type": "execute_result",
          "data": {
            "text/html": [
              "\n",
              "  <div id=\"df-158ba80e-f7ae-4783-b9f3-681664f09d17\">\n",
              "    <div class=\"colab-df-container\">\n",
              "      <div>\n",
              "<style scoped>\n",
              "    .dataframe tbody tr th:only-of-type {\n",
              "        vertical-align: middle;\n",
              "    }\n",
              "\n",
              "    .dataframe tbody tr th {\n",
              "        vertical-align: top;\n",
              "    }\n",
              "\n",
              "    .dataframe thead th {\n",
              "        text-align: right;\n",
              "    }\n",
              "</style>\n",
              "<table border=\"1\" class=\"dataframe\">\n",
              "  <thead>\n",
              "    <tr style=\"text-align: right;\">\n",
              "      <th></th>\n",
              "      <th>delivery_area_id</th>\n",
              "      <th>dttm</th>\n",
              "      <th>partners_cnt</th>\n",
              "      <th>delay_rate</th>\n",
              "    </tr>\n",
              "  </thead>\n",
              "  <tbody>\n",
              "    <tr>\n",
              "      <th>0</th>\n",
              "      <td>0</td>\n",
              "      <td>2021-04-01 09:00:00</td>\n",
              "      <td>3.0</td>\n",
              "      <td>0.000000</td>\n",
              "    </tr>\n",
              "    <tr>\n",
              "      <th>1</th>\n",
              "      <td>0</td>\n",
              "      <td>2021-04-01 10:00:00</td>\n",
              "      <td>4.0</td>\n",
              "      <td>0.111111</td>\n",
              "    </tr>\n",
              "    <tr>\n",
              "      <th>2</th>\n",
              "      <td>0</td>\n",
              "      <td>2021-04-01 11:00:00</td>\n",
              "      <td>4.0</td>\n",
              "      <td>0.000000</td>\n",
              "    </tr>\n",
              "    <tr>\n",
              "      <th>3</th>\n",
              "      <td>0</td>\n",
              "      <td>2021-04-01 12:00:00</td>\n",
              "      <td>4.0</td>\n",
              "      <td>0.000000</td>\n",
              "    </tr>\n",
              "    <tr>\n",
              "      <th>4</th>\n",
              "      <td>0</td>\n",
              "      <td>2021-04-01 13:00:00</td>\n",
              "      <td>1.0</td>\n",
              "      <td>0.000000</td>\n",
              "    </tr>\n",
              "  </tbody>\n",
              "</table>\n",
              "</div>\n",
              "      <button class=\"colab-df-convert\" onclick=\"convertToInteractive('df-158ba80e-f7ae-4783-b9f3-681664f09d17')\"\n",
              "              title=\"Convert this dataframe to an interactive table.\"\n",
              "              style=\"display:none;\">\n",
              "        \n",
              "  <svg xmlns=\"http://www.w3.org/2000/svg\" height=\"24px\"viewBox=\"0 0 24 24\"\n",
              "       width=\"24px\">\n",
              "    <path d=\"M0 0h24v24H0V0z\" fill=\"none\"/>\n",
              "    <path d=\"M18.56 5.44l.94 2.06.94-2.06 2.06-.94-2.06-.94-.94-2.06-.94 2.06-2.06.94zm-11 1L8.5 8.5l.94-2.06 2.06-.94-2.06-.94L8.5 2.5l-.94 2.06-2.06.94zm10 10l.94 2.06.94-2.06 2.06-.94-2.06-.94-.94-2.06-.94 2.06-2.06.94z\"/><path d=\"M17.41 7.96l-1.37-1.37c-.4-.4-.92-.59-1.43-.59-.52 0-1.04.2-1.43.59L10.3 9.45l-7.72 7.72c-.78.78-.78 2.05 0 2.83L4 21.41c.39.39.9.59 1.41.59.51 0 1.02-.2 1.41-.59l7.78-7.78 2.81-2.81c.8-.78.8-2.07 0-2.86zM5.41 20L4 18.59l7.72-7.72 1.47 1.35L5.41 20z\"/>\n",
              "  </svg>\n",
              "      </button>\n",
              "      \n",
              "  <style>\n",
              "    .colab-df-container {\n",
              "      display:flex;\n",
              "      flex-wrap:wrap;\n",
              "      gap: 12px;\n",
              "    }\n",
              "\n",
              "    .colab-df-convert {\n",
              "      background-color: #E8F0FE;\n",
              "      border: none;\n",
              "      border-radius: 50%;\n",
              "      cursor: pointer;\n",
              "      display: none;\n",
              "      fill: #1967D2;\n",
              "      height: 32px;\n",
              "      padding: 0 0 0 0;\n",
              "      width: 32px;\n",
              "    }\n",
              "\n",
              "    .colab-df-convert:hover {\n",
              "      background-color: #E2EBFA;\n",
              "      box-shadow: 0px 1px 2px rgba(60, 64, 67, 0.3), 0px 1px 3px 1px rgba(60, 64, 67, 0.15);\n",
              "      fill: #174EA6;\n",
              "    }\n",
              "\n",
              "    [theme=dark] .colab-df-convert {\n",
              "      background-color: #3B4455;\n",
              "      fill: #D2E3FC;\n",
              "    }\n",
              "\n",
              "    [theme=dark] .colab-df-convert:hover {\n",
              "      background-color: #434B5C;\n",
              "      box-shadow: 0px 1px 3px 1px rgba(0, 0, 0, 0.15);\n",
              "      filter: drop-shadow(0px 1px 2px rgba(0, 0, 0, 0.3));\n",
              "      fill: #FFFFFF;\n",
              "    }\n",
              "  </style>\n",
              "\n",
              "      <script>\n",
              "        const buttonEl =\n",
              "          document.querySelector('#df-158ba80e-f7ae-4783-b9f3-681664f09d17 button.colab-df-convert');\n",
              "        buttonEl.style.display =\n",
              "          google.colab.kernel.accessAllowed ? 'block' : 'none';\n",
              "\n",
              "        async function convertToInteractive(key) {\n",
              "          const element = document.querySelector('#df-158ba80e-f7ae-4783-b9f3-681664f09d17');\n",
              "          const dataTable =\n",
              "            await google.colab.kernel.invokeFunction('convertToInteractive',\n",
              "                                                     [key], {});\n",
              "          if (!dataTable) return;\n",
              "\n",
              "          const docLinkHtml = 'Like what you see? Visit the ' +\n",
              "            '<a target=\"_blank\" href=https://colab.research.google.com/notebooks/data_table.ipynb>data table notebook</a>'\n",
              "            + ' to learn more about interactive tables.';\n",
              "          element.innerHTML = '';\n",
              "          dataTable['output_type'] = 'display_data';\n",
              "          await google.colab.output.renderOutput(dataTable, element);\n",
              "          const docLink = document.createElement('div');\n",
              "          docLink.innerHTML = docLinkHtml;\n",
              "          element.appendChild(docLink);\n",
              "        }\n",
              "      </script>\n",
              "    </div>\n",
              "  </div>\n",
              "  "
            ],
            "text/plain": [
              "   delivery_area_id                dttm  partners_cnt  delay_rate\n",
              "0                 0 2021-04-01 09:00:00           3.0    0.000000\n",
              "1                 0 2021-04-01 10:00:00           4.0    0.111111\n",
              "2                 0 2021-04-01 11:00:00           4.0    0.000000\n",
              "3                 0 2021-04-01 12:00:00           4.0    0.000000\n",
              "4                 0 2021-04-01 13:00:00           1.0    0.000000"
            ]
          },
          "metadata": {},
          "execution_count": 9
        }
      ],
      "source": [
        "delays.head()"
      ]
    },
    {
      "cell_type": "markdown",
      "metadata": {
        "id": "TFU6gJLjgHOq"
      },
      "source": [
        "#### Праздничные и выходные дни"
      ]
    },
    {
      "cell_type": "code",
      "execution_count": 10,
      "metadata": {
        "id": "w3ssxEgxgGtW"
      },
      "outputs": [],
      "source": [
        "dayoffs = [\n",
        "  '2021.01.01','2021.01.02','2021.01.03','2021.01.04','2021.01.05','2021.01.06','2021.01.07','2021.01.08','2021.01.09','2021.01.10','2021.01.16','2021.01.17','2021.01.23',\n",
        "  '2021.01.24','2021.01.30','2021.01.31','2021.02.06','2021.02.07','2021.02.13','2021.02.14','2021.02.21','2021.02.22','2021.02.23','2021.02.27','2021.02.28','2021.03.06',\n",
        "  '2021.03.07','2021.03.08','2021.03.13','2021.03.14','2021.03.20','2021.03.21','2021.03.27','2021.03.28','2021.04.03','2021.04.04','2021.04.10','2021.04.11','2021.04.17',\n",
        "  '2021.04.18','2021.04.24','2021.04.25','2021.05.01','2021.05.02','2021.05.03','2021.05.04','2021.05.05','2021.05.06','2021.05.07','2021.05.08','2021.05.09','2021.05.10',\n",
        "  '2021.05.15','2021.05.16','2021.05.22','2021.05.23','2021.05.29','2021.05.30','2021.06.05','2021.06.06','2021.06.12','2021.06.13','2021.06.14','2021.06.19','2021.06.20',\n",
        "  '2021.06.26','2021.06.27','2021.07.03','2021.07.04','2021.07.10','2021.07.11','2021.07.17','2021.07.18','2021.07.24','2021.07.25','2021.07.31','2021.08.01','2021.08.07',\n",
        "  '2021.08.08','2021.08.14','2021.08.15','2021.08.21','2021.08.22','2021.08.28','2021.08.29','2021.09.04','2021.09.05','2021.09.11','2021.09.12','2021.09.18','2021.09.19',\n",
        "  '2021.09.25','2021.09.26','2021.10.02','2021.10.03','2021.10.09','2021.10.10','2021.10.16','2021.10.17','2021.10.23','2021.10.24','2021.10.30','2021.10.31','2021.11.01',\n",
        "  '2021.11.02','2021.11.03','2021.11.04','2021.11.05','2021.11.06','2021.11.07','2021.11.13','2021.11.14','2021.11.20','2021.11.21','2021.11.27','2021.11.28','2021.12.04',\n",
        "  '2021.12.05','2021.12.11','2021.12.12','2021.12.18','2021.12.19','2021.12.25','2021.12.26','2021.12.31'\n",
        "]\n",
        "dayoffs = [pd.to_datetime(day) for day in dayoffs]"
      ]
    },
    {
      "cell_type": "code",
      "execution_count": 11,
      "metadata": {
        "colab": {
          "base_uri": "https://localhost:8080/",
          "height": 0
        },
        "id": "uWQ4TZ-PoXsR",
        "outputId": "53cd5220-3513-43c4-cfc5-085eb7372fd0"
      },
      "outputs": [
        {
          "output_type": "execute_result",
          "data": {
            "text/html": [
              "\n",
              "  <div id=\"df-dc5c1ef3-946d-469a-9787-41ba15c7993e\">\n",
              "    <div class=\"colab-df-container\">\n",
              "      <div>\n",
              "<style scoped>\n",
              "    .dataframe tbody tr th:only-of-type {\n",
              "        vertical-align: middle;\n",
              "    }\n",
              "\n",
              "    .dataframe tbody tr th {\n",
              "        vertical-align: top;\n",
              "    }\n",
              "\n",
              "    .dataframe thead th {\n",
              "        text-align: right;\n",
              "    }\n",
              "</style>\n",
              "<table border=\"1\" class=\"dataframe\">\n",
              "  <thead>\n",
              "    <tr style=\"text-align: right;\">\n",
              "      <th></th>\n",
              "      <th>ds</th>\n",
              "      <th>holiday</th>\n",
              "    </tr>\n",
              "  </thead>\n",
              "  <tbody>\n",
              "    <tr>\n",
              "      <th>0</th>\n",
              "      <td>2021-01-01</td>\n",
              "      <td>Новый год</td>\n",
              "    </tr>\n",
              "    <tr>\n",
              "      <th>1</th>\n",
              "      <td>2021-01-02</td>\n",
              "      <td>Новый год</td>\n",
              "    </tr>\n",
              "    <tr>\n",
              "      <th>2</th>\n",
              "      <td>2021-01-03</td>\n",
              "      <td>Новый год</td>\n",
              "    </tr>\n",
              "    <tr>\n",
              "      <th>3</th>\n",
              "      <td>2021-01-04</td>\n",
              "      <td>Новый год</td>\n",
              "    </tr>\n",
              "    <tr>\n",
              "      <th>4</th>\n",
              "      <td>2021-01-05</td>\n",
              "      <td>Новый год</td>\n",
              "    </tr>\n",
              "  </tbody>\n",
              "</table>\n",
              "</div>\n",
              "      <button class=\"colab-df-convert\" onclick=\"convertToInteractive('df-dc5c1ef3-946d-469a-9787-41ba15c7993e')\"\n",
              "              title=\"Convert this dataframe to an interactive table.\"\n",
              "              style=\"display:none;\">\n",
              "        \n",
              "  <svg xmlns=\"http://www.w3.org/2000/svg\" height=\"24px\"viewBox=\"0 0 24 24\"\n",
              "       width=\"24px\">\n",
              "    <path d=\"M0 0h24v24H0V0z\" fill=\"none\"/>\n",
              "    <path d=\"M18.56 5.44l.94 2.06.94-2.06 2.06-.94-2.06-.94-.94-2.06-.94 2.06-2.06.94zm-11 1L8.5 8.5l.94-2.06 2.06-.94-2.06-.94L8.5 2.5l-.94 2.06-2.06.94zm10 10l.94 2.06.94-2.06 2.06-.94-2.06-.94-.94-2.06-.94 2.06-2.06.94z\"/><path d=\"M17.41 7.96l-1.37-1.37c-.4-.4-.92-.59-1.43-.59-.52 0-1.04.2-1.43.59L10.3 9.45l-7.72 7.72c-.78.78-.78 2.05 0 2.83L4 21.41c.39.39.9.59 1.41.59.51 0 1.02-.2 1.41-.59l7.78-7.78 2.81-2.81c.8-.78.8-2.07 0-2.86zM5.41 20L4 18.59l7.72-7.72 1.47 1.35L5.41 20z\"/>\n",
              "  </svg>\n",
              "      </button>\n",
              "      \n",
              "  <style>\n",
              "    .colab-df-container {\n",
              "      display:flex;\n",
              "      flex-wrap:wrap;\n",
              "      gap: 12px;\n",
              "    }\n",
              "\n",
              "    .colab-df-convert {\n",
              "      background-color: #E8F0FE;\n",
              "      border: none;\n",
              "      border-radius: 50%;\n",
              "      cursor: pointer;\n",
              "      display: none;\n",
              "      fill: #1967D2;\n",
              "      height: 32px;\n",
              "      padding: 0 0 0 0;\n",
              "      width: 32px;\n",
              "    }\n",
              "\n",
              "    .colab-df-convert:hover {\n",
              "      background-color: #E2EBFA;\n",
              "      box-shadow: 0px 1px 2px rgba(60, 64, 67, 0.3), 0px 1px 3px 1px rgba(60, 64, 67, 0.15);\n",
              "      fill: #174EA6;\n",
              "    }\n",
              "\n",
              "    [theme=dark] .colab-df-convert {\n",
              "      background-color: #3B4455;\n",
              "      fill: #D2E3FC;\n",
              "    }\n",
              "\n",
              "    [theme=dark] .colab-df-convert:hover {\n",
              "      background-color: #434B5C;\n",
              "      box-shadow: 0px 1px 3px 1px rgba(0, 0, 0, 0.15);\n",
              "      filter: drop-shadow(0px 1px 2px rgba(0, 0, 0, 0.3));\n",
              "      fill: #FFFFFF;\n",
              "    }\n",
              "  </style>\n",
              "\n",
              "      <script>\n",
              "        const buttonEl =\n",
              "          document.querySelector('#df-dc5c1ef3-946d-469a-9787-41ba15c7993e button.colab-df-convert');\n",
              "        buttonEl.style.display =\n",
              "          google.colab.kernel.accessAllowed ? 'block' : 'none';\n",
              "\n",
              "        async function convertToInteractive(key) {\n",
              "          const element = document.querySelector('#df-dc5c1ef3-946d-469a-9787-41ba15c7993e');\n",
              "          const dataTable =\n",
              "            await google.colab.kernel.invokeFunction('convertToInteractive',\n",
              "                                                     [key], {});\n",
              "          if (!dataTable) return;\n",
              "\n",
              "          const docLinkHtml = 'Like what you see? Visit the ' +\n",
              "            '<a target=\"_blank\" href=https://colab.research.google.com/notebooks/data_table.ipynb>data table notebook</a>'\n",
              "            + ' to learn more about interactive tables.';\n",
              "          element.innerHTML = '';\n",
              "          dataTable['output_type'] = 'display_data';\n",
              "          await google.colab.output.renderOutput(dataTable, element);\n",
              "          const docLink = document.createElement('div');\n",
              "          docLink.innerHTML = docLinkHtml;\n",
              "          element.appendChild(docLink);\n",
              "        }\n",
              "      </script>\n",
              "    </div>\n",
              "  </div>\n",
              "  "
            ],
            "text/plain": [
              "          ds    holiday\n",
              "0 2021-01-01  Новый год\n",
              "1 2021-01-02  Новый год\n",
              "2 2021-01-03  Новый год\n",
              "3 2021-01-04  Новый год\n",
              "4 2021-01-05  Новый год"
            ]
          },
          "metadata": {},
          "execution_count": 11
        }
      ],
      "source": [
        "holidays_dict = holidays.RU(years=(2021))\n",
        "df_holidays = pd.DataFrame.from_dict(holidays_dict, orient='index').reset_index()\n",
        "df_holidays.columns = ['ds', 'holiday']\n",
        "df_holidays['ds'] = pd.to_datetime(df_holidays['ds'])\n",
        "df_holidays.head()"
      ]
    },
    {
      "cell_type": "markdown",
      "metadata": {
        "id": "xJNABjDxoIZO"
      },
      "source": [
        "#### Описательные статистики"
      ]
    },
    {
      "cell_type": "code",
      "execution_count": 12,
      "metadata": {
        "colab": {
          "base_uri": "https://localhost:8080/",
          "height": 0
        },
        "id": "hBt7B49SkvvN",
        "outputId": "3de2faa7-d01e-4619-d38a-b3d3c0c37b4f"
      },
      "outputs": [
        {
          "output_type": "execute_result",
          "data": {
            "text/html": [
              "\n",
              "  <div id=\"df-bcd0a9d5-120f-4e02-b898-633f21419884\">\n",
              "    <div class=\"colab-df-container\">\n",
              "      <div>\n",
              "<style scoped>\n",
              "    .dataframe tbody tr th:only-of-type {\n",
              "        vertical-align: middle;\n",
              "    }\n",
              "\n",
              "    .dataframe tbody tr th {\n",
              "        vertical-align: top;\n",
              "    }\n",
              "\n",
              "    .dataframe thead th {\n",
              "        text-align: right;\n",
              "    }\n",
              "</style>\n",
              "<table border=\"1\" class=\"dataframe\">\n",
              "  <thead>\n",
              "    <tr style=\"text-align: right;\">\n",
              "      <th></th>\n",
              "      <th>delivery_area_id</th>\n",
              "      <th>partners_cnt</th>\n",
              "      <th>delay_rate</th>\n",
              "    </tr>\n",
              "  </thead>\n",
              "  <tbody>\n",
              "    <tr>\n",
              "      <th>count</th>\n",
              "      <td>1.247471e+06</td>\n",
              "      <td>1.247471e+06</td>\n",
              "      <td>1.247471e+06</td>\n",
              "    </tr>\n",
              "    <tr>\n",
              "      <th>mean</th>\n",
              "      <td>2.698000e+02</td>\n",
              "      <td>2.026328e+00</td>\n",
              "      <td>2.831878e-02</td>\n",
              "    </tr>\n",
              "    <tr>\n",
              "      <th>std</th>\n",
              "      <td>1.765557e+02</td>\n",
              "      <td>1.671793e+00</td>\n",
              "      <td>1.009584e-01</td>\n",
              "    </tr>\n",
              "    <tr>\n",
              "      <th>min</th>\n",
              "      <td>0.000000e+00</td>\n",
              "      <td>1.000000e+00</td>\n",
              "      <td>0.000000e+00</td>\n",
              "    </tr>\n",
              "    <tr>\n",
              "      <th>25%</th>\n",
              "      <td>1.050000e+02</td>\n",
              "      <td>1.000000e+00</td>\n",
              "      <td>0.000000e+00</td>\n",
              "    </tr>\n",
              "    <tr>\n",
              "      <th>50%</th>\n",
              "      <td>2.650000e+02</td>\n",
              "      <td>1.000000e+00</td>\n",
              "      <td>0.000000e+00</td>\n",
              "    </tr>\n",
              "    <tr>\n",
              "      <th>75%</th>\n",
              "      <td>4.210000e+02</td>\n",
              "      <td>2.000000e+00</td>\n",
              "      <td>0.000000e+00</td>\n",
              "    </tr>\n",
              "    <tr>\n",
              "      <th>max</th>\n",
              "      <td>5.920000e+02</td>\n",
              "      <td>6.000000e+01</td>\n",
              "      <td>1.000000e+00</td>\n",
              "    </tr>\n",
              "  </tbody>\n",
              "</table>\n",
              "</div>\n",
              "      <button class=\"colab-df-convert\" onclick=\"convertToInteractive('df-bcd0a9d5-120f-4e02-b898-633f21419884')\"\n",
              "              title=\"Convert this dataframe to an interactive table.\"\n",
              "              style=\"display:none;\">\n",
              "        \n",
              "  <svg xmlns=\"http://www.w3.org/2000/svg\" height=\"24px\"viewBox=\"0 0 24 24\"\n",
              "       width=\"24px\">\n",
              "    <path d=\"M0 0h24v24H0V0z\" fill=\"none\"/>\n",
              "    <path d=\"M18.56 5.44l.94 2.06.94-2.06 2.06-.94-2.06-.94-.94-2.06-.94 2.06-2.06.94zm-11 1L8.5 8.5l.94-2.06 2.06-.94-2.06-.94L8.5 2.5l-.94 2.06-2.06.94zm10 10l.94 2.06.94-2.06 2.06-.94-2.06-.94-.94-2.06-.94 2.06-2.06.94z\"/><path d=\"M17.41 7.96l-1.37-1.37c-.4-.4-.92-.59-1.43-.59-.52 0-1.04.2-1.43.59L10.3 9.45l-7.72 7.72c-.78.78-.78 2.05 0 2.83L4 21.41c.39.39.9.59 1.41.59.51 0 1.02-.2 1.41-.59l7.78-7.78 2.81-2.81c.8-.78.8-2.07 0-2.86zM5.41 20L4 18.59l7.72-7.72 1.47 1.35L5.41 20z\"/>\n",
              "  </svg>\n",
              "      </button>\n",
              "      \n",
              "  <style>\n",
              "    .colab-df-container {\n",
              "      display:flex;\n",
              "      flex-wrap:wrap;\n",
              "      gap: 12px;\n",
              "    }\n",
              "\n",
              "    .colab-df-convert {\n",
              "      background-color: #E8F0FE;\n",
              "      border: none;\n",
              "      border-radius: 50%;\n",
              "      cursor: pointer;\n",
              "      display: none;\n",
              "      fill: #1967D2;\n",
              "      height: 32px;\n",
              "      padding: 0 0 0 0;\n",
              "      width: 32px;\n",
              "    }\n",
              "\n",
              "    .colab-df-convert:hover {\n",
              "      background-color: #E2EBFA;\n",
              "      box-shadow: 0px 1px 2px rgba(60, 64, 67, 0.3), 0px 1px 3px 1px rgba(60, 64, 67, 0.15);\n",
              "      fill: #174EA6;\n",
              "    }\n",
              "\n",
              "    [theme=dark] .colab-df-convert {\n",
              "      background-color: #3B4455;\n",
              "      fill: #D2E3FC;\n",
              "    }\n",
              "\n",
              "    [theme=dark] .colab-df-convert:hover {\n",
              "      background-color: #434B5C;\n",
              "      box-shadow: 0px 1px 3px 1px rgba(0, 0, 0, 0.15);\n",
              "      filter: drop-shadow(0px 1px 2px rgba(0, 0, 0, 0.3));\n",
              "      fill: #FFFFFF;\n",
              "    }\n",
              "  </style>\n",
              "\n",
              "      <script>\n",
              "        const buttonEl =\n",
              "          document.querySelector('#df-bcd0a9d5-120f-4e02-b898-633f21419884 button.colab-df-convert');\n",
              "        buttonEl.style.display =\n",
              "          google.colab.kernel.accessAllowed ? 'block' : 'none';\n",
              "\n",
              "        async function convertToInteractive(key) {\n",
              "          const element = document.querySelector('#df-bcd0a9d5-120f-4e02-b898-633f21419884');\n",
              "          const dataTable =\n",
              "            await google.colab.kernel.invokeFunction('convertToInteractive',\n",
              "                                                     [key], {});\n",
              "          if (!dataTable) return;\n",
              "\n",
              "          const docLinkHtml = 'Like what you see? Visit the ' +\n",
              "            '<a target=\"_blank\" href=https://colab.research.google.com/notebooks/data_table.ipynb>data table notebook</a>'\n",
              "            + ' to learn more about interactive tables.';\n",
              "          element.innerHTML = '';\n",
              "          dataTable['output_type'] = 'display_data';\n",
              "          await google.colab.output.renderOutput(dataTable, element);\n",
              "          const docLink = document.createElement('div');\n",
              "          docLink.innerHTML = docLinkHtml;\n",
              "          element.appendChild(docLink);\n",
              "        }\n",
              "      </script>\n",
              "    </div>\n",
              "  </div>\n",
              "  "
            ],
            "text/plain": [
              "       delivery_area_id  partners_cnt    delay_rate\n",
              "count      1.247471e+06  1.247471e+06  1.247471e+06\n",
              "mean       2.698000e+02  2.026328e+00  2.831878e-02\n",
              "std        1.765557e+02  1.671793e+00  1.009584e-01\n",
              "min        0.000000e+00  1.000000e+00  0.000000e+00\n",
              "25%        1.050000e+02  1.000000e+00  0.000000e+00\n",
              "50%        2.650000e+02  1.000000e+00  0.000000e+00\n",
              "75%        4.210000e+02  2.000000e+00  0.000000e+00\n",
              "max        5.920000e+02  6.000000e+01  1.000000e+00"
            ]
          },
          "metadata": {},
          "execution_count": 12
        }
      ],
      "source": [
        "delays.describe()"
      ]
    },
    {
      "cell_type": "code",
      "execution_count": 13,
      "metadata": {
        "colab": {
          "base_uri": "https://localhost:8080/",
          "height": 0
        },
        "id": "H4fiLJMhkvrx",
        "outputId": "026f3ecb-fe31-413f-da44-8b5359e81ac1"
      },
      "outputs": [
        {
          "output_type": "execute_result",
          "data": {
            "text/html": [
              "\n",
              "  <div id=\"df-3898e2d5-53c8-4641-8555-90b305d4ad98\">\n",
              "    <div class=\"colab-df-container\">\n",
              "      <div>\n",
              "<style scoped>\n",
              "    .dataframe tbody tr th:only-of-type {\n",
              "        vertical-align: middle;\n",
              "    }\n",
              "\n",
              "    .dataframe tbody tr th {\n",
              "        vertical-align: top;\n",
              "    }\n",
              "\n",
              "    .dataframe thead th {\n",
              "        text-align: right;\n",
              "    }\n",
              "</style>\n",
              "<table border=\"1\" class=\"dataframe\">\n",
              "  <thead>\n",
              "    <tr style=\"text-align: right;\">\n",
              "      <th></th>\n",
              "      <th>delivery_area_id</th>\n",
              "      <th>orders_cnt</th>\n",
              "    </tr>\n",
              "  </thead>\n",
              "  <tbody>\n",
              "    <tr>\n",
              "      <th>count</th>\n",
              "      <td>884856.000000</td>\n",
              "      <td>884856.000000</td>\n",
              "    </tr>\n",
              "    <tr>\n",
              "      <th>mean</th>\n",
              "      <td>259.623341</td>\n",
              "      <td>3.790038</td>\n",
              "    </tr>\n",
              "    <tr>\n",
              "      <th>std</th>\n",
              "      <td>178.580787</td>\n",
              "      <td>3.808991</td>\n",
              "    </tr>\n",
              "    <tr>\n",
              "      <th>min</th>\n",
              "      <td>0.000000</td>\n",
              "      <td>1.000000</td>\n",
              "    </tr>\n",
              "    <tr>\n",
              "      <th>25%</th>\n",
              "      <td>88.000000</td>\n",
              "      <td>1.000000</td>\n",
              "    </tr>\n",
              "    <tr>\n",
              "      <th>50%</th>\n",
              "      <td>253.000000</td>\n",
              "      <td>3.000000</td>\n",
              "    </tr>\n",
              "    <tr>\n",
              "      <th>75%</th>\n",
              "      <td>416.000000</td>\n",
              "      <td>5.000000</td>\n",
              "    </tr>\n",
              "    <tr>\n",
              "      <th>max</th>\n",
              "      <td>592.000000</td>\n",
              "      <td>120.000000</td>\n",
              "    </tr>\n",
              "  </tbody>\n",
              "</table>\n",
              "</div>\n",
              "      <button class=\"colab-df-convert\" onclick=\"convertToInteractive('df-3898e2d5-53c8-4641-8555-90b305d4ad98')\"\n",
              "              title=\"Convert this dataframe to an interactive table.\"\n",
              "              style=\"display:none;\">\n",
              "        \n",
              "  <svg xmlns=\"http://www.w3.org/2000/svg\" height=\"24px\"viewBox=\"0 0 24 24\"\n",
              "       width=\"24px\">\n",
              "    <path d=\"M0 0h24v24H0V0z\" fill=\"none\"/>\n",
              "    <path d=\"M18.56 5.44l.94 2.06.94-2.06 2.06-.94-2.06-.94-.94-2.06-.94 2.06-2.06.94zm-11 1L8.5 8.5l.94-2.06 2.06-.94-2.06-.94L8.5 2.5l-.94 2.06-2.06.94zm10 10l.94 2.06.94-2.06 2.06-.94-2.06-.94-.94-2.06-.94 2.06-2.06.94z\"/><path d=\"M17.41 7.96l-1.37-1.37c-.4-.4-.92-.59-1.43-.59-.52 0-1.04.2-1.43.59L10.3 9.45l-7.72 7.72c-.78.78-.78 2.05 0 2.83L4 21.41c.39.39.9.59 1.41.59.51 0 1.02-.2 1.41-.59l7.78-7.78 2.81-2.81c.8-.78.8-2.07 0-2.86zM5.41 20L4 18.59l7.72-7.72 1.47 1.35L5.41 20z\"/>\n",
              "  </svg>\n",
              "      </button>\n",
              "      \n",
              "  <style>\n",
              "    .colab-df-container {\n",
              "      display:flex;\n",
              "      flex-wrap:wrap;\n",
              "      gap: 12px;\n",
              "    }\n",
              "\n",
              "    .colab-df-convert {\n",
              "      background-color: #E8F0FE;\n",
              "      border: none;\n",
              "      border-radius: 50%;\n",
              "      cursor: pointer;\n",
              "      display: none;\n",
              "      fill: #1967D2;\n",
              "      height: 32px;\n",
              "      padding: 0 0 0 0;\n",
              "      width: 32px;\n",
              "    }\n",
              "\n",
              "    .colab-df-convert:hover {\n",
              "      background-color: #E2EBFA;\n",
              "      box-shadow: 0px 1px 2px rgba(60, 64, 67, 0.3), 0px 1px 3px 1px rgba(60, 64, 67, 0.15);\n",
              "      fill: #174EA6;\n",
              "    }\n",
              "\n",
              "    [theme=dark] .colab-df-convert {\n",
              "      background-color: #3B4455;\n",
              "      fill: #D2E3FC;\n",
              "    }\n",
              "\n",
              "    [theme=dark] .colab-df-convert:hover {\n",
              "      background-color: #434B5C;\n",
              "      box-shadow: 0px 1px 3px 1px rgba(0, 0, 0, 0.15);\n",
              "      filter: drop-shadow(0px 1px 2px rgba(0, 0, 0, 0.3));\n",
              "      fill: #FFFFFF;\n",
              "    }\n",
              "  </style>\n",
              "\n",
              "      <script>\n",
              "        const buttonEl =\n",
              "          document.querySelector('#df-3898e2d5-53c8-4641-8555-90b305d4ad98 button.colab-df-convert');\n",
              "        buttonEl.style.display =\n",
              "          google.colab.kernel.accessAllowed ? 'block' : 'none';\n",
              "\n",
              "        async function convertToInteractive(key) {\n",
              "          const element = document.querySelector('#df-3898e2d5-53c8-4641-8555-90b305d4ad98');\n",
              "          const dataTable =\n",
              "            await google.colab.kernel.invokeFunction('convertToInteractive',\n",
              "                                                     [key], {});\n",
              "          if (!dataTable) return;\n",
              "\n",
              "          const docLinkHtml = 'Like what you see? Visit the ' +\n",
              "            '<a target=\"_blank\" href=https://colab.research.google.com/notebooks/data_table.ipynb>data table notebook</a>'\n",
              "            + ' to learn more about interactive tables.';\n",
              "          element.innerHTML = '';\n",
              "          dataTable['output_type'] = 'display_data';\n",
              "          await google.colab.output.renderOutput(dataTable, element);\n",
              "          const docLink = document.createElement('div');\n",
              "          docLink.innerHTML = docLinkHtml;\n",
              "          element.appendChild(docLink);\n",
              "        }\n",
              "      </script>\n",
              "    </div>\n",
              "  </div>\n",
              "  "
            ],
            "text/plain": [
              "       delivery_area_id     orders_cnt\n",
              "count     884856.000000  884856.000000\n",
              "mean         259.623341       3.790038\n",
              "std          178.580787       3.808991\n",
              "min            0.000000       1.000000\n",
              "25%           88.000000       1.000000\n",
              "50%          253.000000       3.000000\n",
              "75%          416.000000       5.000000\n",
              "max          592.000000     120.000000"
            ]
          },
          "metadata": {},
          "execution_count": 13
        }
      ],
      "source": [
        "orders.describe()"
      ]
    },
    {
      "cell_type": "markdown",
      "metadata": {
        "id": "xiySPuEFn4W2"
      },
      "source": [
        "#### Разбиение даты на составляющие"
      ]
    },
    {
      "cell_type": "code",
      "execution_count": 14,
      "metadata": {
        "id": "sdP3COBYik2x"
      },
      "outputs": [],
      "source": [
        "def split_date_time(data):\n",
        "  data['dttm'] = pd.to_datetime(data['dttm'])\n",
        "  data['year'] = data['dttm'].dt.year\n",
        "  data['month'] = data['dttm'].dt.month\n",
        "  data['week'] = data['dttm'].dt.week\n",
        "  data['dayofweek'] = data['dttm'].dt.dayofweek\n",
        "  data['doy'] = data['dttm'].dt.dayofyear\n",
        "  #data['time'] = data['dttm'].dt.time\n",
        "  #data['hour'] = data['dttm'].dt.hour\n",
        "  #data['hour_cos'] = np.cos(2 * math.pi * data['hour'] / 24)\n",
        "  #data['hour_sin'] = np.sin(2 * math.pi * data['hour'] / 24)\n",
        "  return data"
      ]
    },
    {
      "cell_type": "markdown",
      "metadata": {
        "id": "3F2b4IQ_mM6f"
      },
      "source": [
        "#### Группировка по дате"
      ]
    },
    {
      "cell_type": "code",
      "execution_count": 15,
      "metadata": {
        "id": "Dn_9CPirmME_"
      },
      "outputs": [],
      "source": [
        "orders['date'] = orders['date'].dt.date\n",
        "orders = orders.groupby(['delivery_area_id', 'date']).count()['orders_cnt'].reset_index()"
      ]
    },
    {
      "cell_type": "code",
      "execution_count": 16,
      "metadata": {
        "id": "Mw-qyrehnVOm"
      },
      "outputs": [],
      "source": [
        "orders['dttm'] = orders['date']\n",
        "delays = split_date_time(delays)\n",
        "orders = split_date_time(orders)"
      ]
    },
    {
      "cell_type": "markdown",
      "metadata": {
        "id": "ySrcgkGUN8z7"
      },
      "source": [
        "#### Добавление 0 для отсутствующих значений"
      ]
    },
    {
      "cell_type": "code",
      "execution_count": 17,
      "metadata": {
        "id": "ClA8Yu-yO1bi"
      },
      "outputs": [],
      "source": [
        "if 0:\n",
        "  dates = pd.date_range(orders.date.min(), orders.date.max() + timedelta(days=1), freq='H').tolist()\n",
        "  dates = [date for date in dates if date.hour > 9 and date.hour < 20]"
      ]
    },
    {
      "cell_type": "code",
      "execution_count": 18,
      "metadata": {
        "id": "np_81Z98TjUw"
      },
      "outputs": [],
      "source": [
        "if 0:\n",
        "  dict_list = []\n",
        "  for delivery_area in tqdm(orders['delivery_area_id'].unique(), position=0, leave=True):\n",
        "    for date in dates:\n",
        "        dict_list.append({\n",
        "          'delivery_area_id': delivery_area,\n",
        "          'date': date,\n",
        "          'orders_cnt': 0\n",
        "        })\n",
        "\n",
        "  zeros_df = pd.DataFrame(dict_list)\n",
        "  print(zeros_df.shape)\n",
        "  zeros_df.head()"
      ]
    },
    {
      "cell_type": "code",
      "execution_count": 19,
      "metadata": {
        "id": "zBtDUPN9VDNZ"
      },
      "outputs": [],
      "source": [
        "if 0:\n",
        "  intersection = pd.merge(zeros_df.reset_index(), orders, how='inner', on=['date', 'delivery_area_id'])['index']\n",
        "  distinction = zeros_df.drop(zeros_df.iloc[intersection.values].index)\n",
        "  assert distinction.shape[0] == zeros_df.shape[0] - intersection.shape[0]"
      ]
    },
    {
      "cell_type": "code",
      "execution_count": 20,
      "metadata": {
        "id": "N7W2kYZKXnDf"
      },
      "outputs": [],
      "source": [
        "if 0:\n",
        "  orders = pd.concat([orders, distinction], ignore_index=True)\n",
        "  orders = orders.sort_values(by=['delivery_area_id', 'date'])\n",
        "  orders"
      ]
    },
    {
      "cell_type": "markdown",
      "metadata": {
        "id": "xF-zVmmHoNc9"
      },
      "source": [
        "### Визуализации"
      ]
    },
    {
      "cell_type": "markdown",
      "metadata": {
        "id": "8_U_Cfk2j1ol"
      },
      "source": [
        "#### Среднее опоздание по дням"
      ]
    },
    {
      "cell_type": "code",
      "execution_count": 21,
      "metadata": {
        "colab": {
          "base_uri": "https://localhost:8080/",
          "height": 0
        },
        "id": "L6WsySL_jH6W",
        "outputId": "c568df64-9661-4838-8f2c-4cf94f6ed13d"
      },
      "outputs": [
        {
          "output_type": "execute_result",
          "data": {
            "text/plain": [
              "<matplotlib.axes._subplots.AxesSubplot at 0x7f07b56bb850>"
            ]
          },
          "metadata": {},
          "execution_count": 21
        },
        {
          "output_type": "display_data",
          "data": {
            "image/png": "[encoded data removed]",
            "text/plain": [
              "<Figure size 864x504 with 1 Axes>"
            ]
          },
          "metadata": {}
        }
      ],
      "source": [
        "delays.groupby('dttm').mean()['delay_rate'].plot(figsize=(12, 7), grid=True)"
      ]
    },
    {
      "cell_type": "markdown",
      "metadata": {
        "id": "C1lJWjvKkISE"
      },
      "source": [
        "#### Среднее опоздание по времени дня"
      ]
    },
    {
      "cell_type": "code",
      "execution_count": 22,
      "metadata": {
        "id": "a8qHS30DkBPA"
      },
      "outputs": [],
      "source": [
        "#delays.groupby('hour').mean()['delay_rate'].plot(figsize=(12, 7), grid=True)"
      ]
    },
    {
      "cell_type": "markdown",
      "metadata": {
        "id": "76n-eZuDkXMl"
      },
      "source": [
        "#### Количество заказов по дням"
      ]
    },
    {
      "cell_type": "code",
      "execution_count": 23,
      "metadata": {
        "colab": {
          "base_uri": "https://localhost:8080/",
          "height": 0
        },
        "id": "WSpIYbW6iHqq",
        "outputId": "067d1725-055a-4af5-fbc4-a0a638ff6eab"
      },
      "outputs": [
        {
          "output_type": "execute_result",
          "data": {
            "text/plain": [
              "<matplotlib.axes._subplots.AxesSubplot at 0x7f07b3aa3310>"
            ]
          },
          "metadata": {},
          "execution_count": 23
        },
        {
          "output_type": "display_data",
          "data": {
            "image/png": "[encoded data removed]",
            "text/plain": [
              "<Figure size 864x504 with 1 Axes>"
            ]
          },
          "metadata": {}
        }
      ],
      "source": [
        "orders.groupby('date').mean()['orders_cnt'].plot(figsize=(12, 7), grid=True)"
      ]
    },
    {
      "cell_type": "markdown",
      "metadata": {
        "id": "KIQIYO_5kZLM"
      },
      "source": [
        "#### Количество заказов по времени дня"
      ]
    },
    {
      "cell_type": "code",
      "execution_count": 24,
      "metadata": {
        "id": "ULAT6bCXn8lV"
      },
      "outputs": [],
      "source": [
        "#orders.groupby('hour').mean()['orders_cnt'].plot(figsize=(12, 7), grid=True)"
      ]
    },
    {
      "cell_type": "markdown",
      "metadata": {
        "id": "6EX3P8U-kCrp"
      },
      "source": [
        "#### orders_cnt для разных delivery_area_id"
      ]
    },
    {
      "cell_type": "code",
      "execution_count": 25,
      "metadata": {
        "colab": {
          "base_uri": "https://localhost:8080/",
          "height": 0
        },
        "id": "HbNVyig7fIHK",
        "outputId": "14552287-0bf0-4581-f76c-0d0ce5cdd9f2"
      },
      "outputs": [
        {
          "output_type": "execute_result",
          "data": {
            "text/plain": [
              "<matplotlib.legend.Legend at 0x7f07b39e7a10>"
            ]
          },
          "metadata": {},
          "execution_count": 25
        },
        {
          "output_type": "display_data",
          "data": {
            "image/png": "[encoded data removed]",
            "text/plain": [
              "<Figure size 1152x432 with 1 Axes>"
            ]
          },
          "metadata": {}
        }
      ],
      "source": [
        "for delivery_area in [4, 592, 17]:\n",
        "  plt.plot(\n",
        "      orders[orders['delivery_area_id'] == delivery_area]['date'][:50],\n",
        "      orders[orders['delivery_area_id'] == delivery_area]['orders_cnt'][:50],\n",
        "      label=f'delivery_area_id == {delivery_area}'\n",
        "  )\n",
        "plt.legend()"
      ]
    },
    {
      "cell_type": "markdown",
      "metadata": {
        "id": "nF79-ZbzcppI"
      },
      "source": [
        "### Utils"
      ]
    },
    {
      "cell_type": "code",
      "execution_count": 26,
      "metadata": {
        "id": "HNXoVc4bZKeI"
      },
      "outputs": [],
      "source": [
        "def get_test_data(X):\n",
        "  X_train = X[X['date'] <= DATE_TEST_SPLIT]\n",
        "  X_test = X[X['date'] > DATE_TEST_SPLIT]\n",
        "  return X_train, X_test"
      ]
    },
    {
      "cell_type": "code",
      "execution_count": 27,
      "metadata": {
        "id": "4SEMhFPPcpF6"
      },
      "outputs": [],
      "source": [
        "def timeseries_train_test_split(X, y=None, test_size=0.3):\n",
        "  X = X.sort_values(by='date')\n",
        "  test_index = int(len(X) * (1 - test_size))\n",
        "  X_train = X.iloc[:test_index]\n",
        "  X_test = X.iloc[test_index:]\n",
        "  if y is not None:\n",
        "    y_train = y.iloc[:test_index]\n",
        "    y_test = y.iloc[test_index:]\n",
        "    return X_train, X_test, y_train, y_test\n",
        "  return X_train, X_test"
      ]
    },
    {
      "cell_type": "code",
      "execution_count": 28,
      "metadata": {
        "id": "z-gsGykU6dV4"
      },
      "outputs": [],
      "source": [
        "def save_all_dfs(X_train, X_val, X_test, name_suffix):\n",
        "  X_train.to_csv(f'X_train_{name_suffix}.csv', index=False)\n",
        "  X_val.to_csv(f'X_val_{name_suffix}.csv', index=False)\n",
        "  X_test.to_csv(f'X_test_{name_suffix}.csv', index=False)\n",
        "  print('Данные сохранены')"
      ]
    },
    {
      "cell_type": "code",
      "execution_count": 29,
      "metadata": {
        "id": "8k-KOwPY2SdJ"
      },
      "outputs": [],
      "source": [
        "def load_all(name_suffix):\n",
        "  X_train = pd.read_csv(f'X_train_{name_suffix}.csv')\n",
        "  X_val = pd.read_csv(f'X_val_{name_suffix}.csv')\n",
        "  X_test = pd.read_csv(f'X_test_{name_suffix}.csv')\n",
        "  return X_train, X_val, X_test"
      ]
    },
    {
      "cell_type": "markdown",
      "metadata": {
        "id": "0v2-PmwmH-X_"
      },
      "source": [
        "### Подготовка данных"
      ]
    },
    {
      "cell_type": "markdown",
      "metadata": {
        "id": "tnlq9HYqkLww"
      },
      "source": [
        "#### Генерация признаков вида i дней назад/вперед"
      ]
    },
    {
      "cell_type": "code",
      "execution_count": 30,
      "metadata": {
        "id": "6GtFtEvsb9A5"
      },
      "outputs": [],
      "source": [
        "def get_prev_next_features(data):\n",
        "  data = data.sort_values(by=['delivery_area_id', 'date'])\n",
        "\n",
        "  for i in range(1, PREV_COLS_CNT + 1):\n",
        "    data['prev_' + str(i)] = data.groupby(['delivery_area_id', 'date'], as_index=False).mean().shift(i).rolling(1).sum()['orders_cnt']\n",
        "\n",
        "  data[\"future_1\"] = data['orders_cnt'].copy()\n",
        "  for i in range(2, NEXT_COLS_CNT + 1):\n",
        "    data[\"future_\" + str(i)] = data.groupby(['delivery_area_id', 'date'], as_index=False).mean().shift(-i+1).rolling(1).mean()['orders_cnt']\n",
        "\n",
        "  return data"
      ]
    },
    {
      "cell_type": "code",
      "execution_count": 31,
      "metadata": {
        "id": "df5npSOOFF9o"
      },
      "outputs": [],
      "source": [
        "orders = get_prev_next_features(orders)"
      ]
    },
    {
      "cell_type": "markdown",
      "metadata": {
        "id": "bwn5DlPS0ohK"
      },
      "source": [
        "#### Train/val/test split"
      ]
    },
    {
      "cell_type": "code",
      "execution_count": 32,
      "metadata": {
        "colab": {
          "base_uri": "https://localhost:8080/"
        },
        "id": "HpKJ4koc0n24",
        "outputId": "75256d7e-6215-431c-b6cb-e40f0f05120f"
      },
      "outputs": [
        {
          "output_type": "stream",
          "name": "stdout",
          "text": [
            "Train shape: (71230, 46)\n",
            "Valid shape: (17808, 46)\n",
            "Test shape: (8168, 46)\n"
          ]
        }
      ],
      "source": [
        "X_train, X_test = get_test_data(orders)\n",
        "X_train, X_val = timeseries_train_test_split(X_train, test_size=0.2)\n",
        "\n",
        "print(f'Train shape: {X_train.shape}')\n",
        "print(f'Valid shape: {X_val.shape}')\n",
        "print(f'Test shape: {X_test.shape}')"
      ]
    },
    {
      "cell_type": "code",
      "execution_count": 33,
      "metadata": {
        "colab": {
          "base_uri": "https://localhost:8080/"
        },
        "id": "d-3RgACM0vGo",
        "outputId": "ee96c2d7-79fd-4e90-ea60-67872d0dad6a"
      },
      "outputs": [
        {
          "output_type": "execute_result",
          "data": {
            "text/plain": [
              "136"
            ]
          },
          "metadata": {},
          "execution_count": 33
        }
      ],
      "source": [
        "del orders\n",
        "gc.collect()"
      ]
    },
    {
      "cell_type": "markdown",
      "metadata": {
        "id": "-IWeAjz5n1E2"
      },
      "source": [
        "#### Праздники и нерабочие дни"
      ]
    },
    {
      "cell_type": "code",
      "execution_count": 34,
      "metadata": {
        "id": "X6jOeP3fn4U8"
      },
      "outputs": [],
      "source": [
        "def get_holidays_features(data):\n",
        "  data['is_holiday'] = data.progress_apply(lambda x: x['date'] in df_holidays['ds'].values, axis=1)\n",
        "  data['is_dayoff'] = data.progress_apply(lambda x: x['date'] in dayoffs, axis=1)\n",
        "  data['is_weekend'] = data.progress_apply(lambda x: x['dayofweek'] in [5, 6], axis=1)\n",
        "  return data"
      ]
    },
    {
      "cell_type": "code",
      "execution_count": 35,
      "metadata": {
        "colab": {
          "base_uri": "https://localhost:8080/",
          "height": 0
        },
        "id": "fccFEH0OnjkL",
        "outputId": "373328b9-c7d3-47e0-b61a-921e12ca824c"
      },
      "outputs": [
        {
          "output_type": "stream",
          "name": "stderr",
          "text": [
            "100%|██████████| 71230/71230 [00:02<00:00, 27217.42it/s]\n",
            "100%|██████████| 71230/71230 [00:01<00:00, 42428.81it/s]\n",
            "100%|██████████| 71230/71230 [00:01<00:00, 56465.26it/s]\n",
            "100%|██████████| 17808/17808 [00:00<00:00, 29919.21it/s]\n",
            "100%|██████████| 17808/17808 [00:00<00:00, 42252.60it/s]\n",
            "100%|██████████| 17808/17808 [00:00<00:00, 52667.29it/s]\n",
            "100%|██████████| 8168/8168 [00:00<00:00, 29817.83it/s]\n",
            "100%|██████████| 8168/8168 [00:00<00:00, 34756.44it/s]\n",
            "100%|██████████| 8168/8168 [00:00<00:00, 56687.66it/s]\n"
          ]
        },
        {
          "output_type": "execute_result",
          "data": {
            "text/html": [
              "\n",
              "  <div id=\"df-8a368725-ad58-4ebd-9671-d7eec64c9141\">\n",
              "    <div class=\"colab-df-container\">\n",
              "      <div>\n",
              "<style scoped>\n",
              "    .dataframe tbody tr th:only-of-type {\n",
              "        vertical-align: middle;\n",
              "    }\n",
              "\n",
              "    .dataframe tbody tr th {\n",
              "        vertical-align: top;\n",
              "    }\n",
              "\n",
              "    .dataframe thead th {\n",
              "        text-align: right;\n",
              "    }\n",
              "</style>\n",
              "<table border=\"1\" class=\"dataframe\">\n",
              "  <thead>\n",
              "    <tr style=\"text-align: right;\">\n",
              "      <th></th>\n",
              "      <th>delivery_area_id</th>\n",
              "      <th>date</th>\n",
              "      <th>orders_cnt</th>\n",
              "      <th>dttm</th>\n",
              "      <th>year</th>\n",
              "      <th>month</th>\n",
              "      <th>week</th>\n",
              "      <th>dayofweek</th>\n",
              "      <th>doy</th>\n",
              "      <th>prev_1</th>\n",
              "      <th>prev_2</th>\n",
              "      <th>prev_3</th>\n",
              "      <th>prev_4</th>\n",
              "      <th>prev_5</th>\n",
              "      <th>prev_6</th>\n",
              "      <th>prev_7</th>\n",
              "      <th>prev_8</th>\n",
              "      <th>prev_9</th>\n",
              "      <th>prev_10</th>\n",
              "      <th>prev_11</th>\n",
              "      <th>prev_12</th>\n",
              "      <th>prev_13</th>\n",
              "      <th>prev_14</th>\n",
              "      <th>prev_15</th>\n",
              "      <th>prev_16</th>\n",
              "      <th>prev_17</th>\n",
              "      <th>prev_18</th>\n",
              "      <th>prev_19</th>\n",
              "      <th>prev_20</th>\n",
              "      <th>prev_21</th>\n",
              "      <th>prev_22</th>\n",
              "      <th>prev_23</th>\n",
              "      <th>prev_24</th>\n",
              "      <th>prev_25</th>\n",
              "      <th>prev_26</th>\n",
              "      <th>prev_27</th>\n",
              "      <th>prev_28</th>\n",
              "      <th>prev_29</th>\n",
              "      <th>prev_30</th>\n",
              "      <th>future_1</th>\n",
              "      <th>future_2</th>\n",
              "      <th>future_3</th>\n",
              "      <th>future_4</th>\n",
              "      <th>future_5</th>\n",
              "      <th>future_6</th>\n",
              "      <th>future_7</th>\n",
              "      <th>is_holiday</th>\n",
              "      <th>is_dayoff</th>\n",
              "      <th>is_weekend</th>\n",
              "    </tr>\n",
              "  </thead>\n",
              "  <tbody>\n",
              "    <tr>\n",
              "      <th>0</th>\n",
              "      <td>0</td>\n",
              "      <td>2021-04-01</td>\n",
              "      <td>10</td>\n",
              "      <td>2021-04-01</td>\n",
              "      <td>2021</td>\n",
              "      <td>4</td>\n",
              "      <td>13</td>\n",
              "      <td>3</td>\n",
              "      <td>91</td>\n",
              "      <td>NaN</td>\n",
              "      <td>NaN</td>\n",
              "      <td>NaN</td>\n",
              "      <td>NaN</td>\n",
              "      <td>NaN</td>\n",
              "      <td>NaN</td>\n",
              "      <td>NaN</td>\n",
              "      <td>NaN</td>\n",
              "      <td>NaN</td>\n",
              "      <td>NaN</td>\n",
              "      <td>NaN</td>\n",
              "      <td>NaN</td>\n",
              "      <td>NaN</td>\n",
              "      <td>NaN</td>\n",
              "      <td>NaN</td>\n",
              "      <td>NaN</td>\n",
              "      <td>NaN</td>\n",
              "      <td>NaN</td>\n",
              "      <td>NaN</td>\n",
              "      <td>NaN</td>\n",
              "      <td>NaN</td>\n",
              "      <td>NaN</td>\n",
              "      <td>NaN</td>\n",
              "      <td>NaN</td>\n",
              "      <td>NaN</td>\n",
              "      <td>NaN</td>\n",
              "      <td>NaN</td>\n",
              "      <td>NaN</td>\n",
              "      <td>NaN</td>\n",
              "      <td>NaN</td>\n",
              "      <td>10</td>\n",
              "      <td>10.0</td>\n",
              "      <td>11.0</td>\n",
              "      <td>9.0</td>\n",
              "      <td>12.0</td>\n",
              "      <td>11.0</td>\n",
              "      <td>12.0</td>\n",
              "      <td>False</td>\n",
              "      <td>False</td>\n",
              "      <td>False</td>\n",
              "    </tr>\n",
              "    <tr>\n",
              "      <th>5383</th>\n",
              "      <td>23</td>\n",
              "      <td>2021-04-01</td>\n",
              "      <td>9</td>\n",
              "      <td>2021-04-01</td>\n",
              "      <td>2021</td>\n",
              "      <td>4</td>\n",
              "      <td>13</td>\n",
              "      <td>3</td>\n",
              "      <td>91</td>\n",
              "      <td>12.0</td>\n",
              "      <td>12.0</td>\n",
              "      <td>12.0</td>\n",
              "      <td>11.0</td>\n",
              "      <td>12.0</td>\n",
              "      <td>12.0</td>\n",
              "      <td>11.0</td>\n",
              "      <td>12.0</td>\n",
              "      <td>12.0</td>\n",
              "      <td>12.0</td>\n",
              "      <td>12.0</td>\n",
              "      <td>12.0</td>\n",
              "      <td>12.0</td>\n",
              "      <td>11.0</td>\n",
              "      <td>12.0</td>\n",
              "      <td>12.0</td>\n",
              "      <td>12.0</td>\n",
              "      <td>12.0</td>\n",
              "      <td>12.0</td>\n",
              "      <td>12.0</td>\n",
              "      <td>12.0</td>\n",
              "      <td>12.0</td>\n",
              "      <td>12.0</td>\n",
              "      <td>12.0</td>\n",
              "      <td>11.0</td>\n",
              "      <td>12.0</td>\n",
              "      <td>12.0</td>\n",
              "      <td>12.0</td>\n",
              "      <td>12.0</td>\n",
              "      <td>12.0</td>\n",
              "      <td>9</td>\n",
              "      <td>11.0</td>\n",
              "      <td>9.0</td>\n",
              "      <td>8.0</td>\n",
              "      <td>9.0</td>\n",
              "      <td>12.0</td>\n",
              "      <td>11.0</td>\n",
              "      <td>False</td>\n",
              "      <td>False</td>\n",
              "      <td>False</td>\n",
              "    </tr>\n",
              "    <tr>\n",
              "      <th>747</th>\n",
              "      <td>4</td>\n",
              "      <td>2021-04-01</td>\n",
              "      <td>12</td>\n",
              "      <td>2021-04-01</td>\n",
              "      <td>2021</td>\n",
              "      <td>4</td>\n",
              "      <td>13</td>\n",
              "      <td>3</td>\n",
              "      <td>91</td>\n",
              "      <td>12.0</td>\n",
              "      <td>12.0</td>\n",
              "      <td>12.0</td>\n",
              "      <td>12.0</td>\n",
              "      <td>12.0</td>\n",
              "      <td>12.0</td>\n",
              "      <td>12.0</td>\n",
              "      <td>12.0</td>\n",
              "      <td>12.0</td>\n",
              "      <td>12.0</td>\n",
              "      <td>12.0</td>\n",
              "      <td>12.0</td>\n",
              "      <td>12.0</td>\n",
              "      <td>12.0</td>\n",
              "      <td>12.0</td>\n",
              "      <td>12.0</td>\n",
              "      <td>11.0</td>\n",
              "      <td>12.0</td>\n",
              "      <td>12.0</td>\n",
              "      <td>12.0</td>\n",
              "      <td>12.0</td>\n",
              "      <td>12.0</td>\n",
              "      <td>11.0</td>\n",
              "      <td>12.0</td>\n",
              "      <td>13.0</td>\n",
              "      <td>12.0</td>\n",
              "      <td>12.0</td>\n",
              "      <td>12.0</td>\n",
              "      <td>12.0</td>\n",
              "      <td>11.0</td>\n",
              "      <td>12</td>\n",
              "      <td>9.0</td>\n",
              "      <td>9.0</td>\n",
              "      <td>11.0</td>\n",
              "      <td>11.0</td>\n",
              "      <td>10.0</td>\n",
              "      <td>11.0</td>\n",
              "      <td>False</td>\n",
              "      <td>False</td>\n",
              "      <td>False</td>\n",
              "    </tr>\n",
              "    <tr>\n",
              "      <th>12413</th>\n",
              "      <td>52</td>\n",
              "      <td>2021-04-01</td>\n",
              "      <td>2</td>\n",
              "      <td>2021-04-01</td>\n",
              "      <td>2021</td>\n",
              "      <td>4</td>\n",
              "      <td>13</td>\n",
              "      <td>3</td>\n",
              "      <td>91</td>\n",
              "      <td>12.0</td>\n",
              "      <td>12.0</td>\n",
              "      <td>12.0</td>\n",
              "      <td>12.0</td>\n",
              "      <td>12.0</td>\n",
              "      <td>12.0</td>\n",
              "      <td>12.0</td>\n",
              "      <td>12.0</td>\n",
              "      <td>12.0</td>\n",
              "      <td>12.0</td>\n",
              "      <td>12.0</td>\n",
              "      <td>12.0</td>\n",
              "      <td>12.0</td>\n",
              "      <td>12.0</td>\n",
              "      <td>12.0</td>\n",
              "      <td>12.0</td>\n",
              "      <td>12.0</td>\n",
              "      <td>12.0</td>\n",
              "      <td>12.0</td>\n",
              "      <td>12.0</td>\n",
              "      <td>12.0</td>\n",
              "      <td>12.0</td>\n",
              "      <td>12.0</td>\n",
              "      <td>12.0</td>\n",
              "      <td>12.0</td>\n",
              "      <td>12.0</td>\n",
              "      <td>12.0</td>\n",
              "      <td>12.0</td>\n",
              "      <td>12.0</td>\n",
              "      <td>12.0</td>\n",
              "      <td>2</td>\n",
              "      <td>2.0</td>\n",
              "      <td>4.0</td>\n",
              "      <td>5.0</td>\n",
              "      <td>2.0</td>\n",
              "      <td>1.0</td>\n",
              "      <td>4.0</td>\n",
              "      <td>False</td>\n",
              "      <td>False</td>\n",
              "      <td>False</td>\n",
              "    </tr>\n",
              "    <tr>\n",
              "      <th>5627</th>\n",
              "      <td>24</td>\n",
              "      <td>2021-04-01</td>\n",
              "      <td>11</td>\n",
              "      <td>2021-04-01</td>\n",
              "      <td>2021</td>\n",
              "      <td>4</td>\n",
              "      <td>13</td>\n",
              "      <td>3</td>\n",
              "      <td>91</td>\n",
              "      <td>13.0</td>\n",
              "      <td>14.0</td>\n",
              "      <td>13.0</td>\n",
              "      <td>14.0</td>\n",
              "      <td>14.0</td>\n",
              "      <td>13.0</td>\n",
              "      <td>14.0</td>\n",
              "      <td>14.0</td>\n",
              "      <td>13.0</td>\n",
              "      <td>13.0</td>\n",
              "      <td>14.0</td>\n",
              "      <td>13.0</td>\n",
              "      <td>14.0</td>\n",
              "      <td>13.0</td>\n",
              "      <td>14.0</td>\n",
              "      <td>14.0</td>\n",
              "      <td>14.0</td>\n",
              "      <td>13.0</td>\n",
              "      <td>13.0</td>\n",
              "      <td>13.0</td>\n",
              "      <td>12.0</td>\n",
              "      <td>14.0</td>\n",
              "      <td>13.0</td>\n",
              "      <td>12.0</td>\n",
              "      <td>14.0</td>\n",
              "      <td>13.0</td>\n",
              "      <td>13.0</td>\n",
              "      <td>13.0</td>\n",
              "      <td>14.0</td>\n",
              "      <td>12.0</td>\n",
              "      <td>11</td>\n",
              "      <td>9.0</td>\n",
              "      <td>12.0</td>\n",
              "      <td>10.0</td>\n",
              "      <td>12.0</td>\n",
              "      <td>12.0</td>\n",
              "      <td>12.0</td>\n",
              "      <td>False</td>\n",
              "      <td>False</td>\n",
              "      <td>False</td>\n",
              "    </tr>\n",
              "  </tbody>\n",
              "</table>\n",
              "</div>\n",
              "      <button class=\"colab-df-convert\" onclick=\"convertToInteractive('df-8a368725-ad58-4ebd-9671-d7eec64c9141')\"\n",
              "              title=\"Convert this dataframe to an interactive table.\"\n",
              "              style=\"display:none;\">\n",
              "        \n",
              "  <svg xmlns=\"http://www.w3.org/2000/svg\" height=\"24px\"viewBox=\"0 0 24 24\"\n",
              "       width=\"24px\">\n",
              "    <path d=\"M0 0h24v24H0V0z\" fill=\"none\"/>\n",
              "    <path d=\"M18.56 5.44l.94 2.06.94-2.06 2.06-.94-2.06-.94-.94-2.06-.94 2.06-2.06.94zm-11 1L8.5 8.5l.94-2.06 2.06-.94-2.06-.94L8.5 2.5l-.94 2.06-2.06.94zm10 10l.94 2.06.94-2.06 2.06-.94-2.06-.94-.94-2.06-.94 2.06-2.06.94z\"/><path d=\"M17.41 7.96l-1.37-1.37c-.4-.4-.92-.59-1.43-.59-.52 0-1.04.2-1.43.59L10.3 9.45l-7.72 7.72c-.78.78-.78 2.05 0 2.83L4 21.41c.39.39.9.59 1.41.59.51 0 1.02-.2 1.41-.59l7.78-7.78 2.81-2.81c.8-.78.8-2.07 0-2.86zM5.41 20L4 18.59l7.72-7.72 1.47 1.35L5.41 20z\"/>\n",
              "  </svg>\n",
              "      </button>\n",
              "      \n",
              "  <style>\n",
              "    .colab-df-container {\n",
              "      display:flex;\n",
              "      flex-wrap:wrap;\n",
              "      gap: 12px;\n",
              "    }\n",
              "\n",
              "    .colab-df-convert {\n",
              "      background-color: #E8F0FE;\n",
              "      border: none;\n",
              "      border-radius: 50%;\n",
              "      cursor: pointer;\n",
              "      display: none;\n",
              "      fill: #1967D2;\n",
              "      height: 32px;\n",
              "      padding: 0 0 0 0;\n",
              "      width: 32px;\n",
              "    }\n",
              "\n",
              "    .colab-df-convert:hover {\n",
              "      background-color: #E2EBFA;\n",
              "      box-shadow: 0px 1px 2px rgba(60, 64, 67, 0.3), 0px 1px 3px 1px rgba(60, 64, 67, 0.15);\n",
              "      fill: #174EA6;\n",
              "    }\n",
              "\n",
              "    [theme=dark] .colab-df-convert {\n",
              "      background-color: #3B4455;\n",
              "      fill: #D2E3FC;\n",
              "    }\n",
              "\n",
              "    [theme=dark] .colab-df-convert:hover {\n",
              "      background-color: #434B5C;\n",
              "      box-shadow: 0px 1px 3px 1px rgba(0, 0, 0, 0.15);\n",
              "      filter: drop-shadow(0px 1px 2px rgba(0, 0, 0, 0.3));\n",
              "      fill: #FFFFFF;\n",
              "    }\n",
              "  </style>\n",
              "\n",
              "      <script>\n",
              "        const buttonEl =\n",
              "          document.querySelector('#df-8a368725-ad58-4ebd-9671-d7eec64c9141 button.colab-df-convert');\n",
              "        buttonEl.style.display =\n",
              "          google.colab.kernel.accessAllowed ? 'block' : 'none';\n",
              "\n",
              "        async function convertToInteractive(key) {\n",
              "          const element = document.querySelector('#df-8a368725-ad58-4ebd-9671-d7eec64c9141');\n",
              "          const dataTable =\n",
              "            await google.colab.kernel.invokeFunction('convertToInteractive',\n",
              "                                                     [key], {});\n",
              "          if (!dataTable) return;\n",
              "\n",
              "          const docLinkHtml = 'Like what you see? Visit the ' +\n",
              "            '<a target=\"_blank\" href=https://colab.research.google.com/notebooks/data_table.ipynb>data table notebook</a>'\n",
              "            + ' to learn more about interactive tables.';\n",
              "          element.innerHTML = '';\n",
              "          dataTable['output_type'] = 'display_data';\n",
              "          await google.colab.output.renderOutput(dataTable, element);\n",
              "          const docLink = document.createElement('div');\n",
              "          docLink.innerHTML = docLinkHtml;\n",
              "          element.appendChild(docLink);\n",
              "        }\n",
              "      </script>\n",
              "    </div>\n",
              "  </div>\n",
              "  "
            ],
            "text/plain": [
              "       delivery_area_id        date  ...  is_dayoff is_weekend\n",
              "0                     0  2021-04-01  ...      False      False\n",
              "5383                 23  2021-04-01  ...      False      False\n",
              "747                   4  2021-04-01  ...      False      False\n",
              "12413                52  2021-04-01  ...      False      False\n",
              "5627                 24  2021-04-01  ...      False      False\n",
              "\n",
              "[5 rows x 49 columns]"
            ]
          },
          "metadata": {},
          "execution_count": 35
        }
      ],
      "source": [
        "X_train = get_holidays_features(X_train)\n",
        "X_val = get_holidays_features(X_val)\n",
        "X_test = get_holidays_features(X_test)\n",
        "\n",
        "X_train.head()"
      ]
    },
    {
      "cell_type": "markdown",
      "metadata": {
        "id": "eYfy5Cfw534U"
      },
      "source": [
        "#### Сколько дней до ближайших праздников / Сколько дней от последнего праздника"
      ]
    },
    {
      "cell_type": "code",
      "execution_count": 36,
      "metadata": {
        "id": "oukNHLW8vL2S"
      },
      "outputs": [],
      "source": [
        "celebrations = pd.DataFrame(\n",
        "    ['2021-01-01', '2021-02-23', '2021-02-14', '2021-03-08', '2021-09-01', '2021-12-31'],\n",
        "    columns=['date']\n",
        ")\n",
        "celebrations['date'] = pd.to_datetime(celebrations['date'])\n",
        "celebrations['doy'] = celebrations['date'].dt.dayofyear    \n",
        "\n",
        "df_holidays['doy'] = df_holidays['ds'].dt.dayofyear   "
      ]
    },
    {
      "cell_type": "code",
      "execution_count": 37,
      "metadata": {
        "id": "-bt-ryrJ53fZ"
      },
      "outputs": [],
      "source": [
        "def get_days_before_nearest_day(row, calendar=df_holidays):\n",
        "  current_doy = row['doy']\n",
        "  days_after_current = calendar[calendar['doy'] >= current_doy]['doy']\n",
        "  if len(days_after_current) > 0:\n",
        "    days = min(days_after_current) - current_doy\n",
        "    return days\n",
        "  else:\n",
        "    return 0\n",
        "\n",
        "def get_days_after_nearest_day(row, calendar=df_holidays):\n",
        "  current_doy = row['doy']\n",
        "  days = abs(max(calendar[calendar['doy'] <= current_doy]['doy']) - current_doy)\n",
        "  return days\n",
        "\n",
        "def get_days_to_holidays(data):\n",
        "  data['days_before_of_holiday'] = data.apply(lambda x: get_days_before_nearest_day(x), axis=1)\n",
        "  data['days_before_celebrations'] = data.apply(lambda x: get_days_before_nearest_day(x, celebrations), axis=1)\n",
        "  data['days_after_of_holiday'] = data.apply(lambda x: get_days_after_nearest_day(x), axis=1)\n",
        "  data['days_after_celebrations'] = data.apply(lambda x: get_days_after_nearest_day(x, celebrations), axis=1)\n",
        "  return data"
      ]
    },
    {
      "cell_type": "code",
      "execution_count": 38,
      "metadata": {
        "id": "aY71ZXFa57yv",
        "colab": {
          "base_uri": "https://localhost:8080/"
        },
        "outputId": "6103e94c-4120-410d-d638-75de7b9c2cb1"
      },
      "outputs": [
        {
          "output_type": "stream",
          "name": "stdout",
          "text": [
            "CPU times: user 4 µs, sys: 0 ns, total: 4 µs\n",
            "Wall time: 7.87 µs\n"
          ]
        }
      ],
      "source": [
        "%time\n",
        "X_train = get_days_to_holidays(X_train)\n",
        "X_val = get_days_to_holidays(X_val)\n",
        "X_test = get_days_to_holidays(X_test)"
      ]
    },
    {
      "cell_type": "markdown",
      "metadata": {
        "id": "3ycV8JLc1qUp"
      },
      "source": [
        "#### Нормировка на медиану"
      ]
    },
    {
      "cell_type": "code",
      "execution_count": 39,
      "metadata": {
        "id": "ozvWzL2-14dI"
      },
      "outputs": [],
      "source": [
        "prev_cols = [\"prev_\" + str(i) for i in range(1, PREV_COLS_CNT + 1)][:7]  \n",
        "X_train['1_week_median'] = X_train[prev_cols].median(1)\n",
        "X_val['1_week_median'] = X_val[prev_cols].median(1)\n",
        "X_test['1_week_median'] = X_test[prev_cols].median(1)"
      ]
    },
    {
      "cell_type": "code",
      "execution_count": 40,
      "metadata": {
        "id": "Eaod5b-B1p-y"
      },
      "outputs": [],
      "source": [
        "def norm_by_1_week_median(data):\n",
        "  cols_to_norm = [\"prev_\" + str(i) for i in range(1, PREV_COLS_CNT + 1)] + [\"future_\" + str(i) for i in range(1, NEXT_COLS_CNT + 1)]\n",
        "  for col in cols_to_norm:\n",
        "    data[col] = data[col] / (data['1_week_median'] + EPS)\n",
        "  return data"
      ]
    },
    {
      "cell_type": "code",
      "execution_count": 41,
      "metadata": {
        "id": "Vk3iGx1L2wz0"
      },
      "outputs": [],
      "source": [
        "X_train = norm_by_1_week_median(X_train)\n",
        "X_val = norm_by_1_week_median(X_val)\n",
        "X_test = norm_by_1_week_median(X_test)"
      ]
    },
    {
      "cell_type": "code",
      "execution_count": 42,
      "metadata": {
        "colab": {
          "base_uri": "https://localhost:8080/"
        },
        "id": "NeoQ6dAB6wGC",
        "outputId": "6c0edd5b-f5c5-4f2d-b601-fb4d862769bf"
      },
      "outputs": [
        {
          "output_type": "stream",
          "name": "stdout",
          "text": [
            "Данные сохранены\n"
          ]
        }
      ],
      "source": [
        "save_all_dfs(X_train, X_val, X_test, name_suffix='base_normalized')"
      ]
    },
    {
      "cell_type": "markdown",
      "metadata": {
        "id": "c2ypI9OIpr1S"
      },
      "source": [
        "#### Статистики"
      ]
    },
    {
      "cell_type": "code",
      "execution_count": 43,
      "metadata": {
        "id": "YK5IXylpnjps"
      },
      "outputs": [],
      "source": [
        "def get_aggregations(data, period, cols_range_left, cols_range_right):\n",
        "  prev_cols = [\"prev_\" + str(i) for i in range(1, PREV_COLS_CNT + 1)][cols_range_left:cols_range_right]  \n",
        "\n",
        "  data[f'{period}_median'] = data[prev_cols].median(1)\n",
        "  data[f'{period}_mean'] = data[prev_cols].mean(1)\n",
        "  data[f'{period}_std'] = data[prev_cols].std(1)\n",
        "  data[f'{period}_min'] = data[prev_cols].min(1)\n",
        "  data[f'{period}_max'] = data[prev_cols].max(1)    \n",
        "  data[f'{period}_sum'] = data[prev_cols].sum(1)\n",
        "  return data"
      ]
    },
    {
      "cell_type": "code",
      "execution_count": 44,
      "metadata": {
        "id": "ipp18kKO3snm"
      },
      "outputs": [],
      "source": [
        "def get_stat_changes(data, first_period='1_week', last_period='2_week'):\n",
        "  for stat in ['median', 'mean', 'std', 'min', 'max', 'sum']:\n",
        "    data[f'week_{stat}_change'] = (data[f'{first_period}_{stat}'] - data[f'{last_period}_{stat}']) / (data[f'{last_period}_{stat}'] + EPS)\n",
        "  return data"
      ]
    },
    {
      "cell_type": "code",
      "execution_count": 45,
      "metadata": {
        "id": "1-ChZLaN2ivC"
      },
      "outputs": [],
      "source": [
        "#X_train, X_val, X_test = load_all(name_suffix='base_normalized')"
      ]
    },
    {
      "cell_type": "code",
      "execution_count": 46,
      "metadata": {
        "id": "RF7jecUc3bRi"
      },
      "outputs": [],
      "source": [
        "def get_statistics(data):\n",
        "  data = get_aggregations(data, '1_week', cols_range_left=0, cols_range_right=7)\n",
        "  data = get_aggregations(data, '2_week', cols_range_left=7, cols_range_right=14)\n",
        "  data = get_aggregations(data, '1_month', cols_range_left=0, cols_range_right=30)\n",
        "\n",
        "  data = get_stat_changes(data)\n",
        "  return data"
      ]
    },
    {
      "cell_type": "code",
      "execution_count": 47,
      "metadata": {
        "id": "W4d7ZZ9xylEz"
      },
      "outputs": [],
      "source": [
        "X_train = get_statistics(X_train)\n",
        "X_val = get_statistics(X_val)\n",
        "X_test = get_statistics(X_test)"
      ]
    },
    {
      "cell_type": "code",
      "execution_count": 48,
      "metadata": {
        "colab": {
          "base_uri": "https://localhost:8080/"
        },
        "id": "kQYj9uV94zor",
        "outputId": "bcc90085-12f9-402f-907c-ebb317a32ec0"
      },
      "outputs": [
        {
          "output_type": "execute_result",
          "data": {
            "text/plain": [
              "(71230, 77)"
            ]
          },
          "metadata": {},
          "execution_count": 48
        }
      ],
      "source": [
        "X_train.shape"
      ]
    },
    {
      "cell_type": "markdown",
      "metadata": {
        "id": "QyK0cUPF6NGV"
      },
      "source": [
        "#### Кластеризация рядов"
      ]
    },
    {
      "cell_type": "code",
      "execution_count": 48,
      "metadata": {
        "id": "LxeBekkK6Mus"
      },
      "outputs": [],
      "source": [
        ""
      ]
    },
    {
      "cell_type": "markdown",
      "metadata": {
        "id": "a9b55qALp4pa"
      },
      "source": [
        "### LightGBM"
      ]
    },
    {
      "cell_type": "markdown",
      "metadata": {
        "id": "smMjIeAJp8lj"
      },
      "source": [
        "#### Инициализация"
      ]
    },
    {
      "cell_type": "code",
      "execution_count": 49,
      "metadata": {
        "id": "gngIvWrspvUN"
      },
      "outputs": [],
      "source": [
        "params = {\n",
        "    'metric' : 'mape',\n",
        "    'objective': 'mape',\n",
        "    'learning_rate': 0.1,\n",
        "    'seed': SEED,\n",
        "    'max_depth': 10,\n",
        "    'verbose' : -1\n",
        "}"
      ]
    },
    {
      "cell_type": "code",
      "execution_count": 50,
      "metadata": {
        "id": "8AP-1jQupvXt"
      },
      "outputs": [],
      "source": [
        "class LGBMWeekModel(BaseEstimator):\n",
        "    def __init__(self, params):\n",
        "      self.params = params\n",
        "      self.models = []\n",
        "    \n",
        "    def fit(self, data):\n",
        "      for i in tqdm(range(7)):\n",
        "        train_data = data.dropna(subset=[f'future_{i + 1}'])\n",
        "        train_data = train_data.drop(train_data[train_data[f'future_{i + 1}'] == 0].index)\n",
        "        train_data = lgb.Dataset(\n",
        "            train_data.drop([f'future_{i}' for i in range(1, NEXT_COLS_CNT + 1)], axis=1),\n",
        "            label=train_data[f'future_{i + 1}']\n",
        "        )\n",
        "\n",
        "        model = lgb.train(\n",
        "          params=self.params,\n",
        "          train_set=train_data,\n",
        "          valid_sets=[train_data],\n",
        "          num_boost_round=100, \n",
        "          verbose_eval=1000\n",
        "        )\n",
        "        self.models.append(model)\n",
        "      return self\n",
        "    \n",
        "    def predict(self, data):\n",
        "      preds_df = pd.DataFrame()\n",
        "      for i in range(7):\n",
        "        preds_df['pred_' + str(i)] = self.models[i].predict(data)\n",
        "      return preds_df"
      ]
    },
    {
      "cell_type": "code",
      "execution_count": 51,
      "metadata": {
        "colab": {
          "base_uri": "https://localhost:8080/"
        },
        "id": "NTkc_C0tuKB7",
        "outputId": "970d8f9a-f434-42d5-f1dd-ea37a448edfb"
      },
      "outputs": [
        {
          "output_type": "stream",
          "name": "stderr",
          "text": [
            "100%|██████████| 7/7 [00:31<00:00,  4.57s/it]\n"
          ]
        },
        {
          "output_type": "execute_result",
          "data": {
            "text/plain": [
              "LGBMWeekModel(params={'learning_rate': 0.1, 'max_depth': 10, 'metric': 'mape',\n",
              "                      'objective': 'mape', 'seed': 2021, 'verbose': -1})"
            ]
          },
          "metadata": {},
          "execution_count": 51
        }
      ],
      "source": [
        "model = LGBMWeekModel(params)\n",
        "model.fit(X_train.drop(['date', 'dttm', 'orders_cnt'], axis=1))"
      ]
    },
    {
      "cell_type": "code",
      "execution_count": 52,
      "metadata": {
        "id": "XmyB22fHu_le"
      },
      "outputs": [],
      "source": [
        "res = model.predict(X_val.drop(['date', 'dttm', 'orders_cnt'], axis=1))"
      ]
    },
    {
      "cell_type": "code",
      "execution_count": 53,
      "metadata": {
        "colab": {
          "base_uri": "https://localhost:8080/"
        },
        "id": "M0ybWxNUva3Q",
        "outputId": "f9544114-c157-422b-f8b8-14bc6882ba7a"
      },
      "outputs": [
        {
          "output_type": "stream",
          "name": "stdout",
          "text": [
            "0.12923703609963091\n",
            "0.12488196185717408\n",
            "0.13482721737792602\n",
            "0.12177593709194157\n",
            "0.1162481175767309\n",
            "0.18288436279519552\n",
            "0.128382371689746\n"
          ]
        }
      ],
      "source": [
        "for i in range(7):\n",
        "  print(mean_absolute_percentage_error(X_val[f'future_{i + 1}'], res['pred_' + str(i)]))"
      ]
    },
    {
      "cell_type": "code",
      "execution_count": 54,
      "metadata": {
        "id": "fupz1foM2Hz-"
      },
      "outputs": [],
      "source": [
        "X_test = X_test.dropna()"
      ]
    },
    {
      "cell_type": "code",
      "execution_count": 55,
      "metadata": {
        "id": "buRXbS_118hK",
        "colab": {
          "base_uri": "https://localhost:8080/"
        },
        "outputId": "0a73d22b-161b-4c63-f714-626969e88ba9"
      },
      "outputs": [
        {
          "output_type": "stream",
          "name": "stdout",
          "text": [
            "0.13452792218955598\n",
            "0.36426811340732984\n",
            "0.5612924901919286\n",
            "0.7826964791491784\n",
            "0.992445992794481\n",
            "1.1722102682352373\n",
            "1.5155774687242431\n"
          ]
        }
      ],
      "source": [
        "res = model.predict(X_test.drop(['date', 'dttm', 'orders_cnt'], axis=1))\n",
        "for i in range(7):\n",
        "  print(mean_absolute_percentage_error(X_test[f'future_{i + 1}'] * X_test['1_week_median'].values, res['pred_' + str(i)] * X_test['1_week_median'].values))"
      ]
    },
    {
      "cell_type": "markdown",
      "metadata": {
        "id": "ZT4dNNO5p-gi"
      },
      "source": [
        "#### Подбор гиперпараметров"
      ]
    },
    {
      "cell_type": "code",
      "execution_count": 71,
      "metadata": {
        "id": "H8zEq_dppvbC"
      },
      "outputs": [],
      "source": [
        "params_grid = {\n",
        "    'learning_rate': [0.1, 0.3, 0.01],\n",
        "    'max_depth': [i for i in range(5, 13)],\n",
        "    'num_leaves': [25, 30, 32], # max number of leaves in one tree\n",
        "    'min_child_samples': [10, 15, 20], # minimal number of data in one leaf\n",
        "    'reg_alpha': [0.0, 0.1],\n",
        "    'reg_lambda': [0.0, 0.1],\n",
        "    'metric' : ['mape'],\n",
        "    'objective': ['mape'],\n",
        "    'seed': [SEED],\n",
        "}"
      ]
    },
    {
      "cell_type": "code",
      "execution_count": 72,
      "metadata": {
        "colab": {
          "base_uri": "https://localhost:8080/"
        },
        "id": "q-lQ-yE8qBNQ",
        "outputId": "0689ccb2-06c9-4d5e-ddd3-ddd823de9f3c"
      },
      "outputs": [
        {
          "output_type": "stream",
          "name": "stderr",
          "text": [
            "\r  0%|          | 0/7 [00:00<?, ?it/s]"
          ]
        },
        {
          "output_type": "stream",
          "name": "stdout",
          "text": [
            "Fitting 3 folds for each of 20 candidates, totalling 60 fits\n"
          ]
        },
        {
          "output_type": "stream",
          "name": "stderr",
          "text": [
            "\r 14%|█▍        | 1/7 [03:52<23:15, 232.54s/it]"
          ]
        },
        {
          "output_type": "stream",
          "name": "stdout",
          "text": [
            "0: -0.052106241096791996\n",
            "Fitting 3 folds for each of 20 candidates, totalling 60 fits\n"
          ]
        },
        {
          "output_type": "stream",
          "name": "stderr",
          "text": [
            "\r 29%|██▊       | 2/7 [07:23<18:18, 219.62s/it]"
          ]
        },
        {
          "output_type": "stream",
          "name": "stdout",
          "text": [
            "1: -0.23858180612125782\n",
            "Fitting 3 folds for each of 20 candidates, totalling 60 fits\n"
          ]
        },
        {
          "output_type": "stream",
          "name": "stderr",
          "text": [
            "\r 43%|████▎     | 3/7 [10:55<14:24, 216.15s/it]"
          ]
        },
        {
          "output_type": "stream",
          "name": "stdout",
          "text": [
            "2: -0.23750221839582233\n",
            "Fitting 3 folds for each of 20 candidates, totalling 60 fits\n"
          ]
        },
        {
          "output_type": "stream",
          "name": "stderr",
          "text": [
            "\r 57%|█████▋    | 4/7 [14:25<10:41, 213.89s/it]"
          ]
        },
        {
          "output_type": "stream",
          "name": "stdout",
          "text": [
            "3: -0.23357236730352224\n",
            "Fitting 3 folds for each of 20 candidates, totalling 60 fits\n"
          ]
        },
        {
          "output_type": "stream",
          "name": "stderr",
          "text": [
            "\r 71%|███████▏  | 5/7 [17:57<07:06, 213.28s/it]"
          ]
        },
        {
          "output_type": "stream",
          "name": "stdout",
          "text": [
            "4: -0.23724708102088968\n",
            "Fitting 3 folds for each of 20 candidates, totalling 60 fits\n"
          ]
        },
        {
          "output_type": "stream",
          "name": "stderr",
          "text": [
            "\r 86%|████████▌ | 6/7 [21:31<03:33, 213.58s/it]"
          ]
        },
        {
          "output_type": "stream",
          "name": "stdout",
          "text": [
            "5: -0.23247753413696173\n",
            "Fitting 3 folds for each of 20 candidates, totalling 60 fits\n"
          ]
        },
        {
          "output_type": "stream",
          "name": "stderr",
          "text": [
            "100%|██████████| 7/7 [25:07<00:00, 215.37s/it]"
          ]
        },
        {
          "output_type": "stream",
          "name": "stdout",
          "text": [
            "6: -0.23224043022155452\n",
            "CPU times: user 44min 51s, sys: 13.7 s, total: 45min 5s\n",
            "Wall time: 25min 7s\n"
          ]
        },
        {
          "output_type": "stream",
          "name": "stderr",
          "text": [
            "\n"
          ]
        }
      ],
      "source": [
        "%%time\n",
        "\n",
        "if 1:\n",
        "  kfcv = KFold(n_splits=3)\n",
        "  opt_params = []\n",
        "\n",
        "  for i in tqdm(range(7)):\n",
        "    train_data = X_train.drop(['date', 'dttm'], axis=1)\n",
        "    train_data = train_data.dropna(subset=[f'future_{i + 1}'])\n",
        "    train_data = train_data.drop(train_data[train_data[f'future_{i + 1}'] == 0].index)\n",
        "\n",
        "    model = lgb.LGBMRegressor(\n",
        "      random_state=SEED,\n",
        "      num_boost_round=100, \n",
        "      verbose=-1,\n",
        "      metric='mape',\n",
        "      objective='mape',\n",
        "    )\n",
        "    \n",
        "    search = RandomizedSearchCV(\n",
        "        estimator=model,\n",
        "        param_distributions=params_grid,\n",
        "        scoring='neg_mean_absolute_percentage_error',\n",
        "        cv=kfcv,\n",
        "        verbose=1,\n",
        "        random_state=SEED,\n",
        "        return_train_score=True,\n",
        "        n_iter=20\n",
        "    )\n",
        "\n",
        "    search.fit(\n",
        "        train_data.drop([f'future_{i}' for i in range(1, NEXT_COLS_CNT + 1)], axis=1),\n",
        "        train_data[f'future_{i + 1}']\n",
        "    )\n",
        "\n",
        "    print(f'{i}: {search.best_score_}')\n",
        "    opt_params.append(search.best_params_)"
      ]
    },
    {
      "cell_type": "code",
      "source": [
        "opt_params"
      ],
      "metadata": {
        "colab": {
          "base_uri": "https://localhost:8080/"
        },
        "id": "yb7i0OtUJ5FJ",
        "outputId": "bcd2dccf-6950-4b26-befb-121c1976fda8"
      },
      "execution_count": 73,
      "outputs": [
        {
          "output_type": "execute_result",
          "data": {
            "text/plain": [
              "[{'learning_rate': 0.3,\n",
              "  'max_depth': 9,\n",
              "  'metric': 'mape',\n",
              "  'min_child_samples': 15,\n",
              "  'num_leaves': 30,\n",
              "  'objective': 'mape',\n",
              "  'reg_alpha': 0.0,\n",
              "  'reg_lambda': 0.0,\n",
              "  'seed': 2021},\n",
              " {'learning_rate': 0.3,\n",
              "  'max_depth': 5,\n",
              "  'metric': 'mape',\n",
              "  'min_child_samples': 20,\n",
              "  'num_leaves': 30,\n",
              "  'objective': 'mape',\n",
              "  'reg_alpha': 0.1,\n",
              "  'reg_lambda': 0.1,\n",
              "  'seed': 2021},\n",
              " {'learning_rate': 0.1,\n",
              "  'max_depth': 8,\n",
              "  'metric': 'mape',\n",
              "  'min_child_samples': 10,\n",
              "  'num_leaves': 25,\n",
              "  'objective': 'mape',\n",
              "  'reg_alpha': 0.1,\n",
              "  'reg_lambda': 0.1,\n",
              "  'seed': 2021},\n",
              " {'learning_rate': 0.3,\n",
              "  'max_depth': 5,\n",
              "  'metric': 'mape',\n",
              "  'min_child_samples': 20,\n",
              "  'num_leaves': 30,\n",
              "  'objective': 'mape',\n",
              "  'reg_alpha': 0.1,\n",
              "  'reg_lambda': 0.1,\n",
              "  'seed': 2021},\n",
              " {'learning_rate': 0.3,\n",
              "  'max_depth': 5,\n",
              "  'metric': 'mape',\n",
              "  'min_child_samples': 15,\n",
              "  'num_leaves': 25,\n",
              "  'objective': 'mape',\n",
              "  'reg_alpha': 0.1,\n",
              "  'reg_lambda': 0.0,\n",
              "  'seed': 2021},\n",
              " {'learning_rate': 0.3,\n",
              "  'max_depth': 5,\n",
              "  'metric': 'mape',\n",
              "  'min_child_samples': 15,\n",
              "  'num_leaves': 25,\n",
              "  'objective': 'mape',\n",
              "  'reg_alpha': 0.1,\n",
              "  'reg_lambda': 0.0,\n",
              "  'seed': 2021},\n",
              " {'learning_rate': 0.1,\n",
              "  'max_depth': 6,\n",
              "  'metric': 'mape',\n",
              "  'min_child_samples': 20,\n",
              "  'num_leaves': 25,\n",
              "  'objective': 'mape',\n",
              "  'reg_alpha': 0.1,\n",
              "  'reg_lambda': 0.0,\n",
              "  'seed': 2021}]"
            ]
          },
          "metadata": {},
          "execution_count": 73
        }
      ]
    },
    {
      "cell_type": "code",
      "execution_count": 65,
      "metadata": {
        "id": "9fH1pe1tHcI4"
      },
      "outputs": [],
      "source": [
        "opt_params = [\n",
        "  {\n",
        "    'learning_rate': 0.3,\n",
        "    'objective': 'mape',\n",
        "    'max_depth': 9,\n",
        "    'min_child_samples': 15,\n",
        "    'num_leaves': 30,\n",
        "    'reg_alpha': 0.0,\n",
        "    'reg_lambda': 0.0\n",
        "  },\n",
        "  {\n",
        "    'learning_rate': 0.3,\n",
        "    'metric' : 'mape',\n",
        "    'objective': 'mape',\n",
        "    'max_depth': 5,\n",
        "    'min_child_samples': 20,\n",
        "    'num_leaves': 30,\n",
        "    'reg_alpha': 0.1,\n",
        "    'reg_lambda': 0.1\n",
        "  },\n",
        "  {\n",
        "    'learning_rate': 0.3,\n",
        "    'metric' : 'mape',\n",
        "    'objective': 'mape',\n",
        "    'max_depth': 9,\n",
        "    'min_child_samples': 15,\n",
        "    'num_leaves': 30,\n",
        "    'reg_alpha': 0.0,\n",
        "    'reg_lambda': 0.0\n",
        "  },\n",
        "  {\n",
        "    'learning_rate': 0.3,\n",
        "    'metric' : 'mape',\n",
        "    'objective': 'mape',\n",
        "    'max_depth': 5,\n",
        "    'min_child_samples': 20,\n",
        "    'num_leaves': 30,\n",
        "    'reg_alpha': 0.1,\n",
        "    'reg_lambda': 0.1\n",
        "  },\n",
        "  {\n",
        "    'learning_rate': 0.3,\n",
        "    'metric' : 'mape',\n",
        "    'objective': 'mape',\n",
        "    'max_depth': 5,\n",
        "    'min_child_samples': 15,\n",
        "    'num_leaves': 25,\n",
        "    'reg_alpha': 0.1,\n",
        "    'reg_lambda': 0.0\n",
        "  },\n",
        "  {\n",
        "    'learning_rate': 0.3,\n",
        "    'metric' : 'mape',\n",
        "    'objective': 'mape',\n",
        "    'max_depth': 5,\n",
        "    'min_child_samples': 15,\n",
        "    'num_leaves': 25,\n",
        "    'reg_alpha': 0.1,\n",
        "    'reg_lambda': 0.0\n",
        "  },\n",
        "  {\n",
        "    'learning_rate': 0.3,\n",
        "    'metric' : 'mape',\n",
        "    'objective': 'mape',\n",
        "    'max_depth': 9,\n",
        "    'min_child_samples': 15,\n",
        "    'num_leaves': 30,\n",
        "    'reg_alpha': 0.0,\n",
        "    'reg_lambda': 0.0\n",
        "  }\n",
        "]"
      ]
    },
    {
      "cell_type": "code",
      "execution_count": 74,
      "metadata": {
        "id": "EOu9iVjlP3Ld"
      },
      "outputs": [],
      "source": [
        "class LGBMWeekModel(BaseEstimator):\n",
        "    def __init__(self, params_list):\n",
        "      self.params = params_list\n",
        "      self.models = []\n",
        "    \n",
        "    def fit(self, data):\n",
        "      for i in tqdm(range(7)):\n",
        "        params = self.params[i]\n",
        "        train_data = data.dropna(subset=[f'future_{i + 1}'])\n",
        "        train_data = train_data.drop(train_data[train_data[f'future_{i + 1}'] == 0].index)\n",
        "        train_data = lgb.Dataset(\n",
        "            train_data.drop([f'future_{i}' for i in range(1, NEXT_COLS_CNT + 1)], axis=1),\n",
        "            label=train_data[f'future_{i + 1}']\n",
        "        )\n",
        "        model = lgb.train(\n",
        "          params=self.params[i],\n",
        "          train_set=train_data,\n",
        "          valid_sets=[train_data],\n",
        "          num_boost_round=100, \n",
        "          verbose_eval=1000\n",
        "        )\n",
        "        self.models.append(model)\n",
        "    \n",
        "    def predict(self, data):\n",
        "      preds_df = pd.DataFrame()\n",
        "      for i in range(7):\n",
        "        preds_df['pred_' + str(i)] = self.models[i].predict(data)\n",
        "      return preds_df"
      ]
    },
    {
      "cell_type": "code",
      "execution_count": 75,
      "metadata": {
        "colab": {
          "base_uri": "https://localhost:8080/"
        },
        "id": "lul3lla6QDIv",
        "outputId": "7bfb132d-6567-4781-e281-24ad781be516"
      },
      "outputs": [
        {
          "output_type": "stream",
          "name": "stderr",
          "text": [
            "100%|██████████| 7/7 [00:28<00:00,  4.07s/it]\n"
          ]
        }
      ],
      "source": [
        "model = LGBMWeekModel(opt_params)\n",
        "model.fit(X_train.drop(['date', 'dttm', 'orders_cnt'], axis=1))"
      ]
    },
    {
      "cell_type": "code",
      "source": [
        "res = model.predict(X_val.drop(['date', 'dttm', 'orders_cnt'], axis=1))\n",
        "for i in range(7):\n",
        "  print(mean_absolute_percentage_error(X_val[f'future_{i + 1}'] * X_val['1_week_median'].values, res['pred_' + str(i)] * X_val['1_week_median'].values))"
      ],
      "metadata": {
        "colab": {
          "base_uri": "https://localhost:8080/"
        },
        "id": "LBzweFYfQzoo",
        "outputId": "3d49feaf-acec-482d-d988-ff4be7829be4"
      },
      "execution_count": 76,
      "outputs": [
        {
          "output_type": "stream",
          "name": "stdout",
          "text": [
            "0.12010149764451084\n",
            "0.12652209730435626\n",
            "0.14903935740701568\n",
            "0.13021371291750955\n",
            "0.13248251316420945\n",
            "0.1888154048838966\n",
            "0.13204756507329085\n"
          ]
        }
      ]
    },
    {
      "cell_type": "code",
      "source": [
        "res = model.predict(X_test.drop(['date', 'dttm', 'orders_cnt'], axis=1))\n",
        "for i in range(7):\n",
        "  print(mean_absolute_percentage_error(X_test[f'future_{i + 1}'] * X_test['1_week_median'].values, res['pred_' + str(i)] * X_test['1_week_median'].values))"
      ],
      "metadata": {
        "colab": {
          "base_uri": "https://localhost:8080/"
        },
        "id": "BZeaShdgRAYY",
        "outputId": "eaba6a4c-93d7-4f8a-b951-d80fdaef4b16"
      },
      "execution_count": 77,
      "outputs": [
        {
          "output_type": "stream",
          "name": "stdout",
          "text": [
            "0.10306711246230345\n",
            "0.3674077867517426\n",
            "0.5573550727266549\n",
            "0.8307169170296472\n",
            "0.959519439776842\n",
            "1.4298737392186414\n",
            "1.5837437132850605\n"
          ]
        }
      ]
    },
    {
      "cell_type": "markdown",
      "metadata": {
        "id": "bH9qMMhdqBgK"
      },
      "source": [
        "#### Отбор признаков"
      ]
    },
    {
      "cell_type": "markdown",
      "metadata": {
        "id": "7RprIgPQ8DNJ"
      },
      "source": [
        "##### Топ-20 признаков для каждой из моделей\n"
      ]
    },
    {
      "cell_type": "code",
      "execution_count": 79,
      "metadata": {
        "id": "njigh_btpveG"
      },
      "outputs": [],
      "source": [
        "f_importances_list = []\n",
        "\n",
        "for m in model.models:\n",
        "  f_importances = pd.DataFrame(\n",
        "      {\n",
        "        'cols': X_train.drop(['date', 'dttm', 'orders_cnt'] + [f'future_{i}' for i in range(1, NEXT_COLS_CNT + 1)], axis=1).columns,\n",
        "        'importance': m.feature_importance()\n",
        "      }\n",
        "  )\n",
        "  f_importances.loc[f_importances['importance'] > 0].sort_values(by=['importance'], ascending = False)\n",
        "  f_importances_list.append(f_importances)"
      ]
    },
    {
      "cell_type": "code",
      "execution_count": 80,
      "metadata": {
        "colab": {
          "base_uri": "https://localhost:8080/",
          "height": 1000
        },
        "id": "VAeOsqGB7kun",
        "outputId": "6ede4a57-dd3d-4d4d-af87-ad46d4025aa5"
      },
      "outputs": [
        {
          "output_type": "display_data",
          "data": {
            "image/png": "[encoded data removed]",
            "text/plain": [
              "<Figure size 864x504 with 1 Axes>"
            ]
          },
          "metadata": {}
        },
        {
          "output_type": "display_data",
          "data": {
            "image/png": "[encoded data removed]",
            "text/plain": [
              "<Figure size 864x504 with 1 Axes>"
            ]
          },
          "metadata": {}
        },
        {
          "output_type": "display_data",
          "data": {
            "image/png": "[encoded data removed]",
            "text/plain": [
              "<Figure size 864x504 with 1 Axes>"
            ]
          },
          "metadata": {}
        },
        {
          "output_type": "display_data",
          "data": {
            "image/png": "[encoded data removed]",
            "text/plain": [
              "<Figure size 864x504 with 1 Axes>"
            ]
          },
          "metadata": {}
        },
        {
          "output_type": "display_data",
          "data": {
            "image/png": "[encoded data removed]",
            "text/plain": [
              "<Figure size 864x504 with 1 Axes>"
            ]
          },
          "metadata": {}
        },
        {
          "output_type": "display_data",
          "data": {
            "image/png": "[encoded data removed]",
            "text/plain": [
              "<Figure size 864x504 with 1 Axes>"
            ]
          },
          "metadata": {}
        },
        {
          "output_type": "display_data",
          "data": {
            "image/png": "[encoded data removed]",
            "text/plain": [
              "<Figure size 864x504 with 1 Axes>"
            ]
          },
          "metadata": {}
        }
      ],
      "source": [
        "for i, fi in enumerate(f_importances_list):\n",
        "  plt.figure(figsize=(12, 7))\n",
        "  sns.barplot(\n",
        "      x=\"importance\",\n",
        "      y=\"cols\",\n",
        "      data=f_importances_list[i].sort_values(by=\"importance\", ascending=False)[0:20]\n",
        "  )\n",
        "  plt.title(f'LightGBM Features (model {i})')\n",
        "  plt.tight_layout()\n",
        "  plt.show()"
      ]
    },
    {
      "cell_type": "markdown",
      "source": [
        "##### Переобучение на топ-признаках"
      ],
      "metadata": {
        "id": "PfZz2YdfcYTv"
      }
    },
    {
      "cell_type": "code",
      "source": [
        "class LGBMWeekModelTopFeatures(BaseEstimator):\n",
        "    def __init__(self, params_list, f_importances):\n",
        "      self.params = params_list\n",
        "      self.models = []\n",
        "      self.f_importances = f_importances\n",
        "    \n",
        "    def fit(self, data):\n",
        "      for i in tqdm(range(7)):\n",
        "        params = self.params[i]\n",
        "        train_data = data.dropna(subset=[f'future_{i + 1}'])\n",
        "        train_data = train_data.drop(train_data[train_data[f'future_{i + 1}'] == 0].index)\n",
        "        need_columns = self.f_importances[i].sort_values(by=\"importance\", ascending=False)[0:30]['cols'].values\n",
        "        train_data = lgb.Dataset(\n",
        "            train_data[need_columns],\n",
        "            label=train_data[f'future_{i + 1}']\n",
        "        )\n",
        "        model = lgb.train(\n",
        "          params=self.params[i],\n",
        "          train_set=train_data,\n",
        "          valid_sets=[train_data],\n",
        "          num_boost_round=100, \n",
        "          verbose_eval=1000\n",
        "        )\n",
        "        self.models.append(model)\n",
        "    \n",
        "    def predict(self, data):\n",
        "      preds_df = pd.DataFrame()\n",
        "      for i in range(7):\n",
        "        preds_df['pred_' + str(i)] = self.models[i].predict(data)\n",
        "      return preds_df"
      ],
      "metadata": {
        "id": "7esn9kcCaNH_"
      },
      "execution_count": 87,
      "outputs": []
    },
    {
      "cell_type": "code",
      "source": [
        "model = LGBMWeekModelTopFeatures(opt_params, f_importances_list)\n",
        "model.fit(X_train.drop(['date', 'dttm', 'orders_cnt'], axis=1))"
      ],
      "metadata": {
        "colab": {
          "base_uri": "https://localhost:8080/"
        },
        "id": "QknHxm5fZCDw",
        "outputId": "60bfce9b-c34a-49df-91a4-3b289b922020"
      },
      "execution_count": 88,
      "outputs": [
        {
          "output_type": "stream",
          "name": "stderr",
          "text": [
            "100%|██████████| 7/7 [00:26<00:00,  3.79s/it]\n"
          ]
        }
      ]
    },
    {
      "cell_type": "code",
      "source": [
        "res = model.predict(X_val.drop(['date', 'dttm', 'orders_cnt'], axis=1))\n",
        "for i in range(7):\n",
        "  print(mean_absolute_percentage_error(X_val[f'future_{i + 1}'] * X_val['1_week_median'].values, res['pred_' + str(i)] * X_val['1_week_median'].values))"
      ],
      "metadata": {
        "colab": {
          "base_uri": "https://localhost:8080/"
        },
        "id": "nS8rB2ECbABT",
        "outputId": "02199d60-8b0b-4581-b565-3e1b88a01dc3"
      },
      "execution_count": 89,
      "outputs": [
        {
          "output_type": "stream",
          "name": "stdout",
          "text": [
            "0.10848603740584624\n",
            "0.2173784040303575\n",
            "0.12772422233291\n",
            "0.21675978994700912\n",
            "0.13552989297099372\n",
            "0.14010615603286133\n",
            "0.14682976772252357\n"
          ]
        }
      ]
    },
    {
      "cell_type": "code",
      "source": [
        "res = model.predict(X_test.drop(['date', 'dttm', 'orders_cnt'], axis=1))\n",
        "for i in range(7):\n",
        "  print(mean_absolute_percentage_error(X_test[f'future_{i + 1}'] * X_test['1_week_median'].values, res['pred_' + str(i)] * X_test['1_week_median'].values))"
      ],
      "metadata": {
        "colab": {
          "base_uri": "https://localhost:8080/"
        },
        "id": "3FcBJqS_bAWG",
        "outputId": "3f1e4636-d0fb-4b7b-88bb-66e0656dfc0e"
      },
      "execution_count": 90,
      "outputs": [
        {
          "output_type": "stream",
          "name": "stdout",
          "text": [
            "0.08172997917867272\n",
            "0.4332036320121647\n",
            "0.602259918624848\n",
            "0.7293223287060113\n",
            "0.9594613292218345\n",
            "1.1356160189745441\n",
            "1.2862445745255937\n"
          ]
        }
      ]
    }
  ],
  "metadata": {
    "colab": {
      "collapsed_sections": [
        "0vf_TQLen8oW",
        "xJNABjDxoIZO",
        "ySrcgkGUN8z7",
        "xF-zVmmHoNc9",
        "6EX3P8U-kCrp",
        "nF79-ZbzcppI",
        "tnlq9HYqkLww",
        "bwn5DlPS0ohK",
        "-IWeAjz5n1E2",
        "3ycV8JLc1qUp"
      ],
      "name": "сomptech_data_preparation.ipynb",
      "toc_visible": true,
      "provenance": []
    },
    "kernelspec": {
      "display_name": "Python 3",
      "name": "python3"
    },
    "language_info": {
      "name": "python"
    }
  },
  "nbformat": 4,
  "nbformat_minor": 0
}