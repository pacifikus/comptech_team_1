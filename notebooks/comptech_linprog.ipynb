{
  "nbformat": 4,
  "nbformat_minor": 0,
  "metadata": {
    "colab": {
      "name": "comptech_linprog.ipynb",
      "provenance": [],
      "collapsed_sections": []
    },
    "kernelspec": {
      "name": "python3",
      "display_name": "Python 3"
    },
    "language_info": {
      "name": "python"
    }
  },
  "cells": [
    {
      "cell_type": "code",
      "execution_count": 130,
      "metadata": {
        "id": "Q4HanK1oVIaa"
      },
      "outputs": [],
      "source": [
        "import numpy as np\n",
        "from scipy.optimize import linprog\n",
        "\n",
        "import seaborn as sns\n",
        "import matplotlib.pylab as plt"
      ]
    },
    {
      "cell_type": "markdown",
      "source": [
        "Задача: найти такой x, что $c^Tx → \\underset{x}{min}$ при условии, что $A^Tx \\geq h$\n",
        "\n",
        "- $A$ - матрица со всеми возможными сменами всех возможных длин смен\n",
        "- $h$ - входное массив с необходимым количеством курьеров\n",
        "- $c$ - штраф за лишние часы ($\\forall i: c_i = 1  $)"
      ],
      "metadata": {
        "id": "InWdSw3wDVxZ"
      }
    },
    {
      "cell_type": "code",
      "source": [
        "A = []\n",
        "\n",
        "for i in range(4, 9):\n",
        "  for j in range(11 - i + 1):\n",
        "    temp_list = []\n",
        "    temp_list.extend([0]*j)\n",
        "    temp_list.extend([1]*i)\n",
        "    last_zero_slice = 11 - j - i\n",
        "    temp_list.extend([0]*last_zero_slice)\n",
        "    A.append(temp_list)\n",
        "A = np.array(A)"
      ],
      "metadata": {
        "id": "oMbuW-95VLdc"
      },
      "execution_count": 131,
      "outputs": []
    },
    {
      "cell_type": "code",
      "source": [
        "A"
      ],
      "metadata": {
        "colab": {
          "base_uri": "https://localhost:8080/"
        },
        "id": "OjsgI4Rsa8Nr",
        "outputId": "a9304d08-14f2-49a4-cd78-62302422a9aa"
      },
      "execution_count": 132,
      "outputs": [
        {
          "output_type": "execute_result",
          "data": {
            "text/plain": [
              "array([[1, 1, 1, 1, 0, 0, 0, 0, 0, 0, 0],\n",
              "       [0, 1, 1, 1, 1, 0, 0, 0, 0, 0, 0],\n",
              "       [0, 0, 1, 1, 1, 1, 0, 0, 0, 0, 0],\n",
              "       [0, 0, 0, 1, 1, 1, 1, 0, 0, 0, 0],\n",
              "       [0, 0, 0, 0, 1, 1, 1, 1, 0, 0, 0],\n",
              "       [0, 0, 0, 0, 0, 1, 1, 1, 1, 0, 0],\n",
              "       [0, 0, 0, 0, 0, 0, 1, 1, 1, 1, 0],\n",
              "       [0, 0, 0, 0, 0, 0, 0, 1, 1, 1, 1],\n",
              "       [1, 1, 1, 1, 1, 0, 0, 0, 0, 0, 0],\n",
              "       [0, 1, 1, 1, 1, 1, 0, 0, 0, 0, 0],\n",
              "       [0, 0, 1, 1, 1, 1, 1, 0, 0, 0, 0],\n",
              "       [0, 0, 0, 1, 1, 1, 1, 1, 0, 0, 0],\n",
              "       [0, 0, 0, 0, 1, 1, 1, 1, 1, 0, 0],\n",
              "       [0, 0, 0, 0, 0, 1, 1, 1, 1, 1, 0],\n",
              "       [0, 0, 0, 0, 0, 0, 1, 1, 1, 1, 1],\n",
              "       [1, 1, 1, 1, 1, 1, 0, 0, 0, 0, 0],\n",
              "       [0, 1, 1, 1, 1, 1, 1, 0, 0, 0, 0],\n",
              "       [0, 0, 1, 1, 1, 1, 1, 1, 0, 0, 0],\n",
              "       [0, 0, 0, 1, 1, 1, 1, 1, 1, 0, 0],\n",
              "       [0, 0, 0, 0, 1, 1, 1, 1, 1, 1, 0],\n",
              "       [0, 0, 0, 0, 0, 1, 1, 1, 1, 1, 1],\n",
              "       [1, 1, 1, 1, 1, 1, 1, 0, 0, 0, 0],\n",
              "       [0, 1, 1, 1, 1, 1, 1, 1, 0, 0, 0],\n",
              "       [0, 0, 1, 1, 1, 1, 1, 1, 1, 0, 0],\n",
              "       [0, 0, 0, 1, 1, 1, 1, 1, 1, 1, 0],\n",
              "       [0, 0, 0, 0, 1, 1, 1, 1, 1, 1, 1],\n",
              "       [1, 1, 1, 1, 1, 1, 1, 1, 0, 0, 0],\n",
              "       [0, 1, 1, 1, 1, 1, 1, 1, 1, 0, 0],\n",
              "       [0, 0, 1, 1, 1, 1, 1, 1, 1, 1, 0],\n",
              "       [0, 0, 0, 1, 1, 1, 1, 1, 1, 1, 1]])"
            ]
          },
          "metadata": {},
          "execution_count": 132
        }
      ]
    },
    {
      "cell_type": "code",
      "source": [
        "h = [1, 5, 3, 1, 2, 1, 3, 5, 6, 3, 1]\n",
        "h_revert = [-item for item in h]\n",
        "h_revert"
      ],
      "metadata": {
        "colab": {
          "base_uri": "https://localhost:8080/"
        },
        "id": "RtLulh6aaADt",
        "outputId": "58953611-d7cf-4018-fd57-c533af0d206b"
      },
      "execution_count": 133,
      "outputs": [
        {
          "output_type": "execute_result",
          "data": {
            "text/plain": [
              "[-1, -5, -3, -1, -2, -1, -3, -5, -6, -3, -1]"
            ]
          },
          "metadata": {},
          "execution_count": 133
        }
      ]
    },
    {
      "cell_type": "code",
      "source": [
        "c = [1]*30"
      ],
      "metadata": {
        "id": "hS8KXyOUZZ7m"
      },
      "execution_count": 134,
      "outputs": []
    },
    {
      "cell_type": "code",
      "source": [
        "res = linprog(c=c, A_ub=-A.T, b_ub=h_revert, method='simplex')\n",
        "res"
      ],
      "metadata": {
        "colab": {
          "base_uri": "https://localhost:8080/"
        },
        "id": "qHUzGdOzZaAQ",
        "outputId": "41d8d884-13ce-4684-a26d-5a6f594f09f7"
      },
      "execution_count": 135,
      "outputs": [
        {
          "output_type": "execute_result",
          "data": {
            "text/plain": [
              "     con: array([], dtype=float64)\n",
              "     fun: 8.0\n",
              " message: 'Optimization terminated successfully.'\n",
              "     nit: 14\n",
              "   slack: array([0., 0., 2., 4., 2., 2., 2., 1., 0., 0., 0.])\n",
              "  status: 0\n",
              " success: True\n",
              "       x: array([1., 1., 0., 0., 0., 0., 2., 1., 0., 0., 0., 0., 0., 0., 0., 0., 0.,\n",
              "       0., 0., 0., 0., 0., 0., 0., 0., 0., 0., 3., 0., 0.])"
            ]
          },
          "metadata": {},
          "execution_count": 135
        }
      ]
    },
    {
      "cell_type": "code",
      "source": [
        "res = res.x.astype(int)\n",
        "\n",
        "shifts = []\n",
        "for i in res.nonzero()[0]:\n",
        "  for count in range(res[i]):\n",
        "    shifts.append(A[i])\n",
        "\n",
        "shifts = (np.array(shifts).T * np.array([1, 2, 3, 4, 5, 6, 7, 8])).T"
      ],
      "metadata": {
        "id": "0GUJJ8XacGj5"
      },
      "execution_count": 136,
      "outputs": []
    },
    {
      "cell_type": "code",
      "source": [
        "sns.set(rc={'figure.figsize': (15, 8)})\n",
        "\n",
        "def plot_heatmap(data, title):\n",
        "  ax = sns.heatmap(\n",
        "      data, \n",
        "      annot=True, \n",
        "      cmap='coolwarm', \n",
        "      cbar=False, \n",
        "      square=True, \n",
        "      xticklabels=[i for i in range(10, 21)],\n",
        "      yticklabels=[i + 1 for i in range(data.shape[0])]\n",
        "  )\n",
        "  ax.set(xlabel='Интервал времени', ylabel='Номер рабочей смены', title=title)\n",
        "  plt.show()"
      ],
      "metadata": {
        "id": "Qf5G_lnbCY_g"
      },
      "execution_count": 137,
      "outputs": []
    },
    {
      "cell_type": "code",
      "source": [
        "plot_heatmap(shifts, 'Полученные рабочие смены')"
      ],
      "metadata": {
        "colab": {
          "base_uri": "https://localhost:8080/",
          "height": 518
        },
        "id": "arg2NS7LjINi",
        "outputId": "8ac02cf1-70fc-4cd6-e982-8b8c0773bdc6"
      },
      "execution_count": 138,
      "outputs": [
        {
          "output_type": "display_data",
          "data": {
            "image/png": "[encoded data removed]",
            "text/plain": [
              "<Figure size 1080x576 with 1 Axes>"
            ]
          },
          "metadata": {}
        }
      ]
    },
    {
      "cell_type": "code",
      "source": [
        "res = []\n",
        "for i in range(shifts.shape[1]):\n",
        "  non_zero_items =  shifts[:, i][shifts[:, i].nonzero()].tolist() \n",
        "  res.append([0]*(shifts.shape[1] - len(non_zero_items)) + non_zero_items)\n",
        "shift_tiling = np.array(res).T[3:]"
      ],
      "metadata": {
        "id": "BDsiVqxYo_yP"
      },
      "execution_count": 139,
      "outputs": []
    },
    {
      "cell_type": "code",
      "source": [
        "plot_heatmap(shift_tiling, 'Замощение полученными сменами')"
      ],
      "metadata": {
        "colab": {
          "base_uri": "https://localhost:8080/",
          "height": 518
        },
        "id": "Uob_PlGxpg2_",
        "outputId": "81ef48a6-5bd7-4956-cd11-fc15e9a4afc6"
      },
      "execution_count": 140,
      "outputs": [
        {
          "output_type": "display_data",
          "data": {
            "image/png": "[encoded data removed]",
            "text/plain": [
              "<Figure size 1080x576 with 1 Axes>"
            ]
          },
          "metadata": {}
        }
      ]
    }
  ]
}