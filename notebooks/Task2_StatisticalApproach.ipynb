{
 "cells": [
  {
   "cell_type": "markdown",
   "id": "a014029d-f791-48c2-818d-dfbb3acd0ec9",
   "metadata": {
    "tags": []
   },
   "source": [
    "#### Зимняя школа CompTech\n",
    "# Прогноз спроса и планирование рабочих смен"
   ]
  },
  {
   "cell_type": "markdown",
   "id": "16acabce-c3ff-4dc4-a679-9757064c9638",
   "metadata": {},
   "source": [
    "Подзадача 2. В зависимости, сколько будет в i-ый час заказов, рассчитать, сколько надо курьеров\n",
    "\n",
    "Оптимальное количество курьеров: delay rate < 5%"
   ]
  },
  {
   "cell_type": "code",
   "execution_count": 1,
   "id": "e0bfbf77-2e93-47c6-bd3b-affff30bcb0d",
   "metadata": {
    "tags": []
   },
   "outputs": [],
   "source": [
    "import pandas as pd\n",
    "import seaborn as sns\n",
    "import matplotlib.pyplot as plt\n",
    "import numpy as np\n",
    "\n",
    "data_orders = pd.read_csv('./data/orders.csv', parse_dates=['date'])\n",
    "data_partners = pd.read_csv('./data/partners_delays.csv', parse_dates=['dttm'])\n",
    "data_orders.columns = ['delivery_area_id', 'dttm', 'orders_cnt']"
   ]
  },
  {
   "cell_type": "code",
   "execution_count": 2,
   "id": "c9924749-88be-49ea-a767-95ca1b1a4c0d",
   "metadata": {
    "tags": []
   },
   "outputs": [
    {
     "data": {
      "text/html": [
       "<div>\n",
       "<style scoped>\n",
       "    .dataframe tbody tr th:only-of-type {\n",
       "        vertical-align: middle;\n",
       "    }\n",
       "\n",
       "    .dataframe tbody tr th {\n",
       "        vertical-align: top;\n",
       "    }\n",
       "\n",
       "    .dataframe thead th {\n",
       "        text-align: right;\n",
       "    }\n",
       "</style>\n",
       "<table border=\"1\" class=\"dataframe\">\n",
       "  <thead>\n",
       "    <tr style=\"text-align: right;\">\n",
       "      <th></th>\n",
       "      <th>delivery_area_id</th>\n",
       "      <th>dttm</th>\n",
       "      <th>orders_cnt</th>\n",
       "      <th>partners_cnt</th>\n",
       "      <th>delay_rate</th>\n",
       "      <th>date</th>\n",
       "      <th>order_p_partner</th>\n",
       "      <th>delay</th>\n",
       "      <th>orders_cnt_delayed</th>\n",
       "    </tr>\n",
       "  </thead>\n",
       "  <tbody>\n",
       "    <tr>\n",
       "      <th>0</th>\n",
       "      <td>0</td>\n",
       "      <td>2021-04-01 10:00:00</td>\n",
       "      <td>9</td>\n",
       "      <td>4.0</td>\n",
       "      <td>0.111111</td>\n",
       "      <td>2021-04-01</td>\n",
       "      <td>2.25</td>\n",
       "      <td>1</td>\n",
       "      <td>1.0</td>\n",
       "    </tr>\n",
       "    <tr>\n",
       "      <th>1</th>\n",
       "      <td>0</td>\n",
       "      <td>2021-04-01 11:00:00</td>\n",
       "      <td>1</td>\n",
       "      <td>4.0</td>\n",
       "      <td>0.000000</td>\n",
       "      <td>2021-04-01</td>\n",
       "      <td>0.25</td>\n",
       "      <td>0</td>\n",
       "      <td>0.0</td>\n",
       "    </tr>\n",
       "    <tr>\n",
       "      <th>2</th>\n",
       "      <td>0</td>\n",
       "      <td>2021-04-01 13:00:00</td>\n",
       "      <td>1</td>\n",
       "      <td>1.0</td>\n",
       "      <td>0.000000</td>\n",
       "      <td>2021-04-01</td>\n",
       "      <td>1.00</td>\n",
       "      <td>0</td>\n",
       "      <td>0.0</td>\n",
       "    </tr>\n",
       "    <tr>\n",
       "      <th>3</th>\n",
       "      <td>0</td>\n",
       "      <td>2021-04-01 14:00:00</td>\n",
       "      <td>1</td>\n",
       "      <td>1.0</td>\n",
       "      <td>0.000000</td>\n",
       "      <td>2021-04-01</td>\n",
       "      <td>1.00</td>\n",
       "      <td>0</td>\n",
       "      <td>0.0</td>\n",
       "    </tr>\n",
       "    <tr>\n",
       "      <th>4</th>\n",
       "      <td>0</td>\n",
       "      <td>2021-04-01 15:00:00</td>\n",
       "      <td>2</td>\n",
       "      <td>1.0</td>\n",
       "      <td>0.000000</td>\n",
       "      <td>2021-04-01</td>\n",
       "      <td>2.00</td>\n",
       "      <td>0</td>\n",
       "      <td>0.0</td>\n",
       "    </tr>\n",
       "  </tbody>\n",
       "</table>\n",
       "</div>"
      ],
      "text/plain": [
       "   delivery_area_id                dttm  orders_cnt  partners_cnt  delay_rate  \\\n",
       "0                 0 2021-04-01 10:00:00           9           4.0    0.111111   \n",
       "1                 0 2021-04-01 11:00:00           1           4.0    0.000000   \n",
       "2                 0 2021-04-01 13:00:00           1           1.0    0.000000   \n",
       "3                 0 2021-04-01 14:00:00           1           1.0    0.000000   \n",
       "4                 0 2021-04-01 15:00:00           2           1.0    0.000000   \n",
       "\n",
       "         date  order_p_partner  delay  orders_cnt_delayed  \n",
       "0  2021-04-01             2.25      1                 1.0  \n",
       "1  2021-04-01             0.25      0                 0.0  \n",
       "2  2021-04-01             1.00      0                 0.0  \n",
       "3  2021-04-01             1.00      0                 0.0  \n",
       "4  2021-04-01             2.00      0                 0.0  "
      ]
     },
     "execution_count": 2,
     "metadata": {},
     "output_type": "execute_result"
    }
   ],
   "source": [
    "df = pd.merge(data_orders, data_partners, on=['dttm', 'delivery_area_id'], how='inner')\n",
    "df['date'] = df['dttm'].dt.date\n",
    "df['order_p_partner'] = df['orders_cnt'] / df['partners_cnt']\n",
    "delay_threshold = 0.05\n",
    "df['delay'] = np.where(df['delay_rate'] <= delay_threshold, 0, 1)\n",
    "df['orders_cnt_delayed'] = df['orders_cnt'] * df['delay_rate']\n",
    "\n",
    "df.head()\n"
   ]
  },
  {
   "cell_type": "code",
   "execution_count": 3,
   "id": "2d0a60c6-6a9e-402d-a87a-5c002e53fdac",
   "metadata": {},
   "outputs": [
    {
     "data": {
      "text/plain": [
       "count    593.000000\n",
       "mean       0.047286\n",
       "std        0.016635\n",
       "min        0.017442\n",
       "25%        0.035758\n",
       "50%        0.044612\n",
       "75%        0.056736\n",
       "max        0.120906\n",
       "Name: global_delay_share, dtype: float64"
      ]
     },
     "execution_count": 3,
     "metadata": {},
     "output_type": "execute_result"
    },
    {
     "data": {
      "image/png": "[encoded data removed]",
      "text/plain": [
       "<Figure size 432x288 with 1 Axes>"
      ]
     },
     "metadata": {
      "needs_background": "light"
     },
     "output_type": "display_data"
    }
   ],
   "source": [
    "df_delays = df.groupby('delivery_area_id')[['orders_cnt', 'orders_cnt_delayed']].sum()\n",
    "df_delays['global_delay_share'] = df_delays['orders_cnt_delayed'] / df_delays['orders_cnt']\n",
    "\n",
    "# saving id of delivery areas where global delay rate <= threshold\n",
    "delivery_area_good_stat = list(df_delays[df_delays['global_delay_share'] <= delay_threshold].index)\n",
    "\n",
    "# plot global delay rate\n",
    "sns.histplot(data=df_delays, x='global_delay_share', color='r')\n",
    "sns.histplot(data=df_delays[df_delays.index.isin(delivery_area_good_stat)], x='global_delay_share')\n",
    "df_delays['global_delay_share'].describe()"
   ]
  },
  {
   "cell_type": "code",
   "execution_count": 4,
   "id": "a1d9a210-5063-4e97-9035-984a22aa75bc",
   "metadata": {},
   "outputs": [
    {
     "data": {
      "text/plain": [
       "count    884856.000000\n",
       "mean          1.500624\n",
       "std           0.579608\n",
       "min           0.052632\n",
       "25%           1.000000\n",
       "50%           1.500000\n",
       "75%           2.000000\n",
       "max           3.142857\n",
       "Name: order_p_partner, dtype: float64"
      ]
     },
     "execution_count": 4,
     "metadata": {},
     "output_type": "execute_result"
    },
    {
     "data": {
      "image/png": "[encoded data removed]",
      "text/plain": [
       "<Figure size 432x288 with 1 Axes>"
      ]
     },
     "metadata": {
      "needs_background": "light"
     },
     "output_type": "display_data"
    }
   ],
   "source": [
    "sns.histplot(data=df, x='order_p_partner', color='r')\n",
    "df['order_p_partner'].describe()"
   ]
  },
  {
   "cell_type": "code",
   "execution_count": 5,
   "id": "3bb72641-37c4-4001-9fa8-1955dbd9b198",
   "metadata": {},
   "outputs": [
    {
     "data": {
      "text/plain": [
       "count    380.000000\n",
       "mean       1.806930\n",
       "std        0.694067\n",
       "min        0.200000\n",
       "25%        1.000000\n",
       "50%        2.000000\n",
       "75%        2.333333\n",
       "max        3.000000\n",
       "Name: order_p_partner, dtype: float64"
      ]
     },
     "execution_count": 5,
     "metadata": {},
     "output_type": "execute_result"
    },
    {
     "data": {
      "image/png": "[encoded data removed]",
      "text/plain": [
       "<Figure size 432x288 with 1 Axes>"
      ]
     },
     "metadata": {
      "needs_background": "light"
     },
     "output_type": "display_data"
    }
   ],
   "source": [
    "sns.histplot(data=df[df.index.isin(delivery_area_good_stat)], x='order_p_partner')\n",
    "df[df.index.isin(delivery_area_good_stat)]['order_p_partner'].describe()"
   ]
  },
  {
   "cell_type": "code",
   "execution_count": 6,
   "id": "612f8172-4301-4af9-a517-4112f18e428f",
   "metadata": {},
   "outputs": [],
   "source": [
    "def get_bootstrap_ci(df, num_experiments=1000, alpha=0.05):\n",
    "    '''\n",
    "    Функция считает доверительный интервал (двусторонний) при помощи бутстрэпа.\n",
    "    ---\n",
    "    Параметры:\n",
    "        df               -- датафрейм\n",
    "        num_experiments  -- количество экспериментов в симуляции\n",
    "        alpha            -- уровень значимости  \n",
    "    \n",
    "    '''\n",
    "    # формируем выборку CTR\n",
    "    mean_data = []\n",
    "    for i in range(num_experiments):\n",
    "        sample = df.sample(frac=0.5, replace=True)\n",
    "        mean = sample.mean()\n",
    "        mean_data.append(mean)\n",
    "    \n",
    "    # рассчитываем границы доварительного интервала\n",
    "    ci = np.percentile(mean_data, [100 * alpha / 2.0, 100 * (1 - alpha / 2.0)])\n",
    "    \n",
    "    return ci\n",
    "\n",
    "# устанавливаем уровень значимости\n",
    "alpha=0.05"
   ]
  },
  {
   "cell_type": "code",
   "execution_count": 7,
   "id": "33410fcf-1e08-487f-b14c-caf4d4a6a5f3",
   "metadata": {
    "tags": []
   },
   "outputs": [
    {
     "name": "stdout",
     "output_type": "stream",
     "text": [
      "0.95 доверительный интервал составляет [1.404; 1.407]\n"
     ]
    }
   ],
   "source": [
    "# рассчитываем доверительный интервал - фильтр на уровне самого датасета (опоздания <= трешхолд)\n",
    "low, high = get_bootstrap_ci(\n",
    "    df[df['delay_rate'] <= delay_threshold]['order_p_partner'], num_experiments=1000, alpha=alpha)\n",
    "message = f'{(1-alpha):.2f} доверительный интервал составляет [{low:.3f}; {high:.3f}]'\n",
    "print(message)"
   ]
  },
  {
   "cell_type": "code",
   "execution_count": 8,
   "id": "0260b89c-77d5-4a42-8592-cc14e401ecd6",
   "metadata": {},
   "outputs": [
    {
     "name": "stdout",
     "output_type": "stream",
     "text": [
      "0.95 доверительный интервал составляет [1.706; 1.904]\n"
     ]
    }
   ],
   "source": [
    "# рассчитываем доверительный интервал - фильтр на уровне global delay rate (опоздания <= трешхолд)\n",
    "low, high = get_bootstrap_ci(\n",
    "    df[df.index.isin(delivery_area_good_stat)]['order_p_partner'], num_experiments=1000, alpha=alpha)\n",
    "message = f'{(1-alpha):.2f} доверительный интервал составляет [{low:.3f}; {high:.3f}]'\n",
    "print(message)"
   ]
  },
  {
   "cell_type": "code",
   "execution_count": null,
   "id": "b2324052-0a0c-464f-8539-97a37080e30d",
   "metadata": {},
   "outputs": [],
   "source": [
    "# рассчитываем доверительный интервал по всему датасету\n",
    "low, high = get_bootstrap_ci(\n",
    "    df['order_p_partner'], num_experiments=1000, alpha=alpha)\n",
    "message = f'{(1-alpha):.2f} доверительный интервал составляет [{low:.3f}; {high:.3f}]'\n",
    "print(message)"
   ]
  }
 ],
 "metadata": {
  "kernelspec": {
   "display_name": "Python 3 (ipykernel)",
   "language": "python",
   "name": "python3"
  },
  "language_info": {
   "codemirror_mode": {
    "name": "ipython",
    "version": 3
   },
   "file_extension": ".py",
   "mimetype": "text/x-python",
   "name": "python",
   "nbconvert_exporter": "python",
   "pygments_lexer": "ipython3",
   "version": "3.9.7"
  }
 },
 "nbformat": 4,
 "nbformat_minor": 5
}
